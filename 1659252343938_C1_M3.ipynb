{
  "cells": [
    {
      "cell_type": "markdown",
      "id": "8e75bc7a-ed6c-4bf6-b22a-0f21a567ce1a",
      "metadata": {
        "id": "8e75bc7a-ed6c-4bf6-b22a-0f21a567ce1a"
      },
      "source": [
        "# Модуль 3. Проведение кластерного анализа и выявление зависимостей в данных"
      ]
    },
    {
      "cell_type": "markdown",
      "id": "fe2dc0bd-fb23-437d-a215-9be15674b6ef",
      "metadata": {
        "id": "fe2dc0bd-fb23-437d-a215-9be15674b6ef"
      },
      "source": [
        "## 0 Предисловие"
      ]
    },
    {
      "cell_type": "markdown",
      "id": "98cb0fce-f55f-4851-8fa4-bc751c065cb7",
      "metadata": {
        "id": "98cb0fce-f55f-4851-8fa4-bc751c065cb7"
      },
      "source": [
        "### 0.1 Импорт библиотек"
      ]
    },
    {
      "cell_type": "code",
      "execution_count": null,
      "id": "c0394a87-e004-4d7a-baa3-ccea64e36f24",
      "metadata": {
        "id": "c0394a87-e004-4d7a-baa3-ccea64e36f24"
      },
      "outputs": [],
      "source": [
        "import pandas as pd\n",
        "import numpy as np"
      ]
    },
    {
      "cell_type": "code",
      "execution_count": null,
      "id": "f7952424-397b-469d-b9da-3becaf91c964",
      "metadata": {
        "id": "f7952424-397b-469d-b9da-3becaf91c964"
      },
      "outputs": [],
      "source": [
        "import matplotlib.pyplot as plt\n",
        "import seaborn as sns"
      ]
    },
    {
      "cell_type": "code",
      "execution_count": null,
      "id": "71c7bf33-cf76-4837-b72d-6fe06a49e91a",
      "metadata": {
        "id": "71c7bf33-cf76-4837-b72d-6fe06a49e91a"
      },
      "outputs": [],
      "source": [
        "import cv2"
      ]
    },
    {
      "cell_type": "code",
      "execution_count": null,
      "id": "f3190de7-9107-4c58-a973-b5d3e43d15ed",
      "metadata": {
        "id": "f3190de7-9107-4c58-a973-b5d3e43d15ed"
      },
      "outputs": [],
      "source": [
        "from PIL import Image"
      ]
    },
    {
      "cell_type": "code",
      "execution_count": null,
      "id": "42a971a8-b345-4c6e-83bc-b1478bb0b34a",
      "metadata": {
        "id": "42a971a8-b345-4c6e-83bc-b1478bb0b34a"
      },
      "outputs": [],
      "source": [
        "from tqdm.notebook import tqdm"
      ]
    },
    {
      "cell_type": "code",
      "execution_count": null,
      "id": "a8099277-6c21-4fb5-81f8-b11c45366e74",
      "metadata": {
        "id": "a8099277-6c21-4fb5-81f8-b11c45366e74"
      },
      "outputs": [],
      "source": [
        "import warnings\n",
        "warnings.filterwarnings('ignore')"
      ]
    },
    {
      "cell_type": "code",
      "execution_count": null,
      "id": "09791c27-79b1-4f61-a0ab-aa0bf4a285db",
      "metadata": {
        "id": "09791c27-79b1-4f61-a0ab-aa0bf4a285db"
      },
      "outputs": [],
      "source": [
        "import os"
      ]
    },
    {
      "cell_type": "code",
      "execution_count": null,
      "id": "a5e48303-0cb7-4d9b-a4b1-c01a6447f848",
      "metadata": {
        "id": "a5e48303-0cb7-4d9b-a4b1-c01a6447f848"
      },
      "outputs": [],
      "source": [
        "from scipy.io import wavfile"
      ]
    },
    {
      "cell_type": "code",
      "execution_count": null,
      "id": "717e2c36-b775-4dd2-ab1f-bff2171a63f5",
      "metadata": {
        "id": "717e2c36-b775-4dd2-ab1f-bff2171a63f5"
      },
      "outputs": [],
      "source": [
        "import pickle as pkl"
      ]
    },
    {
      "cell_type": "code",
      "execution_count": null,
      "id": "09a8a246-3ad2-4804-a63a-265d6dab1600",
      "metadata": {
        "id": "09a8a246-3ad2-4804-a63a-265d6dab1600"
      },
      "outputs": [],
      "source": [
        "import scipy.signal as signal"
      ]
    },
    {
      "cell_type": "code",
      "execution_count": null,
      "id": "198b1239-5d0d-4939-b31c-b8a1e89168c1",
      "metadata": {
        "id": "198b1239-5d0d-4939-b31c-b8a1e89168c1"
      },
      "outputs": [],
      "source": [
        "RANDOM_STATE=666"
      ]
    },
    {
      "cell_type": "markdown",
      "id": "30d77ea6-b85e-42b8-a7eb-a600bf7c997b",
      "metadata": {
        "id": "30d77ea6-b85e-42b8-a7eb-a600bf7c997b"
      },
      "source": [
        "### 0.2 Загрузка результатов модуля B"
      ]
    },
    {
      "cell_type": "code",
      "execution_count": null,
      "id": "41aba489-5f55-4ba9-bbb7-8e0a52668153",
      "metadata": {
        "id": "41aba489-5f55-4ba9-bbb7-8e0a52668153",
        "outputId": "e61f4799-f75c-44c6-aee8-3b3818fd19e9"
      },
      "outputs": [
        {
          "name": "stdout",
          "output_type": "stream",
          "text": [
            "CPU times: total: 62.5 ms\n",
            "Wall time: 59.8 ms\n"
          ]
        }
      ],
      "source": [
        "%%time\n",
        "try:\n",
        "    with open('..\\\\C1_M2\\\\exp_df.data', 'rb') as f:\n",
        "        exp_df = pkl.load(f)\n",
        "except Exception as e:\n",
        "    print(e)"
      ]
    },
    {
      "cell_type": "code",
      "execution_count": null,
      "id": "8eef0cbb-5f13-4986-83f3-b56920002dc9",
      "metadata": {
        "id": "8eef0cbb-5f13-4986-83f3-b56920002dc9",
        "outputId": "c0d9ef2a-b38e-4dad-93bf-790343673e79"
      },
      "outputs": [
        {
          "data": {
            "text/html": [
              "<div>\n",
              "<style scoped>\n",
              "    .dataframe tbody tr th:only-of-type {\n",
              "        vertical-align: middle;\n",
              "    }\n",
              "\n",
              "    .dataframe tbody tr th {\n",
              "        vertical-align: top;\n",
              "    }\n",
              "\n",
              "    .dataframe thead th {\n",
              "        text-align: right;\n",
              "    }\n",
              "</style>\n",
              "<table border=\"1\" class=\"dataframe\">\n",
              "  <thead>\n",
              "    <tr style=\"text-align: right;\">\n",
              "      <th></th>\n",
              "      <th>co2</th>\n",
              "      <th>a</th>\n",
              "      <th>vl</th>\n",
              "      <th>v</th>\n",
              "      <th>w</th>\n",
              "      <th>ws</th>\n",
              "      <th>t</th>\n",
              "      <th>volt</th>\n",
              "      <th>num_experiment</th>\n",
              "      <th>0</th>\n",
              "      <th>...</th>\n",
              "      <th>76794</th>\n",
              "      <th>76795</th>\n",
              "      <th>76796</th>\n",
              "      <th>76797</th>\n",
              "      <th>76798</th>\n",
              "      <th>76799</th>\n",
              "      <th>p</th>\n",
              "      <th>t_teplo</th>\n",
              "      <th>acoustic_info</th>\n",
              "      <th>herz</th>\n",
              "    </tr>\n",
              "  </thead>\n",
              "  <tbody>\n",
              "    <tr>\n",
              "      <th>1564</th>\n",
              "      <td>397</td>\n",
              "      <td>0.330801</td>\n",
              "      <td>90</td>\n",
              "      <td>754.0</td>\n",
              "      <td>-510.683010</td>\n",
              "      <td>4.5</td>\n",
              "      <td>27.6</td>\n",
              "      <td>46.099305</td>\n",
              "      <td>6</td>\n",
              "      <td>130</td>\n",
              "      <td>...</td>\n",
              "      <td>128</td>\n",
              "      <td>128</td>\n",
              "      <td>128</td>\n",
              "      <td>128</td>\n",
              "      <td>128</td>\n",
              "      <td>128</td>\n",
              "      <td>15.249701</td>\n",
              "      <td>7893599892527608949</td>\n",
              "      <td>-6696486925258522488</td>\n",
              "      <td>500000</td>\n",
              "    </tr>\n",
              "    <tr>\n",
              "      <th>1792</th>\n",
              "      <td>300</td>\n",
              "      <td>1.410549</td>\n",
              "      <td>90</td>\n",
              "      <td>752.0</td>\n",
              "      <td>-126.400381</td>\n",
              "      <td>4.8</td>\n",
              "      <td>25.2</td>\n",
              "      <td>189.667281</td>\n",
              "      <td>7</td>\n",
              "      <td>126</td>\n",
              "      <td>...</td>\n",
              "      <td>128</td>\n",
              "      <td>128</td>\n",
              "      <td>128</td>\n",
              "      <td>128</td>\n",
              "      <td>128</td>\n",
              "      <td>128</td>\n",
              "      <td>267.535058</td>\n",
              "      <td>7893599892527608949</td>\n",
              "      <td>-6696486925258522488</td>\n",
              "      <td>1000000</td>\n",
              "    </tr>\n",
              "    <tr>\n",
              "      <th>2261</th>\n",
              "      <td>306</td>\n",
              "      <td>-0.997850</td>\n",
              "      <td>90</td>\n",
              "      <td>751.0</td>\n",
              "      <td>-17.363543</td>\n",
              "      <td>5.9</td>\n",
              "      <td>27.4</td>\n",
              "      <td>-132.097746</td>\n",
              "      <td>9</td>\n",
              "      <td>127</td>\n",
              "      <td>...</td>\n",
              "      <td>128</td>\n",
              "      <td>128</td>\n",
              "      <td>128</td>\n",
              "      <td>128</td>\n",
              "      <td>128</td>\n",
              "      <td>128</td>\n",
              "      <td>131.813789</td>\n",
              "      <td>7893599892527608949</td>\n",
              "      <td>-6696486925258522488</td>\n",
              "      <td>1000000</td>\n",
              "    </tr>\n",
              "    <tr>\n",
              "      <th>847</th>\n",
              "      <td>317</td>\n",
              "      <td>-1.277721</td>\n",
              "      <td>91</td>\n",
              "      <td>750.0</td>\n",
              "      <td>48.181946</td>\n",
              "      <td>4.2</td>\n",
              "      <td>26.9</td>\n",
              "      <td>-167.009602</td>\n",
              "      <td>4</td>\n",
              "      <td>129</td>\n",
              "      <td>...</td>\n",
              "      <td>128</td>\n",
              "      <td>128</td>\n",
              "      <td>128</td>\n",
              "      <td>128</td>\n",
              "      <td>128</td>\n",
              "      <td>128</td>\n",
              "      <td>213.391593</td>\n",
              "      <td>7893599892527608949</td>\n",
              "      <td>-6696486925258522488</td>\n",
              "      <td>500000</td>\n",
              "    </tr>\n",
              "    <tr>\n",
              "      <th>1032</th>\n",
              "      <td>386</td>\n",
              "      <td>-1.626536</td>\n",
              "      <td>91</td>\n",
              "      <td>750.0</td>\n",
              "      <td>297.548639</td>\n",
              "      <td>4.4</td>\n",
              "      <td>28.8</td>\n",
              "      <td>-217.410733</td>\n",
              "      <td>4</td>\n",
              "      <td>128</td>\n",
              "      <td>...</td>\n",
              "      <td>128</td>\n",
              "      <td>128</td>\n",
              "      <td>128</td>\n",
              "      <td>128</td>\n",
              "      <td>128</td>\n",
              "      <td>128</td>\n",
              "      <td>353.626392</td>\n",
              "      <td>7893599892527608949</td>\n",
              "      <td>-6696486925258522488</td>\n",
              "      <td>500000</td>\n",
              "    </tr>\n",
              "  </tbody>\n",
              "</table>\n",
              "<p>5 rows × 76813 columns</p>\n",
              "</div>"
            ],
            "text/plain": [
              "      co2         a  vl      v           w   ws     t        volt  \\\n",
              "1564  397  0.330801  90  754.0 -510.683010  4.5  27.6   46.099305   \n",
              "1792  300  1.410549  90  752.0 -126.400381  4.8  25.2  189.667281   \n",
              "2261  306 -0.997850  90  751.0  -17.363543  5.9  27.4 -132.097746   \n",
              "847   317 -1.277721  91  750.0   48.181946  4.2  26.9 -167.009602   \n",
              "1032  386 -1.626536  91  750.0  297.548639  4.4  28.8 -217.410733   \n",
              "\n",
              "      num_experiment    0  ...  76794  76795  76796  76797  76798  76799  \\\n",
              "1564               6  130  ...    128    128    128    128    128    128   \n",
              "1792               7  126  ...    128    128    128    128    128    128   \n",
              "2261               9  127  ...    128    128    128    128    128    128   \n",
              "847                4  129  ...    128    128    128    128    128    128   \n",
              "1032               4  128  ...    128    128    128    128    128    128   \n",
              "\n",
              "               p              t_teplo        acoustic_info     herz  \n",
              "1564   15.249701  7893599892527608949 -6696486925258522488   500000  \n",
              "1792  267.535058  7893599892527608949 -6696486925258522488  1000000  \n",
              "2261  131.813789  7893599892527608949 -6696486925258522488  1000000  \n",
              "847   213.391593  7893599892527608949 -6696486925258522488   500000  \n",
              "1032  353.626392  7893599892527608949 -6696486925258522488   500000  \n",
              "\n",
              "[5 rows x 76813 columns]"
            ]
          },
          "execution_count": 12,
          "metadata": {},
          "output_type": "execute_result"
        }
      ],
      "source": [
        "exp_df.sample(5)"
      ]
    },
    {
      "cell_type": "markdown",
      "id": "cde65d4e-c81d-43e1-a79d-2aca5646f2a4",
      "metadata": {
        "id": "cde65d4e-c81d-43e1-a79d-2aca5646f2a4"
      },
      "source": [
        "### 0.3 Генерация признака температуры из видео"
      ]
    },
    {
      "cell_type": "code",
      "execution_count": null,
      "id": "8cf2c6e0-0837-49bd-917d-291108fcec8c",
      "metadata": {
        "id": "8cf2c6e0-0837-49bd-917d-291108fcec8c"
      },
      "outputs": [],
      "source": [
        "temp_1 = np.linspace(25.3, 95.7, exp_df.query('num_experiment == 1').shape[0])"
      ]
    },
    {
      "cell_type": "code",
      "execution_count": null,
      "id": "e4905da1-6e6b-41a9-89ed-0f846171da4a",
      "metadata": {
        "id": "e4905da1-6e6b-41a9-89ed-0f846171da4a"
      },
      "outputs": [],
      "source": [
        "temp_2 = np.linspace(26.4, 96.4, exp_df.query('num_experiment == 2').shape[0])"
      ]
    },
    {
      "cell_type": "code",
      "execution_count": null,
      "id": "dd334a20-460c-45a2-96a7-35cab8417efe",
      "metadata": {
        "id": "dd334a20-460c-45a2-96a7-35cab8417efe"
      },
      "outputs": [],
      "source": [
        "temp_3 = np.linspace(26.3, 96.5, exp_df.query('num_experiment == 3').shape[0])"
      ]
    },
    {
      "cell_type": "code",
      "execution_count": null,
      "id": "a390d427-a2c3-427f-b4fc-04563848fb5d",
      "metadata": {
        "id": "a390d427-a2c3-427f-b4fc-04563848fb5d"
      },
      "outputs": [],
      "source": [
        "temp_4 = np.linspace(27.5, 96.5, exp_df.query('num_experiment == 4').shape[0])"
      ]
    },
    {
      "cell_type": "code",
      "execution_count": null,
      "id": "be3145ff-c9fd-4be1-aebb-bd5a23319ee3",
      "metadata": {
        "id": "be3145ff-c9fd-4be1-aebb-bd5a23319ee3"
      },
      "outputs": [],
      "source": [
        "temp_5 = np.linspace(26.0, 96.2, exp_df.query('num_experiment == 5').shape[0])"
      ]
    },
    {
      "cell_type": "code",
      "execution_count": null,
      "id": "287957d6-6dce-4576-926a-37e8e2c57ef2",
      "metadata": {
        "id": "287957d6-6dce-4576-926a-37e8e2c57ef2"
      },
      "outputs": [],
      "source": [
        "temp_6 = np.linspace(26.2, 96.4, exp_df.query('num_experiment == 6').shape[0])"
      ]
    },
    {
      "cell_type": "code",
      "execution_count": null,
      "id": "4a232c4e-64a6-4446-a5fe-4c4e0989789b",
      "metadata": {
        "id": "4a232c4e-64a6-4446-a5fe-4c4e0989789b"
      },
      "outputs": [],
      "source": [
        "temp_7 = np.linspace(25.0, 96.4, exp_df.query('num_experiment == 7').shape[0])"
      ]
    },
    {
      "cell_type": "code",
      "execution_count": null,
      "id": "af6da28c-fb00-41a3-8576-c3274362e793",
      "metadata": {
        "id": "af6da28c-fb00-41a3-8576-c3274362e793"
      },
      "outputs": [],
      "source": [
        "temp_8 = np.linspace(24.9, 96.2, exp_df.query('num_experiment == 8').shape[0])"
      ]
    },
    {
      "cell_type": "code",
      "execution_count": null,
      "id": "27ef3438-f3d1-4913-a3ed-05a1ca79cb9c",
      "metadata": {
        "id": "27ef3438-f3d1-4913-a3ed-05a1ca79cb9c"
      },
      "outputs": [],
      "source": [
        "temp_9 = np.linspace(24.5, 96.3, exp_df.query('num_experiment == 9').shape[0])"
      ]
    },
    {
      "cell_type": "code",
      "execution_count": null,
      "id": "384d05fb-edde-4a08-9be2-32412b5d23e0",
      "metadata": {
        "id": "384d05fb-edde-4a08-9be2-32412b5d23e0"
      },
      "outputs": [],
      "source": [
        "temp = np.concatenate((temp_1, temp_2, temp_3, temp_4, temp_5, temp_6, temp_7, temp_8, temp_9))"
      ]
    },
    {
      "cell_type": "code",
      "execution_count": null,
      "id": "50b2ca0d-232e-4e8a-9d21-11a152f67232",
      "metadata": {
        "id": "50b2ca0d-232e-4e8a-9d21-11a152f67232",
        "outputId": "5cd96d8d-384f-4b66-e7a3-8aeaf7187966"
      },
      "outputs": [
        {
          "data": {
            "text/plain": [
              "(2544,)"
            ]
          },
          "execution_count": 23,
          "metadata": {},
          "output_type": "execute_result"
        }
      ],
      "source": [
        "temp.shape"
      ]
    },
    {
      "cell_type": "code",
      "execution_count": null,
      "id": "d318fe48-1cc4-4d43-b2e1-46340009aa11",
      "metadata": {
        "id": "d318fe48-1cc4-4d43-b2e1-46340009aa11",
        "outputId": "16bf2618-4b42-4192-f1b1-e5526c27d077"
      },
      "outputs": [
        {
          "data": {
            "text/plain": [
              "(2544, 76813)"
            ]
          },
          "execution_count": 24,
          "metadata": {},
          "output_type": "execute_result"
        }
      ],
      "source": [
        "exp_df.shape"
      ]
    },
    {
      "cell_type": "code",
      "execution_count": null,
      "id": "d1e270de-975b-430e-b229-3e8c5874705e",
      "metadata": {
        "id": "d1e270de-975b-430e-b229-3e8c5874705e"
      },
      "outputs": [],
      "source": [
        "exp_df['temp'] = temp"
      ]
    },
    {
      "cell_type": "markdown",
      "id": "3088f6ac-a051-46d9-8580-70c725748c57",
      "metadata": {
        "id": "3088f6ac-a051-46d9-8580-70c725748c57"
      },
      "source": [
        "## 1. Выбор переменных для построения модели"
      ]
    },
    {
      "cell_type": "markdown",
      "id": "688bfaab-1750-415a-986c-24248bd9b7ce",
      "metadata": {
        "id": "688bfaab-1750-415a-986c-24248bd9b7ce"
      },
      "source": [
        "### 1.1 Корреляционные матрицы"
      ]
    },
    {
      "cell_type": "markdown",
      "id": "b02b7dce-2f8b-48d1-9902-45ebefb10682",
      "metadata": {
        "id": "b02b7dce-2f8b-48d1-9902-45ebefb10682"
      },
      "source": [
        "Построим корреляционную матрицу для признаков, НЕ построенных из кадров видео"
      ]
    },
    {
      "cell_type": "code",
      "execution_count": null,
      "id": "aa396c60-0016-4219-b423-d288cb765257",
      "metadata": {
        "id": "aa396c60-0016-4219-b423-d288cb765257"
      },
      "outputs": [],
      "source": [
        "cols = ['co2', 'a', 'vl', 'v', 'w', 'ws', 't', 'volt', 'num_experiment', 'p', 'herz', 'temp']"
      ]
    },
    {
      "cell_type": "code",
      "execution_count": null,
      "id": "b7059824-cfb2-4a8d-b96a-8326db69eb9a",
      "metadata": {
        "id": "b7059824-cfb2-4a8d-b96a-8326db69eb9a"
      },
      "outputs": [],
      "source": [
        "exp_corr = exp_df[cols].corr()"
      ]
    },
    {
      "cell_type": "code",
      "execution_count": null,
      "id": "33f09699-7f67-42a7-90c2-4c1adaee3740",
      "metadata": {
        "id": "33f09699-7f67-42a7-90c2-4c1adaee3740",
        "outputId": "4e38afd2-6743-4a0d-acf7-eccc748bd6ad"
      },
      "outputs": [
        {
          "data": {
            "text/html": [
              "<div>\n",
              "<style scoped>\n",
              "    .dataframe tbody tr th:only-of-type {\n",
              "        vertical-align: middle;\n",
              "    }\n",
              "\n",
              "    .dataframe tbody tr th {\n",
              "        vertical-align: top;\n",
              "    }\n",
              "\n",
              "    .dataframe thead th {\n",
              "        text-align: right;\n",
              "    }\n",
              "</style>\n",
              "<table border=\"1\" class=\"dataframe\">\n",
              "  <thead>\n",
              "    <tr style=\"text-align: right;\">\n",
              "      <th></th>\n",
              "      <th>co2</th>\n",
              "      <th>a</th>\n",
              "      <th>vl</th>\n",
              "      <th>v</th>\n",
              "      <th>w</th>\n",
              "      <th>ws</th>\n",
              "      <th>t</th>\n",
              "      <th>volt</th>\n",
              "      <th>num_experiment</th>\n",
              "      <th>p</th>\n",
              "      <th>herz</th>\n",
              "      <th>temp</th>\n",
              "    </tr>\n",
              "  </thead>\n",
              "  <tbody>\n",
              "    <tr>\n",
              "      <th>co2</th>\n",
              "      <td>1.000000</td>\n",
              "      <td>0.008914</td>\n",
              "      <td>-0.003186</td>\n",
              "      <td>0.033440</td>\n",
              "      <td>-0.009468</td>\n",
              "      <td>-0.007910</td>\n",
              "      <td>-0.007894</td>\n",
              "      <td>0.009522</td>\n",
              "      <td>-0.034680</td>\n",
              "      <td>0.047175</td>\n",
              "      <td>-0.034659</td>\n",
              "      <td>-0.013886</td>\n",
              "    </tr>\n",
              "    <tr>\n",
              "      <th>a</th>\n",
              "      <td>0.008914</td>\n",
              "      <td>1.000000</td>\n",
              "      <td>0.031787</td>\n",
              "      <td>0.027597</td>\n",
              "      <td>-0.125315</td>\n",
              "      <td>0.005417</td>\n",
              "      <td>0.000936</td>\n",
              "      <td>0.999271</td>\n",
              "      <td>-0.056974</td>\n",
              "      <td>-0.038147</td>\n",
              "      <td>-0.056613</td>\n",
              "      <td>0.153207</td>\n",
              "    </tr>\n",
              "    <tr>\n",
              "      <th>vl</th>\n",
              "      <td>-0.003186</td>\n",
              "      <td>0.031787</td>\n",
              "      <td>1.000000</td>\n",
              "      <td>-0.000493</td>\n",
              "      <td>-0.008724</td>\n",
              "      <td>0.009549</td>\n",
              "      <td>0.018889</td>\n",
              "      <td>0.031815</td>\n",
              "      <td>0.014310</td>\n",
              "      <td>-0.014342</td>\n",
              "      <td>0.011391</td>\n",
              "      <td>0.066320</td>\n",
              "    </tr>\n",
              "    <tr>\n",
              "      <th>v</th>\n",
              "      <td>0.033440</td>\n",
              "      <td>0.027597</td>\n",
              "      <td>-0.000493</td>\n",
              "      <td>1.000000</td>\n",
              "      <td>0.029693</td>\n",
              "      <td>0.030593</td>\n",
              "      <td>-0.018456</td>\n",
              "      <td>0.026792</td>\n",
              "      <td>-0.004263</td>\n",
              "      <td>-0.007534</td>\n",
              "      <td>-0.002211</td>\n",
              "      <td>-0.002452</td>\n",
              "    </tr>\n",
              "    <tr>\n",
              "      <th>w</th>\n",
              "      <td>-0.009468</td>\n",
              "      <td>-0.125315</td>\n",
              "      <td>-0.008724</td>\n",
              "      <td>0.029693</td>\n",
              "      <td>1.000000</td>\n",
              "      <td>-0.016549</td>\n",
              "      <td>-0.012166</td>\n",
              "      <td>-0.125082</td>\n",
              "      <td>0.033158</td>\n",
              "      <td>-0.039744</td>\n",
              "      <td>0.029369</td>\n",
              "      <td>-0.032009</td>\n",
              "    </tr>\n",
              "    <tr>\n",
              "      <th>ws</th>\n",
              "      <td>-0.007910</td>\n",
              "      <td>0.005417</td>\n",
              "      <td>0.009549</td>\n",
              "      <td>0.030593</td>\n",
              "      <td>-0.016549</td>\n",
              "      <td>1.000000</td>\n",
              "      <td>0.036070</td>\n",
              "      <td>0.005664</td>\n",
              "      <td>0.011257</td>\n",
              "      <td>-0.010258</td>\n",
              "      <td>0.016092</td>\n",
              "      <td>0.028267</td>\n",
              "    </tr>\n",
              "    <tr>\n",
              "      <th>t</th>\n",
              "      <td>-0.007894</td>\n",
              "      <td>0.000936</td>\n",
              "      <td>0.018889</td>\n",
              "      <td>-0.018456</td>\n",
              "      <td>-0.012166</td>\n",
              "      <td>0.036070</td>\n",
              "      <td>1.000000</td>\n",
              "      <td>0.003111</td>\n",
              "      <td>0.061089</td>\n",
              "      <td>-0.009637</td>\n",
              "      <td>0.051553</td>\n",
              "      <td>0.004831</td>\n",
              "    </tr>\n",
              "    <tr>\n",
              "      <th>volt</th>\n",
              "      <td>0.009522</td>\n",
              "      <td>0.999271</td>\n",
              "      <td>0.031815</td>\n",
              "      <td>0.026792</td>\n",
              "      <td>-0.125082</td>\n",
              "      <td>0.005664</td>\n",
              "      <td>0.003111</td>\n",
              "      <td>1.000000</td>\n",
              "      <td>-0.058154</td>\n",
              "      <td>-0.036884</td>\n",
              "      <td>-0.058241</td>\n",
              "      <td>0.151722</td>\n",
              "    </tr>\n",
              "    <tr>\n",
              "      <th>num_experiment</th>\n",
              "      <td>-0.034680</td>\n",
              "      <td>-0.056974</td>\n",
              "      <td>0.014310</td>\n",
              "      <td>-0.004263</td>\n",
              "      <td>0.033158</td>\n",
              "      <td>0.011257</td>\n",
              "      <td>0.061089</td>\n",
              "      <td>-0.058154</td>\n",
              "      <td>1.000000</td>\n",
              "      <td>-0.305934</td>\n",
              "      <td>0.948962</td>\n",
              "      <td>-0.010656</td>\n",
              "    </tr>\n",
              "    <tr>\n",
              "      <th>p</th>\n",
              "      <td>0.047175</td>\n",
              "      <td>-0.038147</td>\n",
              "      <td>-0.014342</td>\n",
              "      <td>-0.007534</td>\n",
              "      <td>-0.039744</td>\n",
              "      <td>-0.010258</td>\n",
              "      <td>-0.009637</td>\n",
              "      <td>-0.036884</td>\n",
              "      <td>-0.305934</td>\n",
              "      <td>1.000000</td>\n",
              "      <td>-0.300151</td>\n",
              "      <td>-0.244252</td>\n",
              "    </tr>\n",
              "    <tr>\n",
              "      <th>herz</th>\n",
              "      <td>-0.034659</td>\n",
              "      <td>-0.056613</td>\n",
              "      <td>0.011391</td>\n",
              "      <td>-0.002211</td>\n",
              "      <td>0.029369</td>\n",
              "      <td>0.016092</td>\n",
              "      <td>0.051553</td>\n",
              "      <td>-0.058241</td>\n",
              "      <td>0.948962</td>\n",
              "      <td>-0.300151</td>\n",
              "      <td>1.000000</td>\n",
              "      <td>-0.011097</td>\n",
              "    </tr>\n",
              "    <tr>\n",
              "      <th>temp</th>\n",
              "      <td>-0.013886</td>\n",
              "      <td>0.153207</td>\n",
              "      <td>0.066320</td>\n",
              "      <td>-0.002452</td>\n",
              "      <td>-0.032009</td>\n",
              "      <td>0.028267</td>\n",
              "      <td>0.004831</td>\n",
              "      <td>0.151722</td>\n",
              "      <td>-0.010656</td>\n",
              "      <td>-0.244252</td>\n",
              "      <td>-0.011097</td>\n",
              "      <td>1.000000</td>\n",
              "    </tr>\n",
              "  </tbody>\n",
              "</table>\n",
              "</div>"
            ],
            "text/plain": [
              "                     co2         a        vl         v         w        ws  \\\n",
              "co2             1.000000  0.008914 -0.003186  0.033440 -0.009468 -0.007910   \n",
              "a               0.008914  1.000000  0.031787  0.027597 -0.125315  0.005417   \n",
              "vl             -0.003186  0.031787  1.000000 -0.000493 -0.008724  0.009549   \n",
              "v               0.033440  0.027597 -0.000493  1.000000  0.029693  0.030593   \n",
              "w              -0.009468 -0.125315 -0.008724  0.029693  1.000000 -0.016549   \n",
              "ws             -0.007910  0.005417  0.009549  0.030593 -0.016549  1.000000   \n",
              "t              -0.007894  0.000936  0.018889 -0.018456 -0.012166  0.036070   \n",
              "volt            0.009522  0.999271  0.031815  0.026792 -0.125082  0.005664   \n",
              "num_experiment -0.034680 -0.056974  0.014310 -0.004263  0.033158  0.011257   \n",
              "p               0.047175 -0.038147 -0.014342 -0.007534 -0.039744 -0.010258   \n",
              "herz           -0.034659 -0.056613  0.011391 -0.002211  0.029369  0.016092   \n",
              "temp           -0.013886  0.153207  0.066320 -0.002452 -0.032009  0.028267   \n",
              "\n",
              "                       t      volt  num_experiment         p      herz  \\\n",
              "co2            -0.007894  0.009522       -0.034680  0.047175 -0.034659   \n",
              "a               0.000936  0.999271       -0.056974 -0.038147 -0.056613   \n",
              "vl              0.018889  0.031815        0.014310 -0.014342  0.011391   \n",
              "v              -0.018456  0.026792       -0.004263 -0.007534 -0.002211   \n",
              "w              -0.012166 -0.125082        0.033158 -0.039744  0.029369   \n",
              "ws              0.036070  0.005664        0.011257 -0.010258  0.016092   \n",
              "t               1.000000  0.003111        0.061089 -0.009637  0.051553   \n",
              "volt            0.003111  1.000000       -0.058154 -0.036884 -0.058241   \n",
              "num_experiment  0.061089 -0.058154        1.000000 -0.305934  0.948962   \n",
              "p              -0.009637 -0.036884       -0.305934  1.000000 -0.300151   \n",
              "herz            0.051553 -0.058241        0.948962 -0.300151  1.000000   \n",
              "temp            0.004831  0.151722       -0.010656 -0.244252 -0.011097   \n",
              "\n",
              "                    temp  \n",
              "co2            -0.013886  \n",
              "a               0.153207  \n",
              "vl              0.066320  \n",
              "v              -0.002452  \n",
              "w              -0.032009  \n",
              "ws              0.028267  \n",
              "t               0.004831  \n",
              "volt            0.151722  \n",
              "num_experiment -0.010656  \n",
              "p              -0.244252  \n",
              "herz           -0.011097  \n",
              "temp            1.000000  "
            ]
          },
          "execution_count": 28,
          "metadata": {},
          "output_type": "execute_result"
        }
      ],
      "source": [
        "exp_corr"
      ]
    },
    {
      "cell_type": "markdown",
      "id": "20d19c9b-22fc-459e-a1aa-dea8a6eed3a8",
      "metadata": {
        "id": "20d19c9b-22fc-459e-a1aa-dea8a6eed3a8"
      },
      "source": [
        "Карта корреляций"
      ]
    },
    {
      "cell_type": "code",
      "execution_count": null,
      "id": "d813eec3-9125-4340-83b2-59ad56ea1930",
      "metadata": {
        "id": "d813eec3-9125-4340-83b2-59ad56ea1930",
        "outputId": "e0bf80c6-9027-417f-914b-658c2a603ab7"
      },
      "outputs": [
        {
          "data": {
            "image/png": "[encoded data removed]",
            "text/plain": [
              "<Figure size 1440x864 with 2 Axes>"
            ]
          },
          "metadata": {
            "needs_background": "light"
          },
          "output_type": "display_data"
        }
      ],
      "source": [
        "plt.figure(figsize=(20,12))\n",
        "sns.heatmap(exp_corr, annot=True, mask=np.triu(exp_corr));"
      ]
    },
    {
      "cell_type": "markdown",
      "id": "74bb84c1-472a-4d72-8d57-fcbc573b341d",
      "metadata": {
        "id": "74bb84c1-472a-4d72-8d57-fcbc573b341d"
      },
      "source": [
        "Наблюдается очень сильная положительная корреляция между напряжением и током (Закона Ома: \\$R = U / I$)\n",
        "\n",
        "Также очень сильная корреляция между номером эксперимента и частотой тока."
      ]
    },
    {
      "cell_type": "markdown",
      "id": "2c1f9bb5-4c14-4187-ba7f-e7ce4d44c55b",
      "metadata": {
        "id": "2c1f9bb5-4c14-4187-ba7f-e7ce4d44c55b"
      },
      "source": [
        "Выделим признаки с сильнейшими корреляциями"
      ]
    },
    {
      "cell_type": "code",
      "execution_count": null,
      "id": "255140fb-9a54-4b66-8fcc-3c923da3cb39",
      "metadata": {
        "id": "255140fb-9a54-4b66-8fcc-3c923da3cb39",
        "outputId": "5d560d27-850e-40c7-cf99-d4927bf90025"
      },
      "outputs": [
        {
          "data": {
            "text/plain": [
              "a               volt              0.999271\n",
              "volt            a                 0.999271\n",
              "num_experiment  herz              0.948962\n",
              "herz            num_experiment    0.948962\n",
              "dtype: float64"
            ]
          },
          "execution_count": 30,
          "metadata": {},
          "output_type": "execute_result"
        }
      ],
      "source": [
        "c1 = exp_corr.abs().unstack()\n",
        "c1[(c1 < 1) & (c1 > 0.9)].sort_values(ascending = False)"
      ]
    },
    {
      "cell_type": "markdown",
      "id": "7b54169b-cf9b-4bbe-8b8f-1d96a6960c05",
      "metadata": {
        "id": "7b54169b-cf9b-4bbe-8b8f-1d96a6960c05"
      },
      "source": [
        "### 1.2 Подбор переменных с помощью корреляционных матриц"
      ]
    },
    {
      "cell_type": "markdown",
      "id": "1b6455c9-4085-4833-bec9-b6775487ac73",
      "metadata": {
        "id": "1b6455c9-4085-4833-bec9-b6775487ac73"
      },
      "source": [
        "Поскольку переменные с очень сильной корреляцией предоставляют идентичную информацию модели, то необходимо одну из таких переменных удалить."
      ]
    },
    {
      "cell_type": "markdown",
      "id": "eccebd0e-60c0-4813-bf9e-48a60ea6ceea",
      "metadata": {
        "id": "eccebd0e-60c0-4813-bf9e-48a60ea6ceea"
      },
      "source": [
        "В данном датасете можно удалить **номер эксперимента** и **напряжение**, т.к. оно вычислимо из оставшихся **мощности** и **тока**."
      ]
    },
    {
      "cell_type": "code",
      "execution_count": null,
      "id": "06edea37-943e-49ec-925a-d45af42b51bb",
      "metadata": {
        "id": "06edea37-943e-49ec-925a-d45af42b51bb"
      },
      "outputs": [],
      "source": [
        "cleared_cols = exp_df.columns.tolist()"
      ]
    },
    {
      "cell_type": "code",
      "execution_count": null,
      "id": "f7694674-68bb-44f2-8aff-dfe913bd045a",
      "metadata": {
        "id": "f7694674-68bb-44f2-8aff-dfe913bd045a"
      },
      "outputs": [],
      "source": [
        "cleared_cols.remove('num_experiment')\n",
        "cleared_cols.remove('volt')"
      ]
    },
    {
      "cell_type": "markdown",
      "id": "f637a4c0-5a29-4d7c-a460-102cc5820796",
      "metadata": {
        "id": "f637a4c0-5a29-4d7c-a460-102cc5820796"
      },
      "source": [
        "### 1.3 Подбор переменных с помощью других методов подбора"
      ]
    },
    {
      "cell_type": "markdown",
      "id": "6645bef7-58ed-4a1f-ab92-5e7f56e43fc0",
      "metadata": {
        "id": "6645bef7-58ed-4a1f-ab92-5e7f56e43fc0"
      },
      "source": [
        "#### 1.3.1 Важность признаков с помощью дерева решений"
      ]
    },
    {
      "cell_type": "code",
      "execution_count": null,
      "id": "8fe73d1c-4fb2-45b6-ba09-4571105e1018",
      "metadata": {
        "id": "8fe73d1c-4fb2-45b6-ba09-4571105e1018"
      },
      "outputs": [],
      "source": [
        "from sklearn.tree import DecisionTreeRegressor"
      ]
    },
    {
      "cell_type": "code",
      "execution_count": null,
      "id": "3677762a-084f-4ba9-ae3e-a971b8cbb004",
      "metadata": {
        "id": "3677762a-084f-4ba9-ae3e-a971b8cbb004"
      },
      "outputs": [],
      "source": [
        "dtr = DecisionTreeRegressor()"
      ]
    },
    {
      "cell_type": "code",
      "execution_count": null,
      "id": "c6353cc2-efd4-4510-b203-652cf2870612",
      "metadata": {
        "id": "c6353cc2-efd4-4510-b203-652cf2870612"
      },
      "outputs": [],
      "source": [
        "X = exp_df.drop('temp', axis=1)\n",
        "y = exp_df.temp"
      ]
    },
    {
      "cell_type": "code",
      "execution_count": null,
      "id": "03d6e98c-3d97-492b-bc69-d0d88a7e2d79",
      "metadata": {
        "id": "03d6e98c-3d97-492b-bc69-d0d88a7e2d79",
        "outputId": "2a06d47c-01ff-439b-cf4f-fb42966cc8b6"
      },
      "outputs": [
        {
          "name": "stdout",
          "output_type": "stream",
          "text": [
            "CPU times: total: 36.6 s\n",
            "Wall time: 36.6 s\n"
          ]
        },
        {
          "data": {
            "text/html": [
              "<style>#sk-container-id-1 {color: black;background-color: white;}#sk-container-id-1 pre{padding: 0;}#sk-container-id-1 div.sk-toggleable {background-color: white;}#sk-container-id-1 label.sk-toggleable__label {cursor: pointer;display: block;width: 100%;margin-bottom: 0;padding: 0.3em;box-sizing: border-box;text-align: center;}#sk-container-id-1 label.sk-toggleable__label-arrow:before {content: \"▸\";float: left;margin-right: 0.25em;color: #696969;}#sk-container-id-1 label.sk-toggleable__label-arrow:hover:before {color: black;}#sk-container-id-1 div.sk-estimator:hover label.sk-toggleable__label-arrow:before {color: black;}#sk-container-id-1 div.sk-toggleable__content {max-height: 0;max-width: 0;overflow: hidden;text-align: left;background-color: #f0f8ff;}#sk-container-id-1 div.sk-toggleable__content pre {margin: 0.2em;color: black;border-radius: 0.25em;background-color: #f0f8ff;}#sk-container-id-1 input.sk-toggleable__control:checked~div.sk-toggleable__content {max-height: 200px;max-width: 100%;overflow: auto;}#sk-container-id-1 input.sk-toggleable__control:checked~label.sk-toggleable__label-arrow:before {content: \"▾\";}#sk-container-id-1 div.sk-estimator input.sk-toggleable__control:checked~label.sk-toggleable__label {background-color: #d4ebff;}#sk-container-id-1 div.sk-label input.sk-toggleable__control:checked~label.sk-toggleable__label {background-color: #d4ebff;}#sk-container-id-1 input.sk-hidden--visually {border: 0;clip: rect(1px 1px 1px 1px);clip: rect(1px, 1px, 1px, 1px);height: 1px;margin: -1px;overflow: hidden;padding: 0;position: absolute;width: 1px;}#sk-container-id-1 div.sk-estimator {font-family: monospace;background-color: #f0f8ff;border: 1px dotted black;border-radius: 0.25em;box-sizing: border-box;margin-bottom: 0.5em;}#sk-container-id-1 div.sk-estimator:hover {background-color: #d4ebff;}#sk-container-id-1 div.sk-parallel-item::after {content: \"\";width: 100%;border-bottom: 1px solid gray;flex-grow: 1;}#sk-container-id-1 div.sk-label:hover label.sk-toggleable__label {background-color: #d4ebff;}#sk-container-id-1 div.sk-serial::before {content: \"\";position: absolute;border-left: 1px solid gray;box-sizing: border-box;top: 0;bottom: 0;left: 50%;z-index: 0;}#sk-container-id-1 div.sk-serial {display: flex;flex-direction: column;align-items: center;background-color: white;padding-right: 0.2em;padding-left: 0.2em;position: relative;}#sk-container-id-1 div.sk-item {position: relative;z-index: 1;}#sk-container-id-1 div.sk-parallel {display: flex;align-items: stretch;justify-content: center;background-color: white;position: relative;}#sk-container-id-1 div.sk-item::before, #sk-container-id-1 div.sk-parallel-item::before {content: \"\";position: absolute;border-left: 1px solid gray;box-sizing: border-box;top: 0;bottom: 0;left: 50%;z-index: -1;}#sk-container-id-1 div.sk-parallel-item {display: flex;flex-direction: column;z-index: 1;position: relative;background-color: white;}#sk-container-id-1 div.sk-parallel-item:first-child::after {align-self: flex-end;width: 50%;}#sk-container-id-1 div.sk-parallel-item:last-child::after {align-self: flex-start;width: 50%;}#sk-container-id-1 div.sk-parallel-item:only-child::after {width: 0;}#sk-container-id-1 div.sk-dashed-wrapped {border: 1px dashed gray;margin: 0 0.4em 0.5em 0.4em;box-sizing: border-box;padding-bottom: 0.4em;background-color: white;}#sk-container-id-1 div.sk-label label {font-family: monospace;font-weight: bold;display: inline-block;line-height: 1.2em;}#sk-container-id-1 div.sk-label-container {text-align: center;}#sk-container-id-1 div.sk-container {/* jupyter's `normalize.less` sets `[hidden] { display: none; }` but bootstrap.min.css set `[hidden] { display: none !important; }` so we also need the `!important` here to be able to override the default hidden behavior on the sphinx rendered scikit-learn.org. See: https://github.com/scikit-learn/scikit-learn/issues/21755 */display: inline-block !important;position: relative;}#sk-container-id-1 div.sk-text-repr-fallback {display: none;}</style><div id=\"sk-container-id-1\" class=\"sk-top-container\"><div class=\"sk-text-repr-fallback\"><pre>DecisionTreeRegressor()</pre><b>In a Jupyter environment, please rerun this cell to show the HTML representation or trust the notebook. <br />On GitHub, the HTML representation is unable to render, please try loading this page with nbviewer.org.</b></div><div class=\"sk-container\" hidden><div class=\"sk-item\"><div class=\"sk-estimator sk-toggleable\"><input class=\"sk-toggleable__control sk-hidden--visually\" id=\"sk-estimator-id-1\" type=\"checkbox\" checked><label for=\"sk-estimator-id-1\" class=\"sk-toggleable__label sk-toggleable__label-arrow\">DecisionTreeRegressor</label><div class=\"sk-toggleable__content\"><pre>DecisionTreeRegressor()</pre></div></div></div></div></div>"
            ],
            "text/plain": [
              "DecisionTreeRegressor()"
            ]
          },
          "execution_count": 36,
          "metadata": {},
          "output_type": "execute_result"
        }
      ],
      "source": [
        "%%time\n",
        "dtr.fit(X, y)"
      ]
    },
    {
      "cell_type": "code",
      "execution_count": null,
      "id": "6d9ea5d3-9915-4187-a786-aedf42ec876c",
      "metadata": {
        "id": "6d9ea5d3-9915-4187-a786-aedf42ec876c",
        "outputId": "39fc4b4c-f72f-4e34-9ce5-4fa54beeeba0"
      },
      "outputs": [
        {
          "data": {
            "text/html": [
              "<div>\n",
              "<style scoped>\n",
              "    .dataframe tbody tr th:only-of-type {\n",
              "        vertical-align: middle;\n",
              "    }\n",
              "\n",
              "    .dataframe tbody tr th {\n",
              "        vertical-align: top;\n",
              "    }\n",
              "\n",
              "    .dataframe thead th {\n",
              "        text-align: right;\n",
              "    }\n",
              "</style>\n",
              "<table border=\"1\" class=\"dataframe\">\n",
              "  <thead>\n",
              "    <tr style=\"text-align: right;\">\n",
              "      <th></th>\n",
              "      <th>importance</th>\n",
              "    </tr>\n",
              "  </thead>\n",
              "  <tbody>\n",
              "    <tr>\n",
              "      <th>48130</th>\n",
              "      <td>0.748504</td>\n",
              "    </tr>\n",
              "    <tr>\n",
              "      <th>45340</th>\n",
              "      <td>0.093891</td>\n",
              "    </tr>\n",
              "    <tr>\n",
              "      <th>49729</th>\n",
              "      <td>0.093009</td>\n",
              "    </tr>\n",
              "    <tr>\n",
              "      <th>49667</th>\n",
              "      <td>0.011873</td>\n",
              "    </tr>\n",
              "    <tr>\n",
              "      <th>43906</th>\n",
              "      <td>0.011873</td>\n",
              "    </tr>\n",
              "    <tr>\n",
              "      <th>814</th>\n",
              "      <td>0.011489</td>\n",
              "    </tr>\n",
              "    <tr>\n",
              "      <th>41029</th>\n",
              "      <td>0.011381</td>\n",
              "    </tr>\n",
              "    <tr>\n",
              "      <th>51628</th>\n",
              "      <td>0.001548</td>\n",
              "    </tr>\n",
              "    <tr>\n",
              "      <th>47160</th>\n",
              "      <td>0.001548</td>\n",
              "    </tr>\n",
              "    <tr>\n",
              "      <th>50331</th>\n",
              "      <td>0.001421</td>\n",
              "    </tr>\n",
              "    <tr>\n",
              "      <th>49664</th>\n",
              "      <td>0.001421</td>\n",
              "    </tr>\n",
              "    <tr>\n",
              "      <th>26705</th>\n",
              "      <td>0.001421</td>\n",
              "    </tr>\n",
              "    <tr>\n",
              "      <th>19847</th>\n",
              "      <td>0.001421</td>\n",
              "    </tr>\n",
              "    <tr>\n",
              "      <th>3831</th>\n",
              "      <td>0.001412</td>\n",
              "    </tr>\n",
              "    <tr>\n",
              "      <th>30160</th>\n",
              "      <td>0.001397</td>\n",
              "    </tr>\n",
              "    <tr>\n",
              "      <th>num_experiment</th>\n",
              "      <td>0.000752</td>\n",
              "    </tr>\n",
              "    <tr>\n",
              "      <th>w</th>\n",
              "      <td>0.000614</td>\n",
              "    </tr>\n",
              "    <tr>\n",
              "      <th>volt</th>\n",
              "      <td>0.000471</td>\n",
              "    </tr>\n",
              "    <tr>\n",
              "      <th>a</th>\n",
              "      <td>0.000357</td>\n",
              "    </tr>\n",
              "    <tr>\n",
              "      <th>p</th>\n",
              "      <td>0.000267</td>\n",
              "    </tr>\n",
              "  </tbody>\n",
              "</table>\n",
              "</div>"
            ],
            "text/plain": [
              "                importance\n",
              "48130             0.748504\n",
              "45340             0.093891\n",
              "49729             0.093009\n",
              "49667             0.011873\n",
              "43906             0.011873\n",
              "814               0.011489\n",
              "41029             0.011381\n",
              "51628             0.001548\n",
              "47160             0.001548\n",
              "50331             0.001421\n",
              "49664             0.001421\n",
              "26705             0.001421\n",
              "19847             0.001421\n",
              "3831              0.001412\n",
              "30160             0.001397\n",
              "num_experiment    0.000752\n",
              "w                 0.000614\n",
              "volt              0.000471\n",
              "a                 0.000357\n",
              "p                 0.000267"
            ]
          },
          "execution_count": 37,
          "metadata": {},
          "output_type": "execute_result"
        }
      ],
      "source": [
        "importances_df = pd.DataFrame({'importance': dtr.feature_importances_}, index=X.columns).sort_values('importance', ascending=False)\n",
        "importances_df.head(20)"
      ]
    },
    {
      "cell_type": "markdown",
      "id": "10089671-2066-4a2e-a511-516eb75f415a",
      "metadata": {
        "id": "10089671-2066-4a2e-a511-516eb75f415a"
      },
      "source": [
        "Видим, что для задачи определения температуры были отобраны наиболее значимые пиксели из видео."
      ]
    },
    {
      "cell_type": "code",
      "execution_count": null,
      "id": "6d762c86-2e8c-4977-852d-9293c314d56a",
      "metadata": {
        "id": "6d762c86-2e8c-4977-852d-9293c314d56a",
        "outputId": "c8fc4983-1799-41e4-835b-2573366ba0b5"
      },
      "outputs": [
        {
          "data": {
            "text/html": [
              "<div>\n",
              "<style scoped>\n",
              "    .dataframe tbody tr th:only-of-type {\n",
              "        vertical-align: middle;\n",
              "    }\n",
              "\n",
              "    .dataframe tbody tr th {\n",
              "        vertical-align: top;\n",
              "    }\n",
              "\n",
              "    .dataframe thead th {\n",
              "        text-align: right;\n",
              "    }\n",
              "</style>\n",
              "<table border=\"1\" class=\"dataframe\">\n",
              "  <thead>\n",
              "    <tr style=\"text-align: right;\">\n",
              "      <th></th>\n",
              "      <th>importance</th>\n",
              "    </tr>\n",
              "  </thead>\n",
              "  <tbody>\n",
              "    <tr>\n",
              "      <th>50932</th>\n",
              "      <td>0.0</td>\n",
              "    </tr>\n",
              "    <tr>\n",
              "      <th>51493</th>\n",
              "      <td>0.0</td>\n",
              "    </tr>\n",
              "    <tr>\n",
              "      <th>50934</th>\n",
              "      <td>0.0</td>\n",
              "    </tr>\n",
              "    <tr>\n",
              "      <th>51410</th>\n",
              "      <td>0.0</td>\n",
              "    </tr>\n",
              "    <tr>\n",
              "      <th>50967</th>\n",
              "      <td>0.0</td>\n",
              "    </tr>\n",
              "    <tr>\n",
              "      <th>...</th>\n",
              "      <td>...</td>\n",
              "    </tr>\n",
              "    <tr>\n",
              "      <th>25857</th>\n",
              "      <td>0.0</td>\n",
              "    </tr>\n",
              "    <tr>\n",
              "      <th>25856</th>\n",
              "      <td>0.0</td>\n",
              "    </tr>\n",
              "    <tr>\n",
              "      <th>25855</th>\n",
              "      <td>0.0</td>\n",
              "    </tr>\n",
              "    <tr>\n",
              "      <th>25854</th>\n",
              "      <td>0.0</td>\n",
              "    </tr>\n",
              "    <tr>\n",
              "      <th>38397</th>\n",
              "      <td>0.0</td>\n",
              "    </tr>\n",
              "  </tbody>\n",
              "</table>\n",
              "<p>75235 rows × 1 columns</p>\n",
              "</div>"
            ],
            "text/plain": [
              "       importance\n",
              "50932         0.0\n",
              "51493         0.0\n",
              "50934         0.0\n",
              "51410         0.0\n",
              "50967         0.0\n",
              "...           ...\n",
              "25857         0.0\n",
              "25856         0.0\n",
              "25855         0.0\n",
              "25854         0.0\n",
              "38397         0.0\n",
              "\n",
              "[75235 rows x 1 columns]"
            ]
          },
          "execution_count": 38,
          "metadata": {},
          "output_type": "execute_result"
        }
      ],
      "source": [
        "# признаки, имеющую нулевую важность\n",
        "importances_df.query('importance == 0')"
      ]
    },
    {
      "cell_type": "markdown",
      "id": "b2e6e607-fde8-411e-a24f-f7c146af4579",
      "metadata": {
        "id": "b2e6e607-fde8-411e-a24f-f7c146af4579"
      },
      "source": [
        "Также видим, что 75250 признаков не важны для алгоритма дерева решений."
      ]
    },
    {
      "cell_type": "code",
      "execution_count": null,
      "id": "c423ce8f-8eb4-42a0-8af1-70dbbf2d3fa5",
      "metadata": {
        "id": "c423ce8f-8eb4-42a0-8af1-70dbbf2d3fa5"
      },
      "outputs": [],
      "source": [
        "q_3 = importances_df.query('importance > 0').quantile(0.75).values[0]"
      ]
    },
    {
      "cell_type": "code",
      "execution_count": null,
      "id": "94664798-b501-4669-a1a8-c5508bd1436b",
      "metadata": {
        "id": "94664798-b501-4669-a1a8-c5508bd1436b",
        "outputId": "6c4d5620-bc89-4bb1-fd56-3b107363ffdc"
      },
      "outputs": [
        {
          "data": {
            "text/plain": [
              "(395, 1)"
            ]
          },
          "execution_count": 40,
          "metadata": {},
          "output_type": "execute_result"
        }
      ],
      "source": [
        "importances_df.query('importance > @q_3').shape"
      ]
    },
    {
      "cell_type": "markdown",
      "id": "bf42cf55-ca85-4924-9b20-e511ba0431a8",
      "metadata": {
        "id": "bf42cf55-ca85-4924-9b20-e511ba0431a8"
      },
      "source": [
        "Примем важными 391 признак, имеющий ненулевую важность и входящий в 4 квантиль"
      ]
    },
    {
      "cell_type": "code",
      "execution_count": null,
      "id": "376b51e9-3302-4ede-b3be-4513d3d0408a",
      "metadata": {
        "id": "376b51e9-3302-4ede-b3be-4513d3d0408a"
      },
      "outputs": [],
      "source": [
        "tree_best_features = importances_df.query('importance > @q_3')['importance'].index.to_list()"
      ]
    },
    {
      "cell_type": "markdown",
      "id": "dfc065fd-65d9-49b4-93cf-ec1e4a1ba691",
      "metadata": {
        "id": "dfc065fd-65d9-49b4-93cf-ec1e4a1ba691"
      },
      "source": [
        "#### 1.3.2 Важность с помощью статистических методов"
      ]
    },
    {
      "cell_type": "code",
      "execution_count": null,
      "id": "b3d87dc4-937d-4a6b-baf8-4b196734d216",
      "metadata": {
        "id": "b3d87dc4-937d-4a6b-baf8-4b196734d216"
      },
      "outputs": [],
      "source": [
        "from sklearn.feature_selection import SelectKBest"
      ]
    },
    {
      "cell_type": "code",
      "execution_count": null,
      "id": "bf57694d-95a3-4c5c-bbf9-e46250612eac",
      "metadata": {
        "id": "bf57694d-95a3-4c5c-bbf9-e46250612eac"
      },
      "outputs": [],
      "source": [
        "kbest = SelectKBest(k=100)"
      ]
    },
    {
      "cell_type": "code",
      "execution_count": null,
      "id": "d601851d-f4aa-48ef-8ab8-517032771c4a",
      "metadata": {
        "id": "d601851d-f4aa-48ef-8ab8-517032771c4a",
        "outputId": "74de01b3-2e7d-4fda-a4c2-d0089267cac2"
      },
      "outputs": [
        {
          "data": {
            "text/html": [
              "<style>#sk-container-id-2 {color: black;background-color: white;}#sk-container-id-2 pre{padding: 0;}#sk-container-id-2 div.sk-toggleable {background-color: white;}#sk-container-id-2 label.sk-toggleable__label {cursor: pointer;display: block;width: 100%;margin-bottom: 0;padding: 0.3em;box-sizing: border-box;text-align: center;}#sk-container-id-2 label.sk-toggleable__label-arrow:before {content: \"▸\";float: left;margin-right: 0.25em;color: #696969;}#sk-container-id-2 label.sk-toggleable__label-arrow:hover:before {color: black;}#sk-container-id-2 div.sk-estimator:hover label.sk-toggleable__label-arrow:before {color: black;}#sk-container-id-2 div.sk-toggleable__content {max-height: 0;max-width: 0;overflow: hidden;text-align: left;background-color: #f0f8ff;}#sk-container-id-2 div.sk-toggleable__content pre {margin: 0.2em;color: black;border-radius: 0.25em;background-color: #f0f8ff;}#sk-container-id-2 input.sk-toggleable__control:checked~div.sk-toggleable__content {max-height: 200px;max-width: 100%;overflow: auto;}#sk-container-id-2 input.sk-toggleable__control:checked~label.sk-toggleable__label-arrow:before {content: \"▾\";}#sk-container-id-2 div.sk-estimator input.sk-toggleable__control:checked~label.sk-toggleable__label {background-color: #d4ebff;}#sk-container-id-2 div.sk-label input.sk-toggleable__control:checked~label.sk-toggleable__label {background-color: #d4ebff;}#sk-container-id-2 input.sk-hidden--visually {border: 0;clip: rect(1px 1px 1px 1px);clip: rect(1px, 1px, 1px, 1px);height: 1px;margin: -1px;overflow: hidden;padding: 0;position: absolute;width: 1px;}#sk-container-id-2 div.sk-estimator {font-family: monospace;background-color: #f0f8ff;border: 1px dotted black;border-radius: 0.25em;box-sizing: border-box;margin-bottom: 0.5em;}#sk-container-id-2 div.sk-estimator:hover {background-color: #d4ebff;}#sk-container-id-2 div.sk-parallel-item::after {content: \"\";width: 100%;border-bottom: 1px solid gray;flex-grow: 1;}#sk-container-id-2 div.sk-label:hover label.sk-toggleable__label {background-color: #d4ebff;}#sk-container-id-2 div.sk-serial::before {content: \"\";position: absolute;border-left: 1px solid gray;box-sizing: border-box;top: 0;bottom: 0;left: 50%;z-index: 0;}#sk-container-id-2 div.sk-serial {display: flex;flex-direction: column;align-items: center;background-color: white;padding-right: 0.2em;padding-left: 0.2em;position: relative;}#sk-container-id-2 div.sk-item {position: relative;z-index: 1;}#sk-container-id-2 div.sk-parallel {display: flex;align-items: stretch;justify-content: center;background-color: white;position: relative;}#sk-container-id-2 div.sk-item::before, #sk-container-id-2 div.sk-parallel-item::before {content: \"\";position: absolute;border-left: 1px solid gray;box-sizing: border-box;top: 0;bottom: 0;left: 50%;z-index: -1;}#sk-container-id-2 div.sk-parallel-item {display: flex;flex-direction: column;z-index: 1;position: relative;background-color: white;}#sk-container-id-2 div.sk-parallel-item:first-child::after {align-self: flex-end;width: 50%;}#sk-container-id-2 div.sk-parallel-item:last-child::after {align-self: flex-start;width: 50%;}#sk-container-id-2 div.sk-parallel-item:only-child::after {width: 0;}#sk-container-id-2 div.sk-dashed-wrapped {border: 1px dashed gray;margin: 0 0.4em 0.5em 0.4em;box-sizing: border-box;padding-bottom: 0.4em;background-color: white;}#sk-container-id-2 div.sk-label label {font-family: monospace;font-weight: bold;display: inline-block;line-height: 1.2em;}#sk-container-id-2 div.sk-label-container {text-align: center;}#sk-container-id-2 div.sk-container {/* jupyter's `normalize.less` sets `[hidden] { display: none; }` but bootstrap.min.css set `[hidden] { display: none !important; }` so we also need the `!important` here to be able to override the default hidden behavior on the sphinx rendered scikit-learn.org. See: https://github.com/scikit-learn/scikit-learn/issues/21755 */display: inline-block !important;position: relative;}#sk-container-id-2 div.sk-text-repr-fallback {display: none;}</style><div id=\"sk-container-id-2\" class=\"sk-top-container\"><div class=\"sk-text-repr-fallback\"><pre>SelectKBest(k=100)</pre><b>In a Jupyter environment, please rerun this cell to show the HTML representation or trust the notebook. <br />On GitHub, the HTML representation is unable to render, please try loading this page with nbviewer.org.</b></div><div class=\"sk-container\" hidden><div class=\"sk-item\"><div class=\"sk-estimator sk-toggleable\"><input class=\"sk-toggleable__control sk-hidden--visually\" id=\"sk-estimator-id-2\" type=\"checkbox\" checked><label for=\"sk-estimator-id-2\" class=\"sk-toggleable__label sk-toggleable__label-arrow\">SelectKBest</label><div class=\"sk-toggleable__content\"><pre>SelectKBest(k=100)</pre></div></div></div></div></div>"
            ],
            "text/plain": [
              "SelectKBest(k=100)"
            ]
          },
          "execution_count": 44,
          "metadata": {},
          "output_type": "execute_result"
        }
      ],
      "source": [
        "kbest.fit(X, y)"
      ]
    },
    {
      "cell_type": "code",
      "execution_count": null,
      "id": "47a3c783-5e37-4f79-bc9c-c6113b4e279f",
      "metadata": {
        "id": "47a3c783-5e37-4f79-bc9c-c6113b4e279f"
      },
      "outputs": [],
      "source": [
        "kbest_best_features = kbest.get_feature_names_out().tolist()"
      ]
    },
    {
      "cell_type": "markdown",
      "id": "dcd33543-2a4f-468f-9647-d5bfd40f4242",
      "metadata": {
        "id": "dcd33543-2a4f-468f-9647-d5bfd40f4242"
      },
      "source": [
        "Оставим те признаки, которые получились по результатам важности DecisionTree и KBest"
      ]
    },
    {
      "cell_type": "code",
      "execution_count": null,
      "id": "a3c3633a-e25f-46dc-93d7-357dffe4308c",
      "metadata": {
        "id": "a3c3633a-e25f-46dc-93d7-357dffe4308c"
      },
      "outputs": [],
      "source": [
        "kbest_best_features = [int(feat[1:]) for feat in kbest_best_features]"
      ]
    },
    {
      "cell_type": "code",
      "execution_count": null,
      "id": "78486b73-ea09-4f3a-a1ee-209b3a247ee3",
      "metadata": {
        "id": "78486b73-ea09-4f3a-a1ee-209b3a247ee3"
      },
      "outputs": [],
      "source": [
        "best_features = list(set(tree_best_features).union(set(kbest_best_features)))"
      ]
    },
    {
      "cell_type": "code",
      "execution_count": null,
      "id": "d9b797c1-be4f-4ad0-95f2-52ffd4fdb2a1",
      "metadata": {
        "id": "d9b797c1-be4f-4ad0-95f2-52ffd4fdb2a1",
        "outputId": "b036fe34-a715-4e59-dddc-130866d4c8f2"
      },
      "outputs": [
        {
          "data": {
            "text/plain": [
              "495"
            ]
          },
          "execution_count": 48,
          "metadata": {},
          "output_type": "execute_result"
        }
      ],
      "source": [
        "len(best_features)"
      ]
    },
    {
      "cell_type": "code",
      "execution_count": null,
      "id": "1727aef2-fe5a-4ffb-841c-c515a201b0e0",
      "metadata": {
        "id": "1727aef2-fe5a-4ffb-841c-c515a201b0e0",
        "outputId": "c3016481-0df0-40e5-e106-a4fd0cdc5414"
      },
      "outputs": [
        {
          "name": "stdout",
          "output_type": "stream",
          "text": [
            "[48130, 32773, 72709, 71689, 3081, 25610, 76810, 36877, 42000, 52240, 21527, 71704, 66586, 53276, 10269, 62493, 56353, 42020, 42021, 17447, 40, 63528, 27688, 47154, 47159, 47160, 27706, 58427, 31804, 58428, 1091, 'num_experiment', 41029, 67660, 31820, 15438, 75852, 57424, 26705, 75853, 75854, 47188, 30805, 75855, 1111, 75857, 75861, 75863, 46171, 73820, 21596, 75865, 75866, 12384, 97, 75868, 75869, 75870, 71781, 75871, 75872, 67688, 31851, 42096, 30851, 26756, 50310, 74889, 25739, 74892, 74897, 74899, 10388, 37014, 45207, 44183, 44185, 41114, 50331, 74903, 74904, 49310, 74905, 160, 74906, 74908, 40099, 74909, 24741, 74910, 74912, 8363, 20654, 33969, 29874, 40126, 24767, 24768, 15555, 40133, 56528, 63697, 23761, 70866, 40145, 3280, 22742, 30934, 45271, 53465, 11478, 49371, 3288, 't', 44254, 22752, 59617, 39138, 74130, 70891, 3309, 18673, 48373, 48374, 12535, 74134, 37116, 39170, 7426, 74136, 48390, 23815, 11530, 28941, 47380, 38165, 64790, 24855, 44312, 28954, 68891, 45340, 47388, 59678, 48412, 3364, 33062, 1319, 2345, 22829, 74144, 33078, 59703, 62776, 13625, 74147, 58690, 56645, 68936, 39244, 37199, 10577, 61781, 6486, 11606, 48482, 21863, 47466, 38250, 12657, 10609, 52596, 47478, 37238, 61818, 42363, 58747, 63874, 19847, 35210, 63883, 43403, 47501, 74123, 74124, 76176, 74125, 20882, 74126, 74127, 74128, 76182, 74129, 27032, 60825, 41370, 58779, 74131, 74132, 74133, 58783, 74135, 32161, 74137, 74138, 74139, 74140, 74141, 74142, 74143, 36265, 74145, 74146, 51628, 74148, 74149, 74152, 74153, 15795, 62902, 41401, 72130, 55755, 75215, 30160, 34257, 75216, 41427, 41428, 75217, 75218, 4567, 44503, 75219, 4570, 75224, 75226, 75227, 75228, 75229, 54752, 'w', 46560, 75230, 484, 7653, 75231, 75232, 8680, 'a', 45547, 26093, 10736, 54768, 20978, 35315, 61941, 55797, 30200, 49664, 53762, 49667, 10756, 40453, 55816, 74248, 39437, 74255, 39441, 74259, 2583, 74263, 35353, 38425, 74264, 74268, 21021, 35357, 44574, 74269, 74270, 74272, 54821, 23079, 60967, 24105, 34347, 66103, 53821, 13887, 9791, 49729, 43586, 25153, 42561, 63042, 49736, 53833, 1608, 58952, 58958, 49744, 44624, 28243, 16980, 39510, 43608, 55896, 69210, 34395, 68190, 58974, 11870, 29282, 33380, 69224, 33385, 58986, 28274, 53880, 33406, 57983, 34435, 33412, 73349, 72326, 37512, 53897, 42633, 49804, 60047, 19088, 22165, 21142, 38552, 58010, 39581, 27294, 47778, 27301, 43687, 16041, 28330, 63149, 38574, 63154, 74421, 4791, 25285, 26313, 59082, 46795, 46796, 26317, 13008, 42709, 58070, 63197, 42719, 56033, 50921, 57069, 72431, 57071, 51954, 57075, 62197, 3831, 12030, 37634, 'p', 'ws', 20230, 67335, 45833, 49930, 75530, 1807, 75536, 66321, 75537, 75538, 51988, 789, 40725, 75541, 61208, 75542, 19226, 75543, 75544, 75546, 75548, 26399, 75549, 36641, 61218, 1827, 40739, 70437, 75550, 75551, 75552, 24363, 20267, 814, 52020, 46901, 67384, 52031, 56129, 65348, 66373, 59212, 41805, 49997, 60239, 39760, 41806, 74576, 16213, 74583, 20314, 74588, 31581, 10078, 74589, 74590, 18273, 56162, 74592, 43878, 60262, 'herz', 49002, 23403, 19308, 'co2', 23413, 66423, 2939, 51068, 43906, 29570, 19334, 19341, 'vl', 29584, 33680, 28564, 29590, 54170, 66458, 49050, 39838, 48031, 66463, 38814, 43941, 'v', 49062, 33708, 49070, 58288, 36784, 'volt', 23478, 64438, 29623, 13245, 32704, 42946, 32707, 13252, 55234, 43974, 32708, 1990, 14276, 48077, 38862, 47056, 54229, 33756, 11229, 37857, 7137, 12258, 5095, 12265, 27627, 49134, 53238, 62459, 21500]\n"
          ]
        }
      ],
      "source": [
        "print(best_features)"
      ]
    },
    {
      "cell_type": "markdown",
      "id": "5e73981c-4144-42e6-bc53-40b2beecb8ab",
      "metadata": {
        "id": "5e73981c-4144-42e6-bc53-40b2beecb8ab"
      },
      "source": [
        "Итого 491 признак."
      ]
    },
    {
      "cell_type": "markdown",
      "id": "8634b490-a486-4fae-a0c8-95acb60c578a",
      "metadata": {
        "id": "8634b490-a486-4fae-a0c8-95acb60c578a"
      },
      "source": [
        "### 1.4 Итоговый датасет"
      ]
    },
    {
      "cell_type": "markdown",
      "id": "4a32d845-5130-4a28-b835-845379bcf9e2",
      "metadata": {
        "id": "4a32d845-5130-4a28-b835-845379bcf9e2"
      },
      "source": [
        "Оставляем лучшие признаки и удаляем с очень сильной корреляцией"
      ]
    },
    {
      "cell_type": "code",
      "execution_count": null,
      "id": "310d6e4c-0278-45ea-88a6-99e5e1e4e69a",
      "metadata": {
        "id": "310d6e4c-0278-45ea-88a6-99e5e1e4e69a"
      },
      "outputs": [],
      "source": [
        "features = best_features.copy() + ['temp']\n",
        "features.remove('num_experiment')\n",
        "features.remove('volt')\n",
        "features = list(map(str, features))"
      ]
    },
    {
      "cell_type": "code",
      "execution_count": null,
      "id": "42c1d372-78ab-49a6-928a-ab84eac269cb",
      "metadata": {
        "id": "42c1d372-78ab-49a6-928a-ab84eac269cb"
      },
      "outputs": [],
      "source": [
        "exp_df.columns = list(map(str, exp_df.columns.tolist()))"
      ]
    },
    {
      "cell_type": "code",
      "execution_count": null,
      "id": "70f92be6-0519-473d-8934-42ff2d309698",
      "metadata": {
        "id": "70f92be6-0519-473d-8934-42ff2d309698"
      },
      "outputs": [],
      "source": [
        "exp_result_df = pd.DataFrame()\n",
        "\n",
        "for col in features:\n",
        "    if col in exp_df.columns:\n",
        "        exp_result_df[col] = exp_df[col]"
      ]
    },
    {
      "cell_type": "markdown",
      "id": "4517f2e0-6aa9-44dc-bcec-fbe9e9d3ff97",
      "metadata": {
        "id": "4517f2e0-6aa9-44dc-bcec-fbe9e9d3ff97"
      },
      "source": [
        "Итоговый датасет"
      ]
    },
    {
      "cell_type": "code",
      "execution_count": null,
      "id": "9f3c66c7-e643-4a7d-93f8-b78f8215587a",
      "metadata": {
        "id": "9f3c66c7-e643-4a7d-93f8-b78f8215587a",
        "outputId": "4c4e6921-74f0-4cc8-9cab-1f29680e8ae5"
      },
      "outputs": [
        {
          "data": {
            "text/html": [
              "<div>\n",
              "<style scoped>\n",
              "    .dataframe tbody tr th:only-of-type {\n",
              "        vertical-align: middle;\n",
              "    }\n",
              "\n",
              "    .dataframe tbody tr th {\n",
              "        vertical-align: top;\n",
              "    }\n",
              "\n",
              "    .dataframe thead th {\n",
              "        text-align: right;\n",
              "    }\n",
              "</style>\n",
              "<table border=\"1\" class=\"dataframe\">\n",
              "  <thead>\n",
              "    <tr style=\"text-align: right;\">\n",
              "      <th></th>\n",
              "      <th>48130</th>\n",
              "      <th>32773</th>\n",
              "      <th>72709</th>\n",
              "      <th>71689</th>\n",
              "      <th>3081</th>\n",
              "      <th>25610</th>\n",
              "      <th>36877</th>\n",
              "      <th>42000</th>\n",
              "      <th>52240</th>\n",
              "      <th>21527</th>\n",
              "      <th>...</th>\n",
              "      <th>7137</th>\n",
              "      <th>12258</th>\n",
              "      <th>5095</th>\n",
              "      <th>12265</th>\n",
              "      <th>27627</th>\n",
              "      <th>49134</th>\n",
              "      <th>53238</th>\n",
              "      <th>62459</th>\n",
              "      <th>21500</th>\n",
              "      <th>temp</th>\n",
              "    </tr>\n",
              "  </thead>\n",
              "  <tbody>\n",
              "    <tr>\n",
              "      <th>0</th>\n",
              "      <td>25</td>\n",
              "      <td>37</td>\n",
              "      <td>136</td>\n",
              "      <td>187</td>\n",
              "      <td>155</td>\n",
              "      <td>148</td>\n",
              "      <td>40</td>\n",
              "      <td>42</td>\n",
              "      <td>25</td>\n",
              "      <td>89</td>\n",
              "      <td>...</td>\n",
              "      <td>171</td>\n",
              "      <td>164</td>\n",
              "      <td>159</td>\n",
              "      <td>158</td>\n",
              "      <td>54</td>\n",
              "      <td>214</td>\n",
              "      <td>19</td>\n",
              "      <td>215</td>\n",
              "      <td>136</td>\n",
              "      <td>25.300000</td>\n",
              "    </tr>\n",
              "    <tr>\n",
              "      <th>1</th>\n",
              "      <td>23</td>\n",
              "      <td>37</td>\n",
              "      <td>136</td>\n",
              "      <td>185</td>\n",
              "      <td>157</td>\n",
              "      <td>149</td>\n",
              "      <td>40</td>\n",
              "      <td>41</td>\n",
              "      <td>24</td>\n",
              "      <td>90</td>\n",
              "      <td>...</td>\n",
              "      <td>173</td>\n",
              "      <td>163</td>\n",
              "      <td>159</td>\n",
              "      <td>159</td>\n",
              "      <td>54</td>\n",
              "      <td>214</td>\n",
              "      <td>17</td>\n",
              "      <td>214</td>\n",
              "      <td>136</td>\n",
              "      <td>25.548763</td>\n",
              "    </tr>\n",
              "    <tr>\n",
              "      <th>2</th>\n",
              "      <td>22</td>\n",
              "      <td>35</td>\n",
              "      <td>135</td>\n",
              "      <td>182</td>\n",
              "      <td>156</td>\n",
              "      <td>145</td>\n",
              "      <td>40</td>\n",
              "      <td>42</td>\n",
              "      <td>24</td>\n",
              "      <td>89</td>\n",
              "      <td>...</td>\n",
              "      <td>172</td>\n",
              "      <td>161</td>\n",
              "      <td>158</td>\n",
              "      <td>157</td>\n",
              "      <td>52</td>\n",
              "      <td>212</td>\n",
              "      <td>18</td>\n",
              "      <td>214</td>\n",
              "      <td>135</td>\n",
              "      <td>25.797527</td>\n",
              "    </tr>\n",
              "    <tr>\n",
              "      <th>3</th>\n",
              "      <td>22</td>\n",
              "      <td>35</td>\n",
              "      <td>133</td>\n",
              "      <td>179</td>\n",
              "      <td>152</td>\n",
              "      <td>142</td>\n",
              "      <td>40</td>\n",
              "      <td>42</td>\n",
              "      <td>24</td>\n",
              "      <td>88</td>\n",
              "      <td>...</td>\n",
              "      <td>170</td>\n",
              "      <td>158</td>\n",
              "      <td>157</td>\n",
              "      <td>155</td>\n",
              "      <td>52</td>\n",
              "      <td>208</td>\n",
              "      <td>17</td>\n",
              "      <td>211</td>\n",
              "      <td>133</td>\n",
              "      <td>26.046290</td>\n",
              "    </tr>\n",
              "    <tr>\n",
              "      <th>4</th>\n",
              "      <td>25</td>\n",
              "      <td>35</td>\n",
              "      <td>136</td>\n",
              "      <td>185</td>\n",
              "      <td>153</td>\n",
              "      <td>149</td>\n",
              "      <td>39</td>\n",
              "      <td>40</td>\n",
              "      <td>24</td>\n",
              "      <td>89</td>\n",
              "      <td>...</td>\n",
              "      <td>173</td>\n",
              "      <td>163</td>\n",
              "      <td>158</td>\n",
              "      <td>158</td>\n",
              "      <td>53</td>\n",
              "      <td>215</td>\n",
              "      <td>18</td>\n",
              "      <td>215</td>\n",
              "      <td>135</td>\n",
              "      <td>26.295053</td>\n",
              "    </tr>\n",
              "    <tr>\n",
              "      <th>...</th>\n",
              "      <td>...</td>\n",
              "      <td>...</td>\n",
              "      <td>...</td>\n",
              "      <td>...</td>\n",
              "      <td>...</td>\n",
              "      <td>...</td>\n",
              "      <td>...</td>\n",
              "      <td>...</td>\n",
              "      <td>...</td>\n",
              "      <td>...</td>\n",
              "      <td>...</td>\n",
              "      <td>...</td>\n",
              "      <td>...</td>\n",
              "      <td>...</td>\n",
              "      <td>...</td>\n",
              "      <td>...</td>\n",
              "      <td>...</td>\n",
              "      <td>...</td>\n",
              "      <td>...</td>\n",
              "      <td>...</td>\n",
              "      <td>...</td>\n",
              "    </tr>\n",
              "    <tr>\n",
              "      <th>2539</th>\n",
              "      <td>199</td>\n",
              "      <td>223</td>\n",
              "      <td>119</td>\n",
              "      <td>14</td>\n",
              "      <td>9</td>\n",
              "      <td>9</td>\n",
              "      <td>250</td>\n",
              "      <td>241</td>\n",
              "      <td>193</td>\n",
              "      <td>170</td>\n",
              "      <td>...</td>\n",
              "      <td>44</td>\n",
              "      <td>59</td>\n",
              "      <td>157</td>\n",
              "      <td>56</td>\n",
              "      <td>244</td>\n",
              "      <td>19</td>\n",
              "      <td>189</td>\n",
              "      <td>19</td>\n",
              "      <td>9</td>\n",
              "      <td>95.309655</td>\n",
              "    </tr>\n",
              "    <tr>\n",
              "      <th>2540</th>\n",
              "      <td>199</td>\n",
              "      <td>226</td>\n",
              "      <td>119</td>\n",
              "      <td>13</td>\n",
              "      <td>9</td>\n",
              "      <td>9</td>\n",
              "      <td>249</td>\n",
              "      <td>241</td>\n",
              "      <td>194</td>\n",
              "      <td>170</td>\n",
              "      <td>...</td>\n",
              "      <td>44</td>\n",
              "      <td>60</td>\n",
              "      <td>157</td>\n",
              "      <td>56</td>\n",
              "      <td>244</td>\n",
              "      <td>20</td>\n",
              "      <td>191</td>\n",
              "      <td>19</td>\n",
              "      <td>8</td>\n",
              "      <td>95.557241</td>\n",
              "    </tr>\n",
              "    <tr>\n",
              "      <th>2541</th>\n",
              "      <td>201</td>\n",
              "      <td>227</td>\n",
              "      <td>119</td>\n",
              "      <td>13</td>\n",
              "      <td>9</td>\n",
              "      <td>8</td>\n",
              "      <td>248</td>\n",
              "      <td>241</td>\n",
              "      <td>196</td>\n",
              "      <td>174</td>\n",
              "      <td>...</td>\n",
              "      <td>45</td>\n",
              "      <td>60</td>\n",
              "      <td>157</td>\n",
              "      <td>56</td>\n",
              "      <td>245</td>\n",
              "      <td>20</td>\n",
              "      <td>192</td>\n",
              "      <td>19</td>\n",
              "      <td>10</td>\n",
              "      <td>95.804828</td>\n",
              "    </tr>\n",
              "    <tr>\n",
              "      <th>2542</th>\n",
              "      <td>202</td>\n",
              "      <td>227</td>\n",
              "      <td>119</td>\n",
              "      <td>12</td>\n",
              "      <td>9</td>\n",
              "      <td>9</td>\n",
              "      <td>248</td>\n",
              "      <td>241</td>\n",
              "      <td>198</td>\n",
              "      <td>175</td>\n",
              "      <td>...</td>\n",
              "      <td>45</td>\n",
              "      <td>60</td>\n",
              "      <td>157</td>\n",
              "      <td>56</td>\n",
              "      <td>245</td>\n",
              "      <td>20</td>\n",
              "      <td>193</td>\n",
              "      <td>19</td>\n",
              "      <td>9</td>\n",
              "      <td>96.052414</td>\n",
              "    </tr>\n",
              "    <tr>\n",
              "      <th>2543</th>\n",
              "      <td>206</td>\n",
              "      <td>228</td>\n",
              "      <td>119</td>\n",
              "      <td>13</td>\n",
              "      <td>9</td>\n",
              "      <td>9</td>\n",
              "      <td>249</td>\n",
              "      <td>243</td>\n",
              "      <td>201</td>\n",
              "      <td>178</td>\n",
              "      <td>...</td>\n",
              "      <td>46</td>\n",
              "      <td>60</td>\n",
              "      <td>157</td>\n",
              "      <td>57</td>\n",
              "      <td>245</td>\n",
              "      <td>21</td>\n",
              "      <td>196</td>\n",
              "      <td>20</td>\n",
              "      <td>8</td>\n",
              "      <td>96.300000</td>\n",
              "    </tr>\n",
              "  </tbody>\n",
              "</table>\n",
              "<p>2544 rows × 493 columns</p>\n",
              "</div>"
            ],
            "text/plain": [
              "      48130  32773  72709  71689  3081  25610  36877  42000  52240  21527  \\\n",
              "0        25     37    136    187   155    148     40     42     25     89   \n",
              "1        23     37    136    185   157    149     40     41     24     90   \n",
              "2        22     35    135    182   156    145     40     42     24     89   \n",
              "3        22     35    133    179   152    142     40     42     24     88   \n",
              "4        25     35    136    185   153    149     39     40     24     89   \n",
              "...     ...    ...    ...    ...   ...    ...    ...    ...    ...    ...   \n",
              "2539    199    223    119     14     9      9    250    241    193    170   \n",
              "2540    199    226    119     13     9      9    249    241    194    170   \n",
              "2541    201    227    119     13     9      8    248    241    196    174   \n",
              "2542    202    227    119     12     9      9    248    241    198    175   \n",
              "2543    206    228    119     13     9      9    249    243    201    178   \n",
              "\n",
              "      ...  7137  12258  5095  12265  27627  49134  53238  62459  21500  \\\n",
              "0     ...   171    164   159    158     54    214     19    215    136   \n",
              "1     ...   173    163   159    159     54    214     17    214    136   \n",
              "2     ...   172    161   158    157     52    212     18    214    135   \n",
              "3     ...   170    158   157    155     52    208     17    211    133   \n",
              "4     ...   173    163   158    158     53    215     18    215    135   \n",
              "...   ...   ...    ...   ...    ...    ...    ...    ...    ...    ...   \n",
              "2539  ...    44     59   157     56    244     19    189     19      9   \n",
              "2540  ...    44     60   157     56    244     20    191     19      8   \n",
              "2541  ...    45     60   157     56    245     20    192     19     10   \n",
              "2542  ...    45     60   157     56    245     20    193     19      9   \n",
              "2543  ...    46     60   157     57    245     21    196     20      8   \n",
              "\n",
              "           temp  \n",
              "0     25.300000  \n",
              "1     25.548763  \n",
              "2     25.797527  \n",
              "3     26.046290  \n",
              "4     26.295053  \n",
              "...         ...  \n",
              "2539  95.309655  \n",
              "2540  95.557241  \n",
              "2541  95.804828  \n",
              "2542  96.052414  \n",
              "2543  96.300000  \n",
              "\n",
              "[2544 rows x 493 columns]"
            ]
          },
          "execution_count": 53,
          "metadata": {},
          "output_type": "execute_result"
        }
      ],
      "source": [
        "exp_result_df"
      ]
    },
    {
      "cell_type": "markdown",
      "id": "d26fb78d-2fe7-4d57-9bb4-21ab341438e1",
      "metadata": {
        "id": "d26fb78d-2fe7-4d57-9bb4-21ab341438e1"
      },
      "source": [
        "## 2 Поиск режимов кипения"
      ]
    },
    {
      "cell_type": "markdown",
      "id": "6f544526-d2b7-4ecc-998f-25736784b90f",
      "metadata": {
        "id": "6f544526-d2b7-4ecc-998f-25736784b90f"
      },
      "source": [
        "Репрезентация данных на двумерную плоскость"
      ]
    },
    {
      "cell_type": "code",
      "execution_count": null,
      "id": "e4273b5d-4e74-4347-b942-1ca84eae3243",
      "metadata": {
        "id": "e4273b5d-4e74-4347-b942-1ca84eae3243"
      },
      "outputs": [],
      "source": [
        "from sklearn.manifold import TSNE"
      ]
    },
    {
      "cell_type": "code",
      "execution_count": null,
      "id": "f73925dc-e566-4252-a588-129853928f76",
      "metadata": {
        "id": "f73925dc-e566-4252-a588-129853928f76"
      },
      "outputs": [],
      "source": [
        "tsne_test = TSNE()"
      ]
    },
    {
      "cell_type": "code",
      "execution_count": null,
      "id": "528c53b3-9a5f-4d29-8ba1-d56307307477",
      "metadata": {
        "id": "528c53b3-9a5f-4d29-8ba1-d56307307477"
      },
      "outputs": [],
      "source": [
        "rep_tsne = tsne_test.fit_transform(exp_result_df)"
      ]
    },
    {
      "cell_type": "code",
      "execution_count": null,
      "id": "eb3341c4-9b65-4c9e-9c7d-1aa0a451db50",
      "metadata": {
        "id": "eb3341c4-9b65-4c9e-9c7d-1aa0a451db50",
        "outputId": "8b05f8ab-337a-46da-97b3-cf0783146f3e"
      },
      "outputs": [
        {
          "data": {
            "image/png": "[encoded data removed]",
            "text/plain": [
              "<Figure size 432x288 with 1 Axes>"
            ]
          },
          "metadata": {
            "needs_background": "light"
          },
          "output_type": "display_data"
        }
      ],
      "source": [
        "plt.scatter(\n",
        "    rep_tsne[:,0],\n",
        "    rep_tsne[:,1]\n",
        ");"
      ]
    },
    {
      "cell_type": "markdown",
      "id": "3c0c21cf-feca-4cee-90d3-2d8668ba4ef1",
      "metadata": {
        "id": "3c0c21cf-feca-4cee-90d3-2d8668ba4ef1"
      },
      "source": [
        "Определим 3 режима кипения по третям температурных режимов"
      ]
    },
    {
      "cell_type": "code",
      "execution_count": null,
      "id": "05a4ca6d-19e6-4af1-a5a3-5d713b973ed3",
      "metadata": {
        "id": "05a4ca6d-19e6-4af1-a5a3-5d713b973ed3"
      },
      "outputs": [],
      "source": [
        "q_1 = exp_result_df['temp'].quantile(0.33)\n",
        "q_2 = exp_result_df['temp'].quantile(0.66)"
      ]
    },
    {
      "cell_type": "code",
      "execution_count": null,
      "id": "08fb1cb0-c0f3-4e56-bf04-0eb5ce4ad8a9",
      "metadata": {
        "id": "08fb1cb0-c0f3-4e56-bf04-0eb5ce4ad8a9",
        "outputId": "410b0e2a-4b30-4eb7-caf8-2f2b767af8b2"
      },
      "outputs": [
        {
          "data": {
            "text/plain": [
              "(49.01536141857897, 72.34297526501767)"
            ]
          },
          "execution_count": 59,
          "metadata": {},
          "output_type": "execute_result"
        }
      ],
      "source": [
        "q_1, q_2"
      ]
    },
    {
      "cell_type": "markdown",
      "id": "e55ad6b8-9ddc-46ce-85ee-e034a21bf933",
      "metadata": {
        "id": "e55ad6b8-9ddc-46ce-85ee-e034a21bf933"
      },
      "source": [
        "### 2.1 Кластеризация по температурным режимам\n",
        "\n",
        "Отобразим на графике три кластера с температурным режимом, где:\n",
        "\n",
        "ниже 49C - синий\n",
        "\n",
        "49С-72С - зеленый\n",
        "\n",
        "выше 72С - красный"
      ]
    },
    {
      "cell_type": "code",
      "execution_count": null,
      "id": "4434426e-4a20-427f-b673-aaf35be4b01b",
      "metadata": {
        "id": "4434426e-4a20-427f-b673-aaf35be4b01b"
      },
      "outputs": [],
      "source": [
        "reg = exp_result_df['temp'].apply(lambda x: 1 if x < q_1 else 2 if x < q_2 else 3)"
      ]
    },
    {
      "cell_type": "code",
      "execution_count": null,
      "id": "30fa55d7-92d3-458b-8f04-4f70db836fe9",
      "metadata": {
        "id": "30fa55d7-92d3-458b-8f04-4f70db836fe9",
        "outputId": "7c332382-e72b-4466-d042-e5c0ce8117ca"
      },
      "outputs": [
        {
          "data": {
            "image/png": "[encoded data removed]",
            "text/plain": [
              "<Figure size 432x288 with 1 Axes>"
            ]
          },
          "metadata": {
            "needs_background": "light"
          },
          "output_type": "display_data"
        }
      ],
      "source": [
        "plt.scatter(\n",
        "    rep_tsne[:,0],\n",
        "    rep_tsne[:,1],\n",
        "    c=reg.replace({1: 'b', 2: 'g', 3: 'r'}),\n",
        "    alpha=0.3\n",
        ");"
      ]
    },
    {
      "cell_type": "markdown",
      "id": "585b75e6-ba66-40b6-8e0f-0d232c66c863",
      "metadata": {
        "id": "585b75e6-ba66-40b6-8e0f-0d232c66c863"
      },
      "source": [
        "### 2.1 KMeans"
      ]
    },
    {
      "cell_type": "markdown",
      "id": "e8b8f65c-f7e4-4c96-8bd6-991c250d6d85",
      "metadata": {
        "id": "e8b8f65c-f7e4-4c96-8bd6-991c250d6d85"
      },
      "source": [
        "Проанализируем разбиение на 3 кластера с помощью алгоритма близжайших соседей"
      ]
    },
    {
      "cell_type": "code",
      "execution_count": null,
      "id": "b65a6a85-533d-45f9-9ddb-c4295550095a",
      "metadata": {
        "id": "b65a6a85-533d-45f9-9ddb-c4295550095a"
      },
      "outputs": [],
      "source": [
        "from sklearn.cluster import KMeans"
      ]
    },
    {
      "cell_type": "code",
      "execution_count": null,
      "id": "e16dc9d0-1095-448d-8bb3-01456c434418",
      "metadata": {
        "id": "e16dc9d0-1095-448d-8bb3-01456c434418"
      },
      "outputs": [],
      "source": [
        "kmeans = KMeans(n_clusters=3)"
      ]
    },
    {
      "cell_type": "code",
      "execution_count": null,
      "id": "bffc8858-225b-4ec3-a2e1-62a0f1371e2f",
      "metadata": {
        "id": "bffc8858-225b-4ec3-a2e1-62a0f1371e2f",
        "outputId": "6dd88027-4222-4b99-9e19-aab8bdb9998d"
      },
      "outputs": [
        {
          "data": {
            "text/html": [
              "<style>#sk-container-id-3 {color: black;background-color: white;}#sk-container-id-3 pre{padding: 0;}#sk-container-id-3 div.sk-toggleable {background-color: white;}#sk-container-id-3 label.sk-toggleable__label {cursor: pointer;display: block;width: 100%;margin-bottom: 0;padding: 0.3em;box-sizing: border-box;text-align: center;}#sk-container-id-3 label.sk-toggleable__label-arrow:before {content: \"▸\";float: left;margin-right: 0.25em;color: #696969;}#sk-container-id-3 label.sk-toggleable__label-arrow:hover:before {color: black;}#sk-container-id-3 div.sk-estimator:hover label.sk-toggleable__label-arrow:before {color: black;}#sk-container-id-3 div.sk-toggleable__content {max-height: 0;max-width: 0;overflow: hidden;text-align: left;background-color: #f0f8ff;}#sk-container-id-3 div.sk-toggleable__content pre {margin: 0.2em;color: black;border-radius: 0.25em;background-color: #f0f8ff;}#sk-container-id-3 input.sk-toggleable__control:checked~div.sk-toggleable__content {max-height: 200px;max-width: 100%;overflow: auto;}#sk-container-id-3 input.sk-toggleable__control:checked~label.sk-toggleable__label-arrow:before {content: \"▾\";}#sk-container-id-3 div.sk-estimator input.sk-toggleable__control:checked~label.sk-toggleable__label {background-color: #d4ebff;}#sk-container-id-3 div.sk-label input.sk-toggleable__control:checked~label.sk-toggleable__label {background-color: #d4ebff;}#sk-container-id-3 input.sk-hidden--visually {border: 0;clip: rect(1px 1px 1px 1px);clip: rect(1px, 1px, 1px, 1px);height: 1px;margin: -1px;overflow: hidden;padding: 0;position: absolute;width: 1px;}#sk-container-id-3 div.sk-estimator {font-family: monospace;background-color: #f0f8ff;border: 1px dotted black;border-radius: 0.25em;box-sizing: border-box;margin-bottom: 0.5em;}#sk-container-id-3 div.sk-estimator:hover {background-color: #d4ebff;}#sk-container-id-3 div.sk-parallel-item::after {content: \"\";width: 100%;border-bottom: 1px solid gray;flex-grow: 1;}#sk-container-id-3 div.sk-label:hover label.sk-toggleable__label {background-color: #d4ebff;}#sk-container-id-3 div.sk-serial::before {content: \"\";position: absolute;border-left: 1px solid gray;box-sizing: border-box;top: 0;bottom: 0;left: 50%;z-index: 0;}#sk-container-id-3 div.sk-serial {display: flex;flex-direction: column;align-items: center;background-color: white;padding-right: 0.2em;padding-left: 0.2em;position: relative;}#sk-container-id-3 div.sk-item {position: relative;z-index: 1;}#sk-container-id-3 div.sk-parallel {display: flex;align-items: stretch;justify-content: center;background-color: white;position: relative;}#sk-container-id-3 div.sk-item::before, #sk-container-id-3 div.sk-parallel-item::before {content: \"\";position: absolute;border-left: 1px solid gray;box-sizing: border-box;top: 0;bottom: 0;left: 50%;z-index: -1;}#sk-container-id-3 div.sk-parallel-item {display: flex;flex-direction: column;z-index: 1;position: relative;background-color: white;}#sk-container-id-3 div.sk-parallel-item:first-child::after {align-self: flex-end;width: 50%;}#sk-container-id-3 div.sk-parallel-item:last-child::after {align-self: flex-start;width: 50%;}#sk-container-id-3 div.sk-parallel-item:only-child::after {width: 0;}#sk-container-id-3 div.sk-dashed-wrapped {border: 1px dashed gray;margin: 0 0.4em 0.5em 0.4em;box-sizing: border-box;padding-bottom: 0.4em;background-color: white;}#sk-container-id-3 div.sk-label label {font-family: monospace;font-weight: bold;display: inline-block;line-height: 1.2em;}#sk-container-id-3 div.sk-label-container {text-align: center;}#sk-container-id-3 div.sk-container {/* jupyter's `normalize.less` sets `[hidden] { display: none; }` but bootstrap.min.css set `[hidden] { display: none !important; }` so we also need the `!important` here to be able to override the default hidden behavior on the sphinx rendered scikit-learn.org. See: https://github.com/scikit-learn/scikit-learn/issues/21755 */display: inline-block !important;position: relative;}#sk-container-id-3 div.sk-text-repr-fallback {display: none;}</style><div id=\"sk-container-id-3\" class=\"sk-top-container\"><div class=\"sk-text-repr-fallback\"><pre>KMeans(n_clusters=3)</pre><b>In a Jupyter environment, please rerun this cell to show the HTML representation or trust the notebook. <br />On GitHub, the HTML representation is unable to render, please try loading this page with nbviewer.org.</b></div><div class=\"sk-container\" hidden><div class=\"sk-item\"><div class=\"sk-estimator sk-toggleable\"><input class=\"sk-toggleable__control sk-hidden--visually\" id=\"sk-estimator-id-3\" type=\"checkbox\" checked><label for=\"sk-estimator-id-3\" class=\"sk-toggleable__label sk-toggleable__label-arrow\">KMeans</label><div class=\"sk-toggleable__content\"><pre>KMeans(n_clusters=3)</pre></div></div></div></div></div>"
            ],
            "text/plain": [
              "KMeans(n_clusters=3)"
            ]
          },
          "execution_count": 64,
          "metadata": {},
          "output_type": "execute_result"
        }
      ],
      "source": [
        "kmeans.fit(exp_result_df)"
      ]
    },
    {
      "cell_type": "code",
      "execution_count": null,
      "id": "990bcdb9-a3b3-46a1-b830-790ca6e23d2d",
      "metadata": {
        "id": "990bcdb9-a3b3-46a1-b830-790ca6e23d2d"
      },
      "outputs": [],
      "source": [
        "from sklearn.metrics import rand_score, v_measure_score, silhouette_score"
      ]
    },
    {
      "cell_type": "markdown",
      "id": "7f786499-dfb1-46b6-8afb-b12713b5f980",
      "metadata": {
        "id": "7f786499-dfb1-46b6-8afb-b12713b5f980"
      },
      "source": [
        "Отобразим кластеры"
      ]
    },
    {
      "cell_type": "code",
      "execution_count": null,
      "id": "5b20e61e-0963-4666-a3aa-9c4e7e480e34",
      "metadata": {
        "id": "5b20e61e-0963-4666-a3aa-9c4e7e480e34",
        "outputId": "0d3ebc69-5c24-423c-f1db-b19d0cdd974d"
      },
      "outputs": [
        {
          "data": {
            "image/png": "[encoded data removed]",
            "text/plain": [
              "<Figure size 432x288 with 1 Axes>"
            ]
          },
          "metadata": {
            "needs_background": "light"
          },
          "output_type": "display_data"
        }
      ],
      "source": [
        "plt.scatter(\n",
        "    rep_tsne[:,0],\n",
        "    rep_tsne[:,1],\n",
        "    c=kmeans.labels_,\n",
        "    alpha=0.3\n",
        ");"
      ]
    },
    {
      "cell_type": "markdown",
      "id": "6ef5841f-77e1-4a88-bbd7-138ffeb6e20b",
      "metadata": {
        "id": "6ef5841f-77e1-4a88-bbd7-138ffeb6e20b"
      },
      "source": [
        "Оценим результат кластеризации с помощью метрик"
      ]
    },
    {
      "cell_type": "code",
      "execution_count": null,
      "id": "7b583528-e175-4d7d-a3cc-fa3d9ebb55e1",
      "metadata": {
        "id": "7b583528-e175-4d7d-a3cc-fa3d9ebb55e1",
        "outputId": "fa06b74d-e60e-4261-f040-3e1ff84bc3c2"
      },
      "outputs": [
        {
          "data": {
            "text/html": [
              "<div>\n",
              "<style scoped>\n",
              "    .dataframe tbody tr th:only-of-type {\n",
              "        vertical-align: middle;\n",
              "    }\n",
              "\n",
              "    .dataframe tbody tr th {\n",
              "        vertical-align: top;\n",
              "    }\n",
              "\n",
              "    .dataframe thead th {\n",
              "        text-align: right;\n",
              "    }\n",
              "</style>\n",
              "<table border=\"1\" class=\"dataframe\">\n",
              "  <thead>\n",
              "    <tr style=\"text-align: right;\">\n",
              "      <th></th>\n",
              "      <th>cluster1</th>\n",
              "      <th>cluster2</th>\n",
              "      <th>cluster3</th>\n",
              "    </tr>\n",
              "    <tr>\n",
              "      <th>temp</th>\n",
              "      <th></th>\n",
              "      <th></th>\n",
              "      <th></th>\n",
              "    </tr>\n",
              "  </thead>\n",
              "  <tbody>\n",
              "    <tr>\n",
              "      <th>1</th>\n",
              "      <td>270</td>\n",
              "      <td>292</td>\n",
              "      <td>278</td>\n",
              "    </tr>\n",
              "    <tr>\n",
              "      <th>2</th>\n",
              "      <td>279</td>\n",
              "      <td>279</td>\n",
              "      <td>281</td>\n",
              "    </tr>\n",
              "    <tr>\n",
              "      <th>3</th>\n",
              "      <td>289</td>\n",
              "      <td>288</td>\n",
              "      <td>288</td>\n",
              "    </tr>\n",
              "  </tbody>\n",
              "</table>\n",
              "</div>"
            ],
            "text/plain": [
              "      cluster1  cluster2  cluster3\n",
              "temp                              \n",
              "1          270       292       278\n",
              "2          279       279       281\n",
              "3          289       288       288"
            ]
          },
          "execution_count": 67,
          "metadata": {},
          "output_type": "execute_result"
        }
      ],
      "source": [
        "vals = pd.crosstab(reg, kmeans.labels_)\n",
        "vals.columns = ['cluster1', 'cluster2', 'cluster3']\n",
        "vals"
      ]
    },
    {
      "cell_type": "code",
      "execution_count": null,
      "id": "753e0a46-0064-4cbe-bbf5-12516ba8d25a",
      "metadata": {
        "id": "753e0a46-0064-4cbe-bbf5-12516ba8d25a",
        "outputId": "a1f126f2-ebf4-4036-d8f4-4e8e759e218f"
      },
      "outputs": [
        {
          "data": {
            "text/plain": [
              "0.5554018059193198"
            ]
          },
          "execution_count": 68,
          "metadata": {},
          "output_type": "execute_result"
        }
      ],
      "source": [
        "rand_score(reg, kmeans.labels_)"
      ]
    },
    {
      "cell_type": "code",
      "execution_count": null,
      "id": "f993dddf-3509-4f37-8034-ba7a4cb885f3",
      "metadata": {
        "id": "f993dddf-3509-4f37-8034-ba7a4cb885f3",
        "outputId": "afc967a4-f154-44f4-a665-cd5537672576"
      },
      "outputs": [
        {
          "data": {
            "text/plain": [
              "0.00011326478637132837"
            ]
          },
          "execution_count": 69,
          "metadata": {},
          "output_type": "execute_result"
        }
      ],
      "source": [
        "v_measure_score(reg, kmeans.labels_)"
      ]
    },
    {
      "cell_type": "code",
      "execution_count": null,
      "id": "55b5b7d5-0912-4ad3-99de-216c922d3967",
      "metadata": {
        "id": "55b5b7d5-0912-4ad3-99de-216c922d3967",
        "outputId": "3bb0a46d-79cf-4c38-e1b9-f01f4a1de73b"
      },
      "outputs": [
        {
          "data": {
            "text/plain": [
              "0.9965435359195245"
            ]
          },
          "execution_count": 70,
          "metadata": {},
          "output_type": "execute_result"
        }
      ],
      "source": [
        "silhouette_score(exp_result_df, kmeans.labels_)"
      ]
    },
    {
      "cell_type": "markdown",
      "id": "e5868961-4887-448b-8537-838645439667",
      "metadata": {
        "id": "e5868961-4887-448b-8537-838645439667"
      },
      "source": [
        "Силуэт находится в диапазоне от -1 до +1. В данном случае значение близко к 1, что означает, что объект хорошо соответствует своему собственному кластеру и плохо соответствует соседним кластерам."
      ]
    },
    {
      "cell_type": "markdown",
      "id": "9475306f-fb2b-4d81-84a5-16ff7b310d8c",
      "metadata": {
        "id": "9475306f-fb2b-4d81-84a5-16ff7b310d8c"
      },
      "source": [
        "### 2.2 Алгоритм DBSCAN"
      ]
    },
    {
      "cell_type": "code",
      "execution_count": null,
      "id": "155eb271-66e4-426a-b1ec-db479978a063",
      "metadata": {
        "id": "155eb271-66e4-426a-b1ec-db479978a063"
      },
      "outputs": [],
      "source": [
        "from sklearn.cluster import DBSCAN"
      ]
    },
    {
      "cell_type": "code",
      "execution_count": null,
      "id": "12d8267a-ab29-42e7-b313-8c21e32a8413",
      "metadata": {
        "id": "12d8267a-ab29-42e7-b313-8c21e32a8413"
      },
      "outputs": [],
      "source": [
        "dbscan = DBSCAN(n_jobs=-1)"
      ]
    },
    {
      "cell_type": "code",
      "execution_count": null,
      "id": "87a9ed3c-84a5-457f-9d8f-8c3b764b5f94",
      "metadata": {
        "id": "87a9ed3c-84a5-457f-9d8f-8c3b764b5f94",
        "outputId": "c016cdac-adcf-4ec5-a593-fe827c4603a2"
      },
      "outputs": [
        {
          "data": {
            "text/html": [
              "<style>#sk-container-id-4 {color: black;background-color: white;}#sk-container-id-4 pre{padding: 0;}#sk-container-id-4 div.sk-toggleable {background-color: white;}#sk-container-id-4 label.sk-toggleable__label {cursor: pointer;display: block;width: 100%;margin-bottom: 0;padding: 0.3em;box-sizing: border-box;text-align: center;}#sk-container-id-4 label.sk-toggleable__label-arrow:before {content: \"▸\";float: left;margin-right: 0.25em;color: #696969;}#sk-container-id-4 label.sk-toggleable__label-arrow:hover:before {color: black;}#sk-container-id-4 div.sk-estimator:hover label.sk-toggleable__label-arrow:before {color: black;}#sk-container-id-4 div.sk-toggleable__content {max-height: 0;max-width: 0;overflow: hidden;text-align: left;background-color: #f0f8ff;}#sk-container-id-4 div.sk-toggleable__content pre {margin: 0.2em;color: black;border-radius: 0.25em;background-color: #f0f8ff;}#sk-container-id-4 input.sk-toggleable__control:checked~div.sk-toggleable__content {max-height: 200px;max-width: 100%;overflow: auto;}#sk-container-id-4 input.sk-toggleable__control:checked~label.sk-toggleable__label-arrow:before {content: \"▾\";}#sk-container-id-4 div.sk-estimator input.sk-toggleable__control:checked~label.sk-toggleable__label {background-color: #d4ebff;}#sk-container-id-4 div.sk-label input.sk-toggleable__control:checked~label.sk-toggleable__label {background-color: #d4ebff;}#sk-container-id-4 input.sk-hidden--visually {border: 0;clip: rect(1px 1px 1px 1px);clip: rect(1px, 1px, 1px, 1px);height: 1px;margin: -1px;overflow: hidden;padding: 0;position: absolute;width: 1px;}#sk-container-id-4 div.sk-estimator {font-family: monospace;background-color: #f0f8ff;border: 1px dotted black;border-radius: 0.25em;box-sizing: border-box;margin-bottom: 0.5em;}#sk-container-id-4 div.sk-estimator:hover {background-color: #d4ebff;}#sk-container-id-4 div.sk-parallel-item::after {content: \"\";width: 100%;border-bottom: 1px solid gray;flex-grow: 1;}#sk-container-id-4 div.sk-label:hover label.sk-toggleable__label {background-color: #d4ebff;}#sk-container-id-4 div.sk-serial::before {content: \"\";position: absolute;border-left: 1px solid gray;box-sizing: border-box;top: 0;bottom: 0;left: 50%;z-index: 0;}#sk-container-id-4 div.sk-serial {display: flex;flex-direction: column;align-items: center;background-color: white;padding-right: 0.2em;padding-left: 0.2em;position: relative;}#sk-container-id-4 div.sk-item {position: relative;z-index: 1;}#sk-container-id-4 div.sk-parallel {display: flex;align-items: stretch;justify-content: center;background-color: white;position: relative;}#sk-container-id-4 div.sk-item::before, #sk-container-id-4 div.sk-parallel-item::before {content: \"\";position: absolute;border-left: 1px solid gray;box-sizing: border-box;top: 0;bottom: 0;left: 50%;z-index: -1;}#sk-container-id-4 div.sk-parallel-item {display: flex;flex-direction: column;z-index: 1;position: relative;background-color: white;}#sk-container-id-4 div.sk-parallel-item:first-child::after {align-self: flex-end;width: 50%;}#sk-container-id-4 div.sk-parallel-item:last-child::after {align-self: flex-start;width: 50%;}#sk-container-id-4 div.sk-parallel-item:only-child::after {width: 0;}#sk-container-id-4 div.sk-dashed-wrapped {border: 1px dashed gray;margin: 0 0.4em 0.5em 0.4em;box-sizing: border-box;padding-bottom: 0.4em;background-color: white;}#sk-container-id-4 div.sk-label label {font-family: monospace;font-weight: bold;display: inline-block;line-height: 1.2em;}#sk-container-id-4 div.sk-label-container {text-align: center;}#sk-container-id-4 div.sk-container {/* jupyter's `normalize.less` sets `[hidden] { display: none; }` but bootstrap.min.css set `[hidden] { display: none !important; }` so we also need the `!important` here to be able to override the default hidden behavior on the sphinx rendered scikit-learn.org. See: https://github.com/scikit-learn/scikit-learn/issues/21755 */display: inline-block !important;position: relative;}#sk-container-id-4 div.sk-text-repr-fallback {display: none;}</style><div id=\"sk-container-id-4\" class=\"sk-top-container\"><div class=\"sk-text-repr-fallback\"><pre>DBSCAN(n_jobs=-1)</pre><b>In a Jupyter environment, please rerun this cell to show the HTML representation or trust the notebook. <br />On GitHub, the HTML representation is unable to render, please try loading this page with nbviewer.org.</b></div><div class=\"sk-container\" hidden><div class=\"sk-item\"><div class=\"sk-estimator sk-toggleable\"><input class=\"sk-toggleable__control sk-hidden--visually\" id=\"sk-estimator-id-4\" type=\"checkbox\" checked><label for=\"sk-estimator-id-4\" class=\"sk-toggleable__label sk-toggleable__label-arrow\">DBSCAN</label><div class=\"sk-toggleable__content\"><pre>DBSCAN(n_jobs=-1)</pre></div></div></div></div></div>"
            ],
            "text/plain": [
              "DBSCAN(n_jobs=-1)"
            ]
          },
          "execution_count": 73,
          "metadata": {},
          "output_type": "execute_result"
        }
      ],
      "source": [
        "dbscan.fit(exp_result_df)"
      ]
    },
    {
      "cell_type": "code",
      "execution_count": null,
      "id": "728e4007-ac80-4669-80b7-2d3dbf288366",
      "metadata": {
        "id": "728e4007-ac80-4669-80b7-2d3dbf288366",
        "outputId": "c69e614e-1275-45ed-8bf4-edff42c5be73"
      },
      "outputs": [
        {
          "data": {
            "image/png": "[encoded data removed]",
            "text/plain": [
              "<Figure size 432x288 with 1 Axes>"
            ]
          },
          "metadata": {
            "needs_background": "light"
          },
          "output_type": "display_data"
        }
      ],
      "source": [
        "plt.scatter(\n",
        "    rep_tsne[:,0],\n",
        "    rep_tsne[:,1],\n",
        "    c=dbscan.labels_,\n",
        "    alpha=0.3\n",
        ");"
      ]
    },
    {
      "cell_type": "code",
      "execution_count": null,
      "id": "d07c399e-c3b7-45b7-87c5-1e545e1a757c",
      "metadata": {
        "id": "d07c399e-c3b7-45b7-87c5-1e545e1a757c",
        "outputId": "54d62fac-9b28-40c1-d8e9-4c101f1f59d3"
      },
      "outputs": [
        {
          "data": {
            "text/plain": [
              "0.33313826090612536"
            ]
          },
          "execution_count": 75,
          "metadata": {},
          "output_type": "execute_result"
        }
      ],
      "source": [
        "rand_score(reg, dbscan.labels_)"
      ]
    },
    {
      "cell_type": "code",
      "execution_count": null,
      "id": "b12aa19a-201f-4eed-9d06-08218b8e392a",
      "metadata": {
        "id": "b12aa19a-201f-4eed-9d06-08218b8e392a",
        "outputId": "02dd1817-366d-4590-f37a-3a1f2f253517"
      },
      "outputs": [
        {
          "data": {
            "text/plain": [
              "0.0"
            ]
          },
          "execution_count": 76,
          "metadata": {},
          "output_type": "execute_result"
        }
      ],
      "source": [
        "v_measure_score(reg, dbscan.labels_)"
      ]
    },
    {
      "cell_type": "markdown",
      "id": "a1ff7c65-5a2f-4ede-b41d-8d6f305a4b14",
      "metadata": {
        "id": "a1ff7c65-5a2f-4ede-b41d-8d6f305a4b14"
      },
      "source": [
        "### 2.3 Аггломеративная кластеризация"
      ]
    },
    {
      "cell_type": "code",
      "execution_count": null,
      "id": "811b0b18-bd2c-40f2-bc60-d5136115a8f0",
      "metadata": {
        "id": "811b0b18-bd2c-40f2-bc60-d5136115a8f0"
      },
      "outputs": [],
      "source": [
        "from sklearn.cluster import AgglomerativeClustering"
      ]
    },
    {
      "cell_type": "code",
      "execution_count": null,
      "id": "2f53e7a4-e2cf-41c7-ad5a-83b77a0b29dd",
      "metadata": {
        "id": "2f53e7a4-e2cf-41c7-ad5a-83b77a0b29dd"
      },
      "outputs": [],
      "source": [
        "agg_cluster = AgglomerativeClustering(n_clusters=3)"
      ]
    },
    {
      "cell_type": "code",
      "execution_count": null,
      "id": "171420a9-b330-4987-ab2e-5096e18bc0ec",
      "metadata": {
        "id": "171420a9-b330-4987-ab2e-5096e18bc0ec",
        "outputId": "ffb168f9-218c-4393-baf8-986ac4828068"
      },
      "outputs": [
        {
          "data": {
            "text/html": [
              "<style>#sk-container-id-6 {color: black;background-color: white;}#sk-container-id-6 pre{padding: 0;}#sk-container-id-6 div.sk-toggleable {background-color: white;}#sk-container-id-6 label.sk-toggleable__label {cursor: pointer;display: block;width: 100%;margin-bottom: 0;padding: 0.3em;box-sizing: border-box;text-align: center;}#sk-container-id-6 label.sk-toggleable__label-arrow:before {content: \"▸\";float: left;margin-right: 0.25em;color: #696969;}#sk-container-id-6 label.sk-toggleable__label-arrow:hover:before {color: black;}#sk-container-id-6 div.sk-estimator:hover label.sk-toggleable__label-arrow:before {color: black;}#sk-container-id-6 div.sk-toggleable__content {max-height: 0;max-width: 0;overflow: hidden;text-align: left;background-color: #f0f8ff;}#sk-container-id-6 div.sk-toggleable__content pre {margin: 0.2em;color: black;border-radius: 0.25em;background-color: #f0f8ff;}#sk-container-id-6 input.sk-toggleable__control:checked~div.sk-toggleable__content {max-height: 200px;max-width: 100%;overflow: auto;}#sk-container-id-6 input.sk-toggleable__control:checked~label.sk-toggleable__label-arrow:before {content: \"▾\";}#sk-container-id-6 div.sk-estimator input.sk-toggleable__control:checked~label.sk-toggleable__label {background-color: #d4ebff;}#sk-container-id-6 div.sk-label input.sk-toggleable__control:checked~label.sk-toggleable__label {background-color: #d4ebff;}#sk-container-id-6 input.sk-hidden--visually {border: 0;clip: rect(1px 1px 1px 1px);clip: rect(1px, 1px, 1px, 1px);height: 1px;margin: -1px;overflow: hidden;padding: 0;position: absolute;width: 1px;}#sk-container-id-6 div.sk-estimator {font-family: monospace;background-color: #f0f8ff;border: 1px dotted black;border-radius: 0.25em;box-sizing: border-box;margin-bottom: 0.5em;}#sk-container-id-6 div.sk-estimator:hover {background-color: #d4ebff;}#sk-container-id-6 div.sk-parallel-item::after {content: \"\";width: 100%;border-bottom: 1px solid gray;flex-grow: 1;}#sk-container-id-6 div.sk-label:hover label.sk-toggleable__label {background-color: #d4ebff;}#sk-container-id-6 div.sk-serial::before {content: \"\";position: absolute;border-left: 1px solid gray;box-sizing: border-box;top: 0;bottom: 0;left: 50%;z-index: 0;}#sk-container-id-6 div.sk-serial {display: flex;flex-direction: column;align-items: center;background-color: white;padding-right: 0.2em;padding-left: 0.2em;position: relative;}#sk-container-id-6 div.sk-item {position: relative;z-index: 1;}#sk-container-id-6 div.sk-parallel {display: flex;align-items: stretch;justify-content: center;background-color: white;position: relative;}#sk-container-id-6 div.sk-item::before, #sk-container-id-6 div.sk-parallel-item::before {content: \"\";position: absolute;border-left: 1px solid gray;box-sizing: border-box;top: 0;bottom: 0;left: 50%;z-index: -1;}#sk-container-id-6 div.sk-parallel-item {display: flex;flex-direction: column;z-index: 1;position: relative;background-color: white;}#sk-container-id-6 div.sk-parallel-item:first-child::after {align-self: flex-end;width: 50%;}#sk-container-id-6 div.sk-parallel-item:last-child::after {align-self: flex-start;width: 50%;}#sk-container-id-6 div.sk-parallel-item:only-child::after {width: 0;}#sk-container-id-6 div.sk-dashed-wrapped {border: 1px dashed gray;margin: 0 0.4em 0.5em 0.4em;box-sizing: border-box;padding-bottom: 0.4em;background-color: white;}#sk-container-id-6 div.sk-label label {font-family: monospace;font-weight: bold;display: inline-block;line-height: 1.2em;}#sk-container-id-6 div.sk-label-container {text-align: center;}#sk-container-id-6 div.sk-container {/* jupyter's `normalize.less` sets `[hidden] { display: none; }` but bootstrap.min.css set `[hidden] { display: none !important; }` so we also need the `!important` here to be able to override the default hidden behavior on the sphinx rendered scikit-learn.org. See: https://github.com/scikit-learn/scikit-learn/issues/21755 */display: inline-block !important;position: relative;}#sk-container-id-6 div.sk-text-repr-fallback {display: none;}</style><div id=\"sk-container-id-6\" class=\"sk-top-container\"><div class=\"sk-text-repr-fallback\"><pre>AgglomerativeClustering(n_clusters=3)</pre><b>In a Jupyter environment, please rerun this cell to show the HTML representation or trust the notebook. <br />On GitHub, the HTML representation is unable to render, please try loading this page with nbviewer.org.</b></div><div class=\"sk-container\" hidden><div class=\"sk-item\"><div class=\"sk-estimator sk-toggleable\"><input class=\"sk-toggleable__control sk-hidden--visually\" id=\"sk-estimator-id-6\" type=\"checkbox\" checked><label for=\"sk-estimator-id-6\" class=\"sk-toggleable__label sk-toggleable__label-arrow\">AgglomerativeClustering</label><div class=\"sk-toggleable__content\"><pre>AgglomerativeClustering(n_clusters=3)</pre></div></div></div></div></div>"
            ],
            "text/plain": [
              "AgglomerativeClustering(n_clusters=3)"
            ]
          },
          "execution_count": 84,
          "metadata": {},
          "output_type": "execute_result"
        }
      ],
      "source": [
        "agg_cluster.fit(exp_result_df)"
      ]
    },
    {
      "cell_type": "code",
      "execution_count": null,
      "id": "fcdb66e8-382b-487d-b500-028a69343e78",
      "metadata": {
        "id": "fcdb66e8-382b-487d-b500-028a69343e78",
        "outputId": "471ecb7a-bee3-4519-fd10-94172a96ac66"
      },
      "outputs": [
        {
          "data": {
            "text/plain": [
              "array([0, 0, 0, ..., 1, 1, 1], dtype=int64)"
            ]
          },
          "execution_count": 82,
          "metadata": {},
          "output_type": "execute_result"
        }
      ],
      "source": [
        "agg_cluster.labels_"
      ]
    },
    {
      "cell_type": "code",
      "execution_count": null,
      "id": "ee68369c-09c5-4d50-bb67-c0f511835bdf",
      "metadata": {
        "id": "ee68369c-09c5-4d50-bb67-c0f511835bdf",
        "outputId": "0e5e5175-6c51-4574-f598-f8e30b037998"
      },
      "outputs": [
        {
          "data": {
            "image/png": "[encoded data removed]",
            "text/plain": [
              "<Figure size 432x288 with 1 Axes>"
            ]
          },
          "metadata": {
            "needs_background": "light"
          },
          "output_type": "display_data"
        }
      ],
      "source": [
        "plt.scatter(\n",
        "    rep_tsne[:,0],\n",
        "    rep_tsne[:,1],\n",
        "    c=agg_cluster.labels_,\n",
        "    alpha=0.3\n",
        ");"
      ]
    },
    {
      "cell_type": "code",
      "execution_count": null,
      "id": "6a32774b-3d17-4ff1-b69f-627a9fdc6231",
      "metadata": {
        "id": "6a32774b-3d17-4ff1-b69f-627a9fdc6231",
        "outputId": "358e56cf-bd32-4bfb-cb4a-58e0c88cb912"
      },
      "outputs": [
        {
          "data": {
            "text/plain": [
              "0.5554018059193198"
            ]
          },
          "execution_count": 86,
          "metadata": {},
          "output_type": "execute_result"
        }
      ],
      "source": [
        "rand_score(reg, agg_cluster.labels_)"
      ]
    },
    {
      "cell_type": "code",
      "execution_count": null,
      "id": "9ed89ff9-e736-452f-887d-32598dabf64c",
      "metadata": {
        "id": "9ed89ff9-e736-452f-887d-32598dabf64c",
        "outputId": "314487b3-b8e4-4fc0-ffb9-14b7081fdeee"
      },
      "outputs": [
        {
          "data": {
            "text/plain": [
              "0.00011326478637132837"
            ]
          },
          "execution_count": 87,
          "metadata": {},
          "output_type": "execute_result"
        }
      ],
      "source": [
        "v_measure_score(reg, agg_cluster.labels_)"
      ]
    },
    {
      "cell_type": "code",
      "execution_count": null,
      "id": "a0bdcca1-cebe-4026-a053-bcb0cea225bf",
      "metadata": {
        "id": "a0bdcca1-cebe-4026-a053-bcb0cea225bf",
        "outputId": "3bcc3c95-cbca-445a-ab97-3aaa502e2d56"
      },
      "outputs": [
        {
          "data": {
            "text/plain": [
              "0.9965435359195245"
            ]
          },
          "execution_count": 88,
          "metadata": {},
          "output_type": "execute_result"
        }
      ],
      "source": [
        "silhouette_score(exp_result_df, agg_cluster.labels_)"
      ]
    },
    {
      "cell_type": "markdown",
      "id": "bd35627c-c81a-4158-9936-85f6d8ed2397",
      "metadata": {
        "id": "bd35627c-c81a-4158-9936-85f6d8ed2397"
      },
      "source": [
        "Результаты кластеризации KMeans и AgglomerativeClustering идентичны."
      ]
    },
    {
      "cell_type": "markdown",
      "id": "08057b3d-7674-41cc-8051-5172c2b8cef2",
      "metadata": {
        "id": "08057b3d-7674-41cc-8051-5172c2b8cef2"
      },
      "source": [
        "### 2.4 Оптимальное количество кластеров"
      ]
    },
    {
      "cell_type": "markdown",
      "id": "7b4a3f66-3fe6-4d81-80d2-30b8130672d5",
      "metadata": {
        "id": "7b4a3f66-3fe6-4d81-80d2-30b8130672d5"
      },
      "source": [
        "С помощью метода локтя определим оптимальное количество кластеров для этой задачи"
      ]
    },
    {
      "cell_type": "code",
      "execution_count": null,
      "id": "3897b221-1f4c-49c2-85dd-5d28ad6d1cc9",
      "metadata": {
        "id": "3897b221-1f4c-49c2-85dd-5d28ad6d1cc9"
      },
      "outputs": [],
      "source": [
        "inertia = []\n",
        "\n",
        "for i in range(1, 10):\n",
        "    model = KMeans(n_clusters=i)\n",
        "    model.fit(exp_result_df)\n",
        "    inertia.append(model.inertia_)"
      ]
    },
    {
      "cell_type": "code",
      "execution_count": null,
      "id": "37585a90-fa79-434d-882a-cf47203b62b3",
      "metadata": {
        "id": "37585a90-fa79-434d-882a-cf47203b62b3",
        "outputId": "8e411e20-dee3-4188-8888-9e9feca4548d"
      },
      "outputs": [
        {
          "data": {
            "image/png": "[encoded data removed]",
            "text/plain": [
              "<Figure size 864x432 with 1 Axes>"
            ]
          },
          "metadata": {
            "needs_background": "light"
          },
          "output_type": "display_data"
        }
      ],
      "source": [
        "plt.figure(figsize=(12,6))\n",
        "plt.plot(inertia)\n",
        "plt.scatter(range(9), inertia)\n",
        "plt.xticks(range(9), range(1, 10))\n",
        "plt.xlabel('Количество кластеров')\n",
        "plt.title('Оптимальное количество кластеров')\n",
        "plt.axvline(2, linestyle=':', c='r');"
      ]
    },
    {
      "cell_type": "markdown",
      "id": "ef7bc167-8956-49e0-b6e4-ef5b13e242e0",
      "metadata": {
        "id": "ef7bc167-8956-49e0-b6e4-ef5b13e242e0"
      },
      "source": [
        "Оптимальное количество - 3 кластера. Совпадает с режимами кипения"
      ]
    },
    {
      "cell_type": "markdown",
      "id": "52a3e890-4e20-4c41-9028-49d2a00d360c",
      "metadata": {
        "id": "52a3e890-4e20-4c41-9028-49d2a00d360c"
      },
      "source": [
        "### 2.5 Режимы кипения"
      ]
    },
    {
      "cell_type": "markdown",
      "id": "f6f832e0-6201-4c12-ae43-f9dab2731f63",
      "metadata": {
        "id": "f6f832e0-6201-4c12-ae43-f9dab2731f63"
      },
      "source": [
        "Дополним датасет признаком принадлежности к кластеру, выделенном с помощью KMeans"
      ]
    },
    {
      "cell_type": "code",
      "execution_count": null,
      "id": "d1603739-293b-4a7a-a706-d2cd4a47283c",
      "metadata": {
        "id": "d1603739-293b-4a7a-a706-d2cd4a47283c"
      },
      "outputs": [],
      "source": [
        "exp_result_df['cluster'] = kmeans.labels_"
      ]
    },
    {
      "cell_type": "code",
      "execution_count": null,
      "id": "f021885c-cb81-4e9d-9413-cfc30353e49b",
      "metadata": {
        "id": "f021885c-cb81-4e9d-9413-cfc30353e49b",
        "outputId": "69076420-a690-45e2-8664-032daab07c9e"
      },
      "outputs": [
        {
          "data": {
            "text/plain": [
              "2253    24.500000\n",
              "2254    24.747586\n",
              "1973    24.900000\n",
              "2255    24.995172\n",
              "1685    25.000000\n",
              "          ...    \n",
              "2542    96.052414\n",
              "1971    96.151220\n",
              "2252    96.200000\n",
              "2543    96.300000\n",
              "1972    96.400000\n",
              "Name: temp, Length: 859, dtype: float64"
            ]
          },
          "execution_count": 107,
          "metadata": {},
          "output_type": "execute_result"
        }
      ],
      "source": [
        "exp_result_df.query('cluster == 1')['temp'].sort_values()"
      ]
    },
    {
      "cell_type": "code",
      "execution_count": null,
      "id": "99b091b7-3db9-46e3-be94-27672aae0365",
      "metadata": {
        "id": "99b091b7-3db9-46e3-be94-27672aae0365",
        "outputId": "1379221f-e965-48a2-8fc6-a2b141429c24"
      },
      "outputs": [
        {
          "data": {
            "image/png": "[encoded data removed]",
            "text/plain": [
              "<Figure size 432x288 with 1 Axes>"
            ]
          },
          "metadata": {
            "needs_background": "light"
          },
          "output_type": "display_data"
        }
      ],
      "source": [
        "plt.plot(range(859), exp_result_df.query('cluster == 1')['temp'].sort_values())\n",
        "plt.title('Значения температуры для первого кластера')\n",
        "plt.ylabel('Температура, C');"
      ]
    },
    {
      "cell_type": "markdown",
      "id": "3d378291-46df-4c76-af60-719ef17fdec2",
      "metadata": {
        "id": "3d378291-46df-4c76-af60-719ef17fdec2"
      },
      "source": [
        "Алгоритмы кластеризации не справились с задачей нахождения режимов кипения."
      ]
    },
    {
      "cell_type": "markdown",
      "id": "104387b0-1ae4-4688-879b-b9b7507bbdd6",
      "metadata": {
        "id": "104387b0-1ae4-4688-879b-b9b7507bbdd6"
      },
      "source": [
        "Определим режимы кипения по температурным режимам по третям, как это было определено ранее."
      ]
    },
    {
      "cell_type": "code",
      "execution_count": null,
      "id": "821078b5-4b3e-4507-82a1-9282de304df4",
      "metadata": {
        "id": "821078b5-4b3e-4507-82a1-9282de304df4"
      },
      "outputs": [],
      "source": [
        "exp_result_df['mode'] = reg"
      ]
    },
    {
      "cell_type": "markdown",
      "id": "bedd1492-26da-4706-b759-224755999d9b",
      "metadata": {
        "id": "bedd1492-26da-4706-b759-224755999d9b"
      },
      "source": [
        "## 3 Классификация режимов кипения"
      ]
    },
    {
      "cell_type": "markdown",
      "id": "af2ed91b-2935-4491-a966-3510cfa796ab",
      "metadata": {
        "id": "af2ed91b-2935-4491-a966-3510cfa796ab"
      },
      "source": [
        "### 3.1 Подготовка данных для классификации"
      ]
    },
    {
      "cell_type": "markdown",
      "id": "aafea34c-4531-4cf3-aa77-ee0b08005034",
      "metadata": {
        "id": "aafea34c-4531-4cf3-aa77-ee0b08005034"
      },
      "source": [
        "Разделяем выборку на объекты-цель (цель - режим кипения)"
      ]
    },
    {
      "cell_type": "code",
      "execution_count": null,
      "id": "efaa75bd-f9d1-4234-86e4-66b43b97ee2c",
      "metadata": {
        "id": "efaa75bd-f9d1-4234-86e4-66b43b97ee2c"
      },
      "outputs": [],
      "source": [
        "X = exp_result_df.drop('mode', axis=1)\n",
        "y = exp_result_df['mode']"
      ]
    },
    {
      "cell_type": "markdown",
      "id": "fdcc6065-a0ee-4628-b174-0a931c1a3f3a",
      "metadata": {
        "id": "fdcc6065-a0ee-4628-b174-0a931c1a3f3a"
      },
      "source": [
        "Разбиваем данные на тренировочные и валидационные"
      ]
    },
    {
      "cell_type": "code",
      "execution_count": null,
      "id": "6f37c04d-7ec9-4517-8be1-ab0dd3a351d8",
      "metadata": {
        "id": "6f37c04d-7ec9-4517-8be1-ab0dd3a351d8"
      },
      "outputs": [],
      "source": [
        "from sklearn.model_selection import train_test_split"
      ]
    },
    {
      "cell_type": "code",
      "execution_count": null,
      "id": "76773c0f-645d-41b9-88ce-6fb42798c4bd",
      "metadata": {
        "id": "76773c0f-645d-41b9-88ce-6fb42798c4bd"
      },
      "outputs": [],
      "source": [
        "X_train, X_test, y_train, y_test = train_test_split(X, y, test_size=0.33, random_state=RANDOM_STATE, stratify=y)"
      ]
    },
    {
      "cell_type": "markdown",
      "id": "0e8e657a-fdde-4857-a8d8-3723f5c2217d",
      "metadata": {
        "id": "0e8e657a-fdde-4857-a8d8-3723f5c2217d"
      },
      "source": [
        "### 3.2 Классификация"
      ]
    },
    {
      "cell_type": "markdown",
      "id": "5019b818-bd29-43cf-aa77-af23b1cee535",
      "metadata": {
        "id": "5019b818-bd29-43cf-aa77-af23b1cee535"
      },
      "source": [
        "Всего 3 класса по режимам кипения:"
      ]
    },
    {
      "cell_type": "code",
      "execution_count": null,
      "id": "feff283a-ab5e-4f6c-b283-4c89669759e5",
      "metadata": {
        "id": "feff283a-ab5e-4f6c-b283-4c89669759e5",
        "outputId": "44a4e552-cadf-4da7-b7ce-7aef1b90703e"
      },
      "outputs": [
        {
          "data": {
            "text/plain": [
              "array([1, 2, 3], dtype=int64)"
            ]
          },
          "execution_count": 160,
          "metadata": {},
          "output_type": "execute_result"
        }
      ],
      "source": [
        "exp_result_df['mode'].unique()"
      ]
    },
    {
      "cell_type": "code",
      "execution_count": null,
      "id": "401cb66b-b81f-472d-80ce-715fc6e14504",
      "metadata": {
        "id": "401cb66b-b81f-472d-80ce-715fc6e14504",
        "outputId": "1a480fd8-f928-4d87-ba8c-83c55e02a514"
      },
      "outputs": [
        {
          "data": {
            "text/plain": [
              "3"
            ]
          },
          "execution_count": 161,
          "metadata": {},
          "output_type": "execute_result"
        }
      ],
      "source": [
        "exp_result_df['mode'].nunique()"
      ]
    },
    {
      "cell_type": "markdown",
      "id": "f67694d8-1557-4e6f-9c73-cee0c897613c",
      "metadata": {
        "id": "f67694d8-1557-4e6f-9c73-cee0c897613c"
      },
      "source": [
        "#### 3.2.1 Логистическая регрессия"
      ]
    },
    {
      "cell_type": "code",
      "execution_count": null,
      "id": "4a26ff56-a23b-415f-a12d-7aad89a625fe",
      "metadata": {
        "id": "4a26ff56-a23b-415f-a12d-7aad89a625fe"
      },
      "outputs": [],
      "source": [
        "from sklearn.linear_model import LogisticRegression"
      ]
    },
    {
      "cell_type": "code",
      "execution_count": null,
      "id": "6b9b58ab-932a-477c-b87a-fc195b6a1ef9",
      "metadata": {
        "id": "6b9b58ab-932a-477c-b87a-fc195b6a1ef9"
      },
      "outputs": [],
      "source": [
        "logit = LogisticRegression(class_weight='balanced', random_state=RANDOM_STATE)"
      ]
    },
    {
      "cell_type": "code",
      "execution_count": null,
      "id": "9fb94912-d396-4246-91b4-5cddf79f9f6e",
      "metadata": {
        "id": "9fb94912-d396-4246-91b4-5cddf79f9f6e",
        "outputId": "04d28f32-907f-4828-ced3-2089dd8c60df"
      },
      "outputs": [
        {
          "name": "stdout",
          "output_type": "stream",
          "text": [
            "CPU times: total: 625 ms\n",
            "Wall time: 141 ms\n"
          ]
        },
        {
          "data": {
            "text/html": [
              "<style>#sk-container-id-7 {color: black;background-color: white;}#sk-container-id-7 pre{padding: 0;}#sk-container-id-7 div.sk-toggleable {background-color: white;}#sk-container-id-7 label.sk-toggleable__label {cursor: pointer;display: block;width: 100%;margin-bottom: 0;padding: 0.3em;box-sizing: border-box;text-align: center;}#sk-container-id-7 label.sk-toggleable__label-arrow:before {content: \"▸\";float: left;margin-right: 0.25em;color: #696969;}#sk-container-id-7 label.sk-toggleable__label-arrow:hover:before {color: black;}#sk-container-id-7 div.sk-estimator:hover label.sk-toggleable__label-arrow:before {color: black;}#sk-container-id-7 div.sk-toggleable__content {max-height: 0;max-width: 0;overflow: hidden;text-align: left;background-color: #f0f8ff;}#sk-container-id-7 div.sk-toggleable__content pre {margin: 0.2em;color: black;border-radius: 0.25em;background-color: #f0f8ff;}#sk-container-id-7 input.sk-toggleable__control:checked~div.sk-toggleable__content {max-height: 200px;max-width: 100%;overflow: auto;}#sk-container-id-7 input.sk-toggleable__control:checked~label.sk-toggleable__label-arrow:before {content: \"▾\";}#sk-container-id-7 div.sk-estimator input.sk-toggleable__control:checked~label.sk-toggleable__label {background-color: #d4ebff;}#sk-container-id-7 div.sk-label input.sk-toggleable__control:checked~label.sk-toggleable__label {background-color: #d4ebff;}#sk-container-id-7 input.sk-hidden--visually {border: 0;clip: rect(1px 1px 1px 1px);clip: rect(1px, 1px, 1px, 1px);height: 1px;margin: -1px;overflow: hidden;padding: 0;position: absolute;width: 1px;}#sk-container-id-7 div.sk-estimator {font-family: monospace;background-color: #f0f8ff;border: 1px dotted black;border-radius: 0.25em;box-sizing: border-box;margin-bottom: 0.5em;}#sk-container-id-7 div.sk-estimator:hover {background-color: #d4ebff;}#sk-container-id-7 div.sk-parallel-item::after {content: \"\";width: 100%;border-bottom: 1px solid gray;flex-grow: 1;}#sk-container-id-7 div.sk-label:hover label.sk-toggleable__label {background-color: #d4ebff;}#sk-container-id-7 div.sk-serial::before {content: \"\";position: absolute;border-left: 1px solid gray;box-sizing: border-box;top: 0;bottom: 0;left: 50%;z-index: 0;}#sk-container-id-7 div.sk-serial {display: flex;flex-direction: column;align-items: center;background-color: white;padding-right: 0.2em;padding-left: 0.2em;position: relative;}#sk-container-id-7 div.sk-item {position: relative;z-index: 1;}#sk-container-id-7 div.sk-parallel {display: flex;align-items: stretch;justify-content: center;background-color: white;position: relative;}#sk-container-id-7 div.sk-item::before, #sk-container-id-7 div.sk-parallel-item::before {content: \"\";position: absolute;border-left: 1px solid gray;box-sizing: border-box;top: 0;bottom: 0;left: 50%;z-index: -1;}#sk-container-id-7 div.sk-parallel-item {display: flex;flex-direction: column;z-index: 1;position: relative;background-color: white;}#sk-container-id-7 div.sk-parallel-item:first-child::after {align-self: flex-end;width: 50%;}#sk-container-id-7 div.sk-parallel-item:last-child::after {align-self: flex-start;width: 50%;}#sk-container-id-7 div.sk-parallel-item:only-child::after {width: 0;}#sk-container-id-7 div.sk-dashed-wrapped {border: 1px dashed gray;margin: 0 0.4em 0.5em 0.4em;box-sizing: border-box;padding-bottom: 0.4em;background-color: white;}#sk-container-id-7 div.sk-label label {font-family: monospace;font-weight: bold;display: inline-block;line-height: 1.2em;}#sk-container-id-7 div.sk-label-container {text-align: center;}#sk-container-id-7 div.sk-container {/* jupyter's `normalize.less` sets `[hidden] { display: none; }` but bootstrap.min.css set `[hidden] { display: none !important; }` so we also need the `!important` here to be able to override the default hidden behavior on the sphinx rendered scikit-learn.org. See: https://github.com/scikit-learn/scikit-learn/issues/21755 */display: inline-block !important;position: relative;}#sk-container-id-7 div.sk-text-repr-fallback {display: none;}</style><div id=\"sk-container-id-7\" class=\"sk-top-container\"><div class=\"sk-text-repr-fallback\"><pre>LogisticRegression(class_weight=&#x27;balanced&#x27;, random_state=666)</pre><b>In a Jupyter environment, please rerun this cell to show the HTML representation or trust the notebook. <br />On GitHub, the HTML representation is unable to render, please try loading this page with nbviewer.org.</b></div><div class=\"sk-container\" hidden><div class=\"sk-item\"><div class=\"sk-estimator sk-toggleable\"><input class=\"sk-toggleable__control sk-hidden--visually\" id=\"sk-estimator-id-7\" type=\"checkbox\" checked><label for=\"sk-estimator-id-7\" class=\"sk-toggleable__label sk-toggleable__label-arrow\">LogisticRegression</label><div class=\"sk-toggleable__content\"><pre>LogisticRegression(class_weight=&#x27;balanced&#x27;, random_state=666)</pre></div></div></div></div></div>"
            ],
            "text/plain": [
              "LogisticRegression(class_weight='balanced', random_state=666)"
            ]
          },
          "execution_count": 143,
          "metadata": {},
          "output_type": "execute_result"
        }
      ],
      "source": [
        "%%time\n",
        "logit.fit(X_train, y_train)"
      ]
    },
    {
      "cell_type": "markdown",
      "id": "845e695f-c586-4ee6-b17a-b1ad2e9a647d",
      "metadata": {
        "id": "845e695f-c586-4ee6-b17a-b1ad2e9a647d"
      },
      "source": [
        "Оценка точности классификации"
      ]
    },
    {
      "cell_type": "code",
      "execution_count": null,
      "id": "bc2e2c39-f63f-4946-bf78-aefb55df326e",
      "metadata": {
        "id": "bc2e2c39-f63f-4946-bf78-aefb55df326e"
      },
      "outputs": [],
      "source": [
        "from sklearn.metrics import classification_report, f1_score, mean_absolute_percentage_error"
      ]
    },
    {
      "cell_type": "code",
      "execution_count": null,
      "id": "4f8cdad6-125f-4ede-b98b-7c9d0d10ad95",
      "metadata": {
        "id": "4f8cdad6-125f-4ede-b98b-7c9d0d10ad95",
        "outputId": "a6b7dc7a-88c0-4fff-bc24-65149f1749ea"
      },
      "outputs": [
        {
          "name": "stdout",
          "output_type": "stream",
          "text": [
            "Отчет по классификации, включая метрики precision(точность), recall(объём), f1-мера\n",
            "              precision    recall  f1-score   support\n",
            "\n",
            "           1       0.98      0.98      0.98       277\n",
            "           2       0.96      0.97      0.97       277\n",
            "           3       0.99      0.98      0.98       286\n",
            "\n",
            "    accuracy                           0.98       840\n",
            "   macro avg       0.98      0.98      0.98       840\n",
            "weighted avg       0.98      0.98      0.98       840\n",
            "\n"
          ]
        }
      ],
      "source": [
        "print('Отчет по классификации, включая метрики precision(точность), recall(объём), f1-мера')\n",
        "print(classification_report(y_test, logit.predict(X_test)))"
      ]
    },
    {
      "cell_type": "code",
      "execution_count": null,
      "id": "79119bcd-b8cb-4db6-adcb-2518acaaa141",
      "metadata": {
        "id": "79119bcd-b8cb-4db6-adcb-2518acaaa141",
        "outputId": "1a50814d-d826-4e99-c5a9-409be2ba9540"
      },
      "outputs": [
        {
          "data": {
            "text/plain": [
              "0.013293650793650793"
            ]
          },
          "execution_count": 166,
          "metadata": {},
          "output_type": "execute_result"
        }
      ],
      "source": [
        "# средняя абсолютная процентная ошибка (MAPE)\n",
        "mean_absolute_percentage_error(y_test, logit.predict(X_test))"
      ]
    },
    {
      "cell_type": "markdown",
      "id": "200574fe-9ff7-4495-8bb3-4129c6ba006b",
      "metadata": {
        "id": "200574fe-9ff7-4495-8bb3-4129c6ba006b"
      },
      "source": [
        "Модель ошибается в ~1% случаев на этих данных"
      ]
    },
    {
      "cell_type": "code",
      "execution_count": null,
      "id": "4bae6741-061f-414b-bc24-b7e4ee677712",
      "metadata": {
        "id": "4bae6741-061f-414b-bc24-b7e4ee677712",
        "outputId": "da886c0f-c1f2-4db8-c7b3-3752806b8276"
      },
      "outputs": [
        {
          "data": {
            "text/plain": [
              "0.9773919478648024"
            ]
          },
          "execution_count": 153,
          "metadata": {},
          "output_type": "execute_result"
        }
      ],
      "source": [
        "# отдельно f1\n",
        "f1_score(y_test, logit.predict(X_test), average='weighted')"
      ]
    },
    {
      "cell_type": "markdown",
      "id": "6ea6983a-1fbb-447f-9f55-bb420f5c26b3",
      "metadata": {
        "tags": [],
        "id": "6ea6983a-1fbb-447f-9f55-bb420f5c26b3"
      },
      "source": [
        "#### 3.2.2 Случайный лес"
      ]
    },
    {
      "cell_type": "code",
      "execution_count": null,
      "id": "7ddf1348-5f9e-46c6-bf43-070b56a4aa8b",
      "metadata": {
        "id": "7ddf1348-5f9e-46c6-bf43-070b56a4aa8b"
      },
      "outputs": [],
      "source": [
        "from sklearn.ensemble import RandomForestClassifier"
      ]
    },
    {
      "cell_type": "code",
      "execution_count": null,
      "id": "8da65810-a159-4a72-9d0b-5d34ee4b738f",
      "metadata": {
        "id": "8da65810-a159-4a72-9d0b-5d34ee4b738f"
      },
      "outputs": [],
      "source": [
        "rfc = RandomForestClassifier(random_state=RANDOM_STATE, class_weight='balanced')"
      ]
    },
    {
      "cell_type": "code",
      "execution_count": null,
      "id": "2aa177dd-a313-436a-b8d3-baf0c1cf882b",
      "metadata": {
        "id": "2aa177dd-a313-436a-b8d3-baf0c1cf882b",
        "outputId": "3ba730b0-96a6-4578-a658-3a2aec0e858b"
      },
      "outputs": [
        {
          "name": "stdout",
          "output_type": "stream",
          "text": [
            "CPU times: total: 266 ms\n",
            "Wall time: 257 ms\n"
          ]
        },
        {
          "data": {
            "text/html": [
              "<style>#sk-container-id-8 {color: black;background-color: white;}#sk-container-id-8 pre{padding: 0;}#sk-container-id-8 div.sk-toggleable {background-color: white;}#sk-container-id-8 label.sk-toggleable__label {cursor: pointer;display: block;width: 100%;margin-bottom: 0;padding: 0.3em;box-sizing: border-box;text-align: center;}#sk-container-id-8 label.sk-toggleable__label-arrow:before {content: \"▸\";float: left;margin-right: 0.25em;color: #696969;}#sk-container-id-8 label.sk-toggleable__label-arrow:hover:before {color: black;}#sk-container-id-8 div.sk-estimator:hover label.sk-toggleable__label-arrow:before {color: black;}#sk-container-id-8 div.sk-toggleable__content {max-height: 0;max-width: 0;overflow: hidden;text-align: left;background-color: #f0f8ff;}#sk-container-id-8 div.sk-toggleable__content pre {margin: 0.2em;color: black;border-radius: 0.25em;background-color: #f0f8ff;}#sk-container-id-8 input.sk-toggleable__control:checked~div.sk-toggleable__content {max-height: 200px;max-width: 100%;overflow: auto;}#sk-container-id-8 input.sk-toggleable__control:checked~label.sk-toggleable__label-arrow:before {content: \"▾\";}#sk-container-id-8 div.sk-estimator input.sk-toggleable__control:checked~label.sk-toggleable__label {background-color: #d4ebff;}#sk-container-id-8 div.sk-label input.sk-toggleable__control:checked~label.sk-toggleable__label {background-color: #d4ebff;}#sk-container-id-8 input.sk-hidden--visually {border: 0;clip: rect(1px 1px 1px 1px);clip: rect(1px, 1px, 1px, 1px);height: 1px;margin: -1px;overflow: hidden;padding: 0;position: absolute;width: 1px;}#sk-container-id-8 div.sk-estimator {font-family: monospace;background-color: #f0f8ff;border: 1px dotted black;border-radius: 0.25em;box-sizing: border-box;margin-bottom: 0.5em;}#sk-container-id-8 div.sk-estimator:hover {background-color: #d4ebff;}#sk-container-id-8 div.sk-parallel-item::after {content: \"\";width: 100%;border-bottom: 1px solid gray;flex-grow: 1;}#sk-container-id-8 div.sk-label:hover label.sk-toggleable__label {background-color: #d4ebff;}#sk-container-id-8 div.sk-serial::before {content: \"\";position: absolute;border-left: 1px solid gray;box-sizing: border-box;top: 0;bottom: 0;left: 50%;z-index: 0;}#sk-container-id-8 div.sk-serial {display: flex;flex-direction: column;align-items: center;background-color: white;padding-right: 0.2em;padding-left: 0.2em;position: relative;}#sk-container-id-8 div.sk-item {position: relative;z-index: 1;}#sk-container-id-8 div.sk-parallel {display: flex;align-items: stretch;justify-content: center;background-color: white;position: relative;}#sk-container-id-8 div.sk-item::before, #sk-container-id-8 div.sk-parallel-item::before {content: \"\";position: absolute;border-left: 1px solid gray;box-sizing: border-box;top: 0;bottom: 0;left: 50%;z-index: -1;}#sk-container-id-8 div.sk-parallel-item {display: flex;flex-direction: column;z-index: 1;position: relative;background-color: white;}#sk-container-id-8 div.sk-parallel-item:first-child::after {align-self: flex-end;width: 50%;}#sk-container-id-8 div.sk-parallel-item:last-child::after {align-self: flex-start;width: 50%;}#sk-container-id-8 div.sk-parallel-item:only-child::after {width: 0;}#sk-container-id-8 div.sk-dashed-wrapped {border: 1px dashed gray;margin: 0 0.4em 0.5em 0.4em;box-sizing: border-box;padding-bottom: 0.4em;background-color: white;}#sk-container-id-8 div.sk-label label {font-family: monospace;font-weight: bold;display: inline-block;line-height: 1.2em;}#sk-container-id-8 div.sk-label-container {text-align: center;}#sk-container-id-8 div.sk-container {/* jupyter's `normalize.less` sets `[hidden] { display: none; }` but bootstrap.min.css set `[hidden] { display: none !important; }` so we also need the `!important` here to be able to override the default hidden behavior on the sphinx rendered scikit-learn.org. See: https://github.com/scikit-learn/scikit-learn/issues/21755 */display: inline-block !important;position: relative;}#sk-container-id-8 div.sk-text-repr-fallback {display: none;}</style><div id=\"sk-container-id-8\" class=\"sk-top-container\"><div class=\"sk-text-repr-fallback\"><pre>RandomForestClassifier(class_weight=&#x27;balanced&#x27;, random_state=666)</pre><b>In a Jupyter environment, please rerun this cell to show the HTML representation or trust the notebook. <br />On GitHub, the HTML representation is unable to render, please try loading this page with nbviewer.org.</b></div><div class=\"sk-container\" hidden><div class=\"sk-item\"><div class=\"sk-estimator sk-toggleable\"><input class=\"sk-toggleable__control sk-hidden--visually\" id=\"sk-estimator-id-8\" type=\"checkbox\" checked><label for=\"sk-estimator-id-8\" class=\"sk-toggleable__label sk-toggleable__label-arrow\">RandomForestClassifier</label><div class=\"sk-toggleable__content\"><pre>RandomForestClassifier(class_weight=&#x27;balanced&#x27;, random_state=666)</pre></div></div></div></div></div>"
            ],
            "text/plain": [
              "RandomForestClassifier(class_weight='balanced', random_state=666)"
            ]
          },
          "execution_count": 156,
          "metadata": {},
          "output_type": "execute_result"
        }
      ],
      "source": [
        "%%time\n",
        "rfc.fit(X_train, y_train)"
      ]
    },
    {
      "cell_type": "markdown",
      "id": "1d6d205b-42c2-4a9a-877d-0502185cbde7",
      "metadata": {
        "id": "1d6d205b-42c2-4a9a-877d-0502185cbde7"
      },
      "source": [
        "Оценка точности классификации"
      ]
    },
    {
      "cell_type": "code",
      "execution_count": null,
      "id": "7c446a06-37fe-447b-bf78-aeb05d0958d7",
      "metadata": {
        "id": "7c446a06-37fe-447b-bf78-aeb05d0958d7",
        "outputId": "ab8221d3-d42b-410e-afdf-db868b4b5f60"
      },
      "outputs": [
        {
          "name": "stdout",
          "output_type": "stream",
          "text": [
            "Отчет по классификации, включая метрики precision(точность), recall(объём), f1-мера\n",
            "              precision    recall  f1-score   support\n",
            "\n",
            "           1       0.97      0.98      0.98       277\n",
            "           2       0.97      0.96      0.96       277\n",
            "           3       0.99      0.99      0.99       286\n",
            "\n",
            "    accuracy                           0.98       840\n",
            "   macro avg       0.98      0.98      0.98       840\n",
            "weighted avg       0.98      0.98      0.98       840\n",
            "\n"
          ]
        }
      ],
      "source": [
        "print('Отчет по классификации, включая метрики precision(точность), recall(объём), f1-мера')\n",
        "print(classification_report(y_test, rfc.predict(X_test)))"
      ]
    },
    {
      "cell_type": "code",
      "execution_count": null,
      "id": "5ab025d1-89b2-4031-b138-e21fded4a185",
      "metadata": {
        "id": "5ab025d1-89b2-4031-b138-e21fded4a185",
        "outputId": "aec69ef1-9b6d-4066-b139-157d516482d2"
      },
      "outputs": [
        {
          "data": {
            "text/plain": [
              "0.014087301587301586"
            ]
          },
          "execution_count": 165,
          "metadata": {},
          "output_type": "execute_result"
        }
      ],
      "source": [
        "# средняя абсолютная процентная ошибка (MAPE)\n",
        "mean_absolute_percentage_error(y_test, rfc.predict(X_test))"
      ]
    },
    {
      "cell_type": "markdown",
      "id": "e5d4220d-8e87-437a-a66e-f49e92093b39",
      "metadata": {
        "id": "e5d4220d-8e87-437a-a66e-f49e92093b39"
      },
      "source": [
        "Модель ошибается в ~1% случаев на этих данных"
      ]
    },
    {
      "cell_type": "code",
      "execution_count": null,
      "id": "a370fee2-a44f-4a69-b7e0-8c48d0d3618d",
      "metadata": {
        "id": "a370fee2-a44f-4a69-b7e0-8c48d0d3618d",
        "outputId": "98cc9762-ac13-4785-b50f-bd797c29cb8e"
      },
      "outputs": [
        {
          "data": {
            "text/plain": [
              "0.9761730367258987"
            ]
          },
          "execution_count": 159,
          "metadata": {},
          "output_type": "execute_result"
        }
      ],
      "source": [
        "# отдельно f1\n",
        "f1_score(y_test, rfc.predict(X_test), average='weighted')"
      ]
    },
    {
      "cell_type": "markdown",
      "id": "9e2c92b2-f602-4c3c-821f-33de0f0656ce",
      "metadata": {
        "tags": [],
        "id": "9e2c92b2-f602-4c3c-821f-33de0f0656ce"
      },
      "source": [
        "#### 3.2.3 Градиентный бустинг"
      ]
    },
    {
      "cell_type": "code",
      "execution_count": null,
      "id": "e47ddb8c-5ba6-4784-a65e-eceb6e5b17a1",
      "metadata": {
        "id": "e47ddb8c-5ba6-4784-a65e-eceb6e5b17a1"
      },
      "outputs": [],
      "source": [
        "from sklearn.ensemble import GradientBoostingClassifier"
      ]
    },
    {
      "cell_type": "code",
      "execution_count": null,
      "id": "ae5288a3-7061-48fe-b2d8-f74be6a5b0df",
      "metadata": {
        "id": "ae5288a3-7061-48fe-b2d8-f74be6a5b0df"
      },
      "outputs": [],
      "source": [
        "gbc = GradientBoostingClassifier(random_state=RANDOM_STATE, verbose=1)"
      ]
    },
    {
      "cell_type": "code",
      "execution_count": null,
      "id": "cd6743a8-0c02-44be-8965-8732bcc3eae9",
      "metadata": {
        "id": "cd6743a8-0c02-44be-8965-8732bcc3eae9",
        "outputId": "d191989c-5875-457b-a357-1c8917a11144"
      },
      "outputs": [
        {
          "name": "stdout",
          "output_type": "stream",
          "text": [
            "      Iter       Train Loss   Remaining Time \n",
            "         1           0.9106            8.10s\n",
            "         2           0.7646            9.53s\n",
            "         3           0.6478            9.97s\n",
            "         4           0.5524           10.13s\n",
            "         5           0.4734           10.16s\n",
            "         6           0.4073           10.16s\n",
            "         7           0.3516           10.11s\n",
            "         8           0.3045           10.06s\n",
            "         9           0.2641            9.98s\n",
            "        10           0.2295            9.91s\n",
            "        20           0.0575            8.90s\n",
            "        30           0.0150            7.81s\n",
            "        40           0.0039            6.71s\n",
            "        50           0.0010            5.59s\n",
            "        60           0.0003            4.48s\n",
            "        70           0.0001            3.36s\n",
            "        80           0.0000            2.24s\n",
            "        90           0.0000            1.12s\n",
            "       100           0.0000            0.00s\n",
            "CPU times: total: 11 s\n",
            "Wall time: 11 s\n"
          ]
        },
        {
          "data": {
            "text/html": [
              "<style>#sk-container-id-9 {color: black;background-color: white;}#sk-container-id-9 pre{padding: 0;}#sk-container-id-9 div.sk-toggleable {background-color: white;}#sk-container-id-9 label.sk-toggleable__label {cursor: pointer;display: block;width: 100%;margin-bottom: 0;padding: 0.3em;box-sizing: border-box;text-align: center;}#sk-container-id-9 label.sk-toggleable__label-arrow:before {content: \"▸\";float: left;margin-right: 0.25em;color: #696969;}#sk-container-id-9 label.sk-toggleable__label-arrow:hover:before {color: black;}#sk-container-id-9 div.sk-estimator:hover label.sk-toggleable__label-arrow:before {color: black;}#sk-container-id-9 div.sk-toggleable__content {max-height: 0;max-width: 0;overflow: hidden;text-align: left;background-color: #f0f8ff;}#sk-container-id-9 div.sk-toggleable__content pre {margin: 0.2em;color: black;border-radius: 0.25em;background-color: #f0f8ff;}#sk-container-id-9 input.sk-toggleable__control:checked~div.sk-toggleable__content {max-height: 200px;max-width: 100%;overflow: auto;}#sk-container-id-9 input.sk-toggleable__control:checked~label.sk-toggleable__label-arrow:before {content: \"▾\";}#sk-container-id-9 div.sk-estimator input.sk-toggleable__control:checked~label.sk-toggleable__label {background-color: #d4ebff;}#sk-container-id-9 div.sk-label input.sk-toggleable__control:checked~label.sk-toggleable__label {background-color: #d4ebff;}#sk-container-id-9 input.sk-hidden--visually {border: 0;clip: rect(1px 1px 1px 1px);clip: rect(1px, 1px, 1px, 1px);height: 1px;margin: -1px;overflow: hidden;padding: 0;position: absolute;width: 1px;}#sk-container-id-9 div.sk-estimator {font-family: monospace;background-color: #f0f8ff;border: 1px dotted black;border-radius: 0.25em;box-sizing: border-box;margin-bottom: 0.5em;}#sk-container-id-9 div.sk-estimator:hover {background-color: #d4ebff;}#sk-container-id-9 div.sk-parallel-item::after {content: \"\";width: 100%;border-bottom: 1px solid gray;flex-grow: 1;}#sk-container-id-9 div.sk-label:hover label.sk-toggleable__label {background-color: #d4ebff;}#sk-container-id-9 div.sk-serial::before {content: \"\";position: absolute;border-left: 1px solid gray;box-sizing: border-box;top: 0;bottom: 0;left: 50%;z-index: 0;}#sk-container-id-9 div.sk-serial {display: flex;flex-direction: column;align-items: center;background-color: white;padding-right: 0.2em;padding-left: 0.2em;position: relative;}#sk-container-id-9 div.sk-item {position: relative;z-index: 1;}#sk-container-id-9 div.sk-parallel {display: flex;align-items: stretch;justify-content: center;background-color: white;position: relative;}#sk-container-id-9 div.sk-item::before, #sk-container-id-9 div.sk-parallel-item::before {content: \"\";position: absolute;border-left: 1px solid gray;box-sizing: border-box;top: 0;bottom: 0;left: 50%;z-index: -1;}#sk-container-id-9 div.sk-parallel-item {display: flex;flex-direction: column;z-index: 1;position: relative;background-color: white;}#sk-container-id-9 div.sk-parallel-item:first-child::after {align-self: flex-end;width: 50%;}#sk-container-id-9 div.sk-parallel-item:last-child::after {align-self: flex-start;width: 50%;}#sk-container-id-9 div.sk-parallel-item:only-child::after {width: 0;}#sk-container-id-9 div.sk-dashed-wrapped {border: 1px dashed gray;margin: 0 0.4em 0.5em 0.4em;box-sizing: border-box;padding-bottom: 0.4em;background-color: white;}#sk-container-id-9 div.sk-label label {font-family: monospace;font-weight: bold;display: inline-block;line-height: 1.2em;}#sk-container-id-9 div.sk-label-container {text-align: center;}#sk-container-id-9 div.sk-container {/* jupyter's `normalize.less` sets `[hidden] { display: none; }` but bootstrap.min.css set `[hidden] { display: none !important; }` so we also need the `!important` here to be able to override the default hidden behavior on the sphinx rendered scikit-learn.org. See: https://github.com/scikit-learn/scikit-learn/issues/21755 */display: inline-block !important;position: relative;}#sk-container-id-9 div.sk-text-repr-fallback {display: none;}</style><div id=\"sk-container-id-9\" class=\"sk-top-container\"><div class=\"sk-text-repr-fallback\"><pre>GradientBoostingClassifier(random_state=666, verbose=1)</pre><b>In a Jupyter environment, please rerun this cell to show the HTML representation or trust the notebook. <br />On GitHub, the HTML representation is unable to render, please try loading this page with nbviewer.org.</b></div><div class=\"sk-container\" hidden><div class=\"sk-item\"><div class=\"sk-estimator sk-toggleable\"><input class=\"sk-toggleable__control sk-hidden--visually\" id=\"sk-estimator-id-9\" type=\"checkbox\" checked><label for=\"sk-estimator-id-9\" class=\"sk-toggleable__label sk-toggleable__label-arrow\">GradientBoostingClassifier</label><div class=\"sk-toggleable__content\"><pre>GradientBoostingClassifier(random_state=666, verbose=1)</pre></div></div></div></div></div>"
            ],
            "text/plain": [
              "GradientBoostingClassifier(random_state=666, verbose=1)"
            ]
          },
          "execution_count": 170,
          "metadata": {},
          "output_type": "execute_result"
        }
      ],
      "source": [
        "%%time\n",
        "gbc.fit(X_train, y_train)"
      ]
    },
    {
      "cell_type": "markdown",
      "id": "7e97232f-8115-4107-a270-20707e44c673",
      "metadata": {
        "id": "7e97232f-8115-4107-a270-20707e44c673"
      },
      "source": [
        "Оценка точности классификации"
      ]
    },
    {
      "cell_type": "code",
      "execution_count": null,
      "id": "15365bd3-f84d-4c5b-9dea-210fe05104e9",
      "metadata": {
        "id": "15365bd3-f84d-4c5b-9dea-210fe05104e9",
        "outputId": "1fa43208-e4ec-4d00-d4f5-2107d35d9d03"
      },
      "outputs": [
        {
          "name": "stdout",
          "output_type": "stream",
          "text": [
            "Отчет по классификации, включая метрики precision(точность), recall(объём), f1-мера\n",
            "              precision    recall  f1-score   support\n",
            "\n",
            "           1       1.00      1.00      1.00       277\n",
            "           2       1.00      1.00      1.00       277\n",
            "           3       1.00      1.00      1.00       286\n",
            "\n",
            "    accuracy                           1.00       840\n",
            "   macro avg       1.00      1.00      1.00       840\n",
            "weighted avg       1.00      1.00      1.00       840\n",
            "\n"
          ]
        }
      ],
      "source": [
        "print('Отчет по классификации, включая метрики precision(точность), recall(объём), f1-мера')\n",
        "print(classification_report(y_test, gbc.predict(X_test)))"
      ]
    },
    {
      "cell_type": "code",
      "execution_count": null,
      "id": "e46e4f6a-be06-4981-83db-d6e76d0a5693",
      "metadata": {
        "id": "e46e4f6a-be06-4981-83db-d6e76d0a5693",
        "outputId": "1e0e97e4-752b-4b62-ca52-0f440c1da11a"
      },
      "outputs": [
        {
          "data": {
            "text/plain": [
              "0.0"
            ]
          },
          "execution_count": 172,
          "metadata": {},
          "output_type": "execute_result"
        }
      ],
      "source": [
        "# средняя абсолютная процентная ошибка (MAPE)\n",
        "mean_absolute_percentage_error(y_test, gbc.predict(X_test))"
      ]
    },
    {
      "cell_type": "markdown",
      "id": "2375c7d1-da92-47d5-a5b9-39d17fc800dc",
      "metadata": {
        "id": "2375c7d1-da92-47d5-a5b9-39d17fc800dc"
      },
      "source": [
        "Модель вообще не ошибается на этих данных. Все признаки переобучения, но это уже совсем другая история..."
      ]
    },
    {
      "cell_type": "code",
      "execution_count": null,
      "id": "030f5d14-91bb-4ac9-8593-8db514065318",
      "metadata": {
        "id": "030f5d14-91bb-4ac9-8593-8db514065318",
        "outputId": "7818ddf1-8162-42c3-a46d-8404a419dfc4"
      },
      "outputs": [
        {
          "data": {
            "text/plain": [
              "1.0"
            ]
          },
          "execution_count": 174,
          "metadata": {},
          "output_type": "execute_result"
        }
      ],
      "source": [
        "# отдельно f1\n",
        "f1_score(y_test, gbc.predict(X_test), average='weighted')"
      ]
    },
    {
      "cell_type": "markdown",
      "id": "128e4db8-717a-4c07-a24f-e191f7b50fef",
      "metadata": {
        "id": "128e4db8-717a-4c07-a24f-e191f7b50fef"
      },
      "source": [
        "## 4 Сохранение результатов"
      ]
    },
    {
      "cell_type": "code",
      "execution_count": null,
      "id": "76c12b56-11a6-4069-8c65-cfbec16405e4",
      "metadata": {
        "id": "76c12b56-11a6-4069-8c65-cfbec16405e4",
        "outputId": "4782a8b6-09fe-47a9-c2c5-100c19b6c5fb"
      },
      "outputs": [
        {
          "name": "stdout",
          "output_type": "stream",
          "text": [
            "CPU times: total: 0 ns\n",
            "Wall time: 3 ms\n"
          ]
        }
      ],
      "source": [
        "%%time\n",
        "try:\n",
        "    with open('exp_df.data', 'wb') as f:\n",
        "        pkl.dump(exp_result_df, f)\n",
        "except Exception as e:\n",
        "    print(e)"
      ]
    },
    {
      "cell_type": "code",
      "execution_count": null,
      "id": "eae0b604-518b-40eb-ab72-0865b70289a0",
      "metadata": {
        "id": "eae0b604-518b-40eb-ab72-0865b70289a0"
      },
      "outputs": [],
      "source": []
    }
  ],
  "metadata": {
    "kernelspec": {
      "display_name": "Python 3 (ipykernel)",
      "language": "python",
      "name": "python3"
    },
    "language_info": {
      "codemirror_mode": {
        "name": "ipython",
        "version": 3
      },
      "file_extension": ".py",
      "mimetype": "text/x-python",
      "name": "python",
      "nbconvert_exporter": "python",
      "pygments_lexer": "ipython3",
      "version": "3.8.8"
    },
    "colab": {
      "provenance": []
    }
  },
  "nbformat": 4,
  "nbformat_minor": 5
}
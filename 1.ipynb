{
  "cells": [
    {
      "cell_type": "markdown",
      "id": "dec5e9b8",
      "metadata": {
        "id": "dec5e9b8"
      },
      "source": [
        "# С1. Модуль 1 Загрузка, предобработка и подготовка данных"
      ]
    },
    {
      "cell_type": "code",
      "execution_count": null,
      "id": "05f5490a",
      "metadata": {
        "id": "05f5490a"
      },
      "outputs": [],
      "source": [
        "import pandas as pd\n",
        "import numpy as np\n",
        "import seaborn\n",
        "import matplotlib.pyplot as plt\n",
        "import sklearn\n",
        "import catboost\n",
        "import statsmodels\n",
        "import scipy.stats\n",
        "from joblib import Parallel, delayed\n",
        "import soundfile as sf\n",
        "from glob import glob\n",
        "from tqdm import tqdm"
      ]
    },
    {
      "cell_type": "markdown",
      "id": "6abbf621",
      "metadata": {
        "id": "6abbf621"
      },
      "source": [
        "Для начала работы необходимо найти пути к файлам определенного формата. Ниже представлен код, позволяющий определить пути к файлам."
      ]
    },
    {
      "cell_type": "code",
      "execution_count": null,
      "id": "f3fa58db",
      "metadata": {
        "scrolled": false,
        "id": "f3fa58db",
        "outputId": "2029ab43-0539-41a8-c5a9-5a242cbbac04"
      },
      "outputs": [
        {
          "data": {
            "text/plain": [
              "{'csv': ['./data\\\\13.csv',\n",
              "  './data\\\\14.csv',\n",
              "  './data\\\\17.csv',\n",
              "  './data\\\\24.csv',\n",
              "  './data\\\\26.csv',\n",
              "  './data\\\\36.csv',\n",
              "  './data\\\\38.csv',\n",
              "  './data\\\\46.csv',\n",
              "  './data\\\\50.csv',\n",
              "  './data\\\\52.csv',\n",
              "  './data\\\\55.csv',\n",
              "  './data\\\\56.csv',\n",
              "  './data\\\\59.csv',\n",
              "  './data\\\\68.csv',\n",
              "  './data\\\\7.csv',\n",
              "  './data\\\\71.csv',\n",
              "  './data\\\\8.csv',\n",
              "  './data\\\\9.csv'],\n",
              " 'xlsx': ['./data\\\\1.xlsx',\n",
              "  './data\\\\10.xlsx',\n",
              "  './data\\\\12.xlsx',\n",
              "  './data\\\\15.xlsx',\n",
              "  './data\\\\16.xlsx',\n",
              "  './data\\\\19.xlsx',\n",
              "  './data\\\\2.xlsx',\n",
              "  './data\\\\20.xlsx',\n",
              "  './data\\\\21.xlsx',\n",
              "  './data\\\\22.xlsx',\n",
              "  './data\\\\23.xlsx',\n",
              "  './data\\\\25.xlsx',\n",
              "  './data\\\\27.xlsx',\n",
              "  './data\\\\3.xlsx',\n",
              "  './data\\\\31.xlsx',\n",
              "  './data\\\\32.xlsx',\n",
              "  './data\\\\33.xlsx',\n",
              "  './data\\\\34.xlsx',\n",
              "  './data\\\\35.xlsx',\n",
              "  './data\\\\37.xlsx',\n",
              "  './data\\\\39.xlsx',\n",
              "  './data\\\\4.xlsx',\n",
              "  './data\\\\41.xlsx',\n",
              "  './data\\\\42.xlsx',\n",
              "  './data\\\\43.xlsx',\n",
              "  './data\\\\44.xlsx',\n",
              "  './data\\\\45.xlsx',\n",
              "  './data\\\\47.xlsx',\n",
              "  './data\\\\48.xlsx',\n",
              "  './data\\\\49.xlsx',\n",
              "  './data\\\\51.xlsx',\n",
              "  './data\\\\53.xlsx',\n",
              "  './data\\\\54.xlsx',\n",
              "  './data\\\\57.xlsx',\n",
              "  './data\\\\58.xlsx',\n",
              "  './data\\\\6.xlsx',\n",
              "  './data\\\\61.xlsx',\n",
              "  './data\\\\62.xlsx',\n",
              "  './data\\\\63.xlsx',\n",
              "  './data\\\\64.xlsx',\n",
              "  './data\\\\65.xlsx',\n",
              "  './data\\\\67.xlsx',\n",
              "  './data\\\\69.xlsx',\n",
              "  './data\\\\70.xlsx',\n",
              "  './data\\\\72.xlsx'],\n",
              " 'wav': ['./data\\\\11.wav',\n",
              "  './data\\\\18.wav',\n",
              "  './data\\\\28.wav',\n",
              "  './data\\\\29.wav',\n",
              "  './data\\\\30.wav',\n",
              "  './data\\\\40.wav',\n",
              "  './data\\\\5.wav',\n",
              "  './data\\\\60.wav',\n",
              "  './data\\\\66.wav'],\n",
              " 'mkv': ['./data\\\\video1.mkv',\n",
              "  './data\\\\video2.mkv',\n",
              "  './data\\\\video3.mkv',\n",
              "  './data\\\\video4.mkv',\n",
              "  './data\\\\video5.mkv',\n",
              "  './data\\\\video6.mkv',\n",
              "  './data\\\\video7.mkv',\n",
              "  './data\\\\video8.mkv',\n",
              "  './data\\\\video9.mkv']}"
            ]
          },
          "execution_count": 4,
          "metadata": {},
          "output_type": "execute_result"
        }
      ],
      "source": [
        "filenames_dict = {}\n",
        "for format_ in ['csv', 'xlsx', 'wav', 'mkv']:\n",
        "    filenames = glob('./data/**.' + format_, recursive=True)\n",
        "    filenames_dict[format_] = filenames\n",
        "filenames_dict"
      ]
    },
    {
      "cell_type": "markdown",
      "id": "2c545685",
      "metadata": {
        "id": "2c545685"
      },
      "source": [
        "Таким образом, имеем словарь, где ключ - формат файла, значение - пути к файлам для дальнейшей загрузки."
      ]
    },
    {
      "cell_type": "markdown",
      "id": "3777adc5",
      "metadata": {
        "id": "3777adc5"
      },
      "source": [
        "### Считывание csv файлов"
      ]
    },
    {
      "cell_type": "markdown",
      "id": "3c21fc10",
      "metadata": {
        "id": "3c21fc10"
      },
      "source": [
        "Поскольку размер csv файлов большой, необходимо перед объединением в одну таблицу переконвертировать тип данных в формат, требующий меньше памяти для хранения (в нашем случае, float32). Однако, поскольку оперативной памяти компьютера недостаточно для хранения такого большого объема файлов, а для распределенной загрузки и хранения необходимо большее время, файлы были загружены частично.\n",
        "\n",
        "При очередной попытке загрузки файлов машина сломалась, пришлось перезагружать компьютер :("
      ]
    },
    {
      "cell_type": "markdown",
      "id": "cd1f7a78",
      "metadata": {
        "id": "cd1f7a78"
      },
      "source": [
        "При предварительном анализе было выявлено, что файлы в первых четырех строках содержат техническую информацию, которую при загрузке было решено удалить"
      ]
    },
    {
      "cell_type": "markdown",
      "id": "c2915b9b",
      "metadata": {
        "id": "c2915b9b"
      },
      "source": [
        "Ниже представлена функция для загрузки файлов с вышесказанными опциями"
      ]
    },
    {
      "cell_type": "code",
      "execution_count": null,
      "id": "eaf7a14e",
      "metadata": {
        "id": "eaf7a14e"
      },
      "outputs": [],
      "source": [
        "def read_csv_file(path):\n",
        "    df = pd.read_csv(path, skiprows=[0, 1, 2, 3])\n",
        "    if len(df.columns) != 1:\n",
        "        df.drop(columns=df.columns[1], inplace=True)\n",
        "    df.columns = ['csv_values']\n",
        "    df['path'] = len(df) * [int(path.split('\\\\')[-1].split('.')[0])]\n",
        "    df['path'] = df['path'].astype('int32')\n",
        "    df['csv_values'] = df['csv_values'].astype('float32')\n",
        "    return df"
      ]
    },
    {
      "cell_type": "code",
      "execution_count": null,
      "id": "e391d97d",
      "metadata": {
        "id": "e391d97d",
        "outputId": "4ff510af-36ab-4eb9-8142-5d0d30c7efb9"
      },
      "outputs": [
        {
          "name": "stderr",
          "output_type": "stream",
          "text": [
            " 28%|██████████████████████▊                                                           | 5/18 [09:41<34:55, 161.20s/it]"
          ]
        },
        {
          "name": "stdout",
          "output_type": "stream",
          "text": [
            "Data is not loaded\n"
          ]
        },
        {
          "name": "stderr",
          "output_type": "stream",
          "text": [
            "\r",
            " 33%|███████████████████████████▎                                                      | 6/18 [09:45<21:30, 107.56s/it]"
          ]
        },
        {
          "name": "stdout",
          "output_type": "stream",
          "text": [
            "Data is not loaded\n"
          ]
        },
        {
          "name": "stderr",
          "output_type": "stream",
          "text": [
            "\r",
            " 39%|████████████████████████████████▎                                                  | 7/18 [09:46<13:21, 72.86s/it]"
          ]
        },
        {
          "name": "stdout",
          "output_type": "stream",
          "text": [
            "Data is not loaded\n"
          ]
        },
        {
          "name": "stderr",
          "output_type": "stream",
          "text": [
            "\r",
            " 44%|████████████████████████████████████▉                                              | 8/18 [09:46<08:18, 49.83s/it]"
          ]
        },
        {
          "name": "stdout",
          "output_type": "stream",
          "text": [
            "Data is not loaded\n"
          ]
        },
        {
          "name": "stderr",
          "output_type": "stream",
          "text": [
            " 56%|█████████████████████████████████████████████▌                                    | 10/18 [09:48<03:11, 23.94s/it]"
          ]
        },
        {
          "name": "stdout",
          "output_type": "stream",
          "text": [
            "Data is not loaded\n",
            "Data is not loaded\n"
          ]
        },
        {
          "name": "stderr",
          "output_type": "stream",
          "text": [
            "\r",
            " 61%|██████████████████████████████████████████████████                                | 11/18 [09:48<01:57, 16.81s/it]"
          ]
        },
        {
          "name": "stdout",
          "output_type": "stream",
          "text": [
            "Data is not loaded\n"
          ]
        },
        {
          "name": "stderr",
          "output_type": "stream",
          "text": [
            "\r",
            " 67%|██████████████████████████████████████████████████████▋                           | 12/18 [09:49<01:11, 11.88s/it]"
          ]
        },
        {
          "name": "stdout",
          "output_type": "stream",
          "text": [
            "Data is not loaded\n"
          ]
        },
        {
          "name": "stderr",
          "output_type": "stream",
          "text": [
            "\r",
            " 72%|███████████████████████████████████████████████████████████▏                      | 13/18 [09:50<00:42,  8.58s/it]"
          ]
        },
        {
          "name": "stdout",
          "output_type": "stream",
          "text": [
            "Data is not loaded\n"
          ]
        },
        {
          "name": "stderr",
          "output_type": "stream",
          "text": [
            "\r",
            " 78%|███████████████████████████████████████████████████████████████▊                  | 14/18 [09:50<00:24,  6.19s/it]"
          ]
        },
        {
          "name": "stdout",
          "output_type": "stream",
          "text": [
            "Data is not loaded\n"
          ]
        },
        {
          "name": "stderr",
          "output_type": "stream",
          "text": [
            "\r",
            " 83%|████████████████████████████████████████████████████████████████████▎             | 15/18 [09:51<00:13,  4.49s/it]"
          ]
        },
        {
          "name": "stdout",
          "output_type": "stream",
          "text": [
            "Data is not loaded\n"
          ]
        },
        {
          "name": "stderr",
          "output_type": "stream",
          "text": [
            "\r",
            " 89%|████████████████████████████████████████████████████████████████████████▉         | 16/18 [09:52<00:06,  3.28s/it]"
          ]
        },
        {
          "name": "stdout",
          "output_type": "stream",
          "text": [
            "Data is not loaded\n"
          ]
        },
        {
          "name": "stderr",
          "output_type": "stream",
          "text": [
            "\r",
            " 94%|█████████████████████████████████████████████████████████████████████████████▍    | 17/18 [09:52<00:02,  2.44s/it]"
          ]
        },
        {
          "name": "stdout",
          "output_type": "stream",
          "text": [
            "Data is not loaded\n"
          ]
        },
        {
          "name": "stderr",
          "output_type": "stream",
          "text": [
            "100%|██████████████████████████████████████████████████████████████████████████████████| 18/18 [09:54<00:00, 33.05s/it]"
          ]
        },
        {
          "name": "stdout",
          "output_type": "stream",
          "text": [
            "Data is not loaded\n"
          ]
        },
        {
          "name": "stderr",
          "output_type": "stream",
          "text": [
            "\n"
          ]
        }
      ],
      "source": [
        "data_csv = pd.DataFrame()\n",
        "for path in tqdm(filenames_dict['csv']):\n",
        "    try:\n",
        "        df = read_csv_file(path)\n",
        "        data_csv = pd.concat([data_csv, df])\n",
        "        data_csv.to_csv('./data_saved/data_csv.csv', index=False)\n",
        "    except:\n",
        "        print('Data is not loaded')\n",
        "        continue"
      ]
    },
    {
      "cell_type": "markdown",
      "id": "b6a11832",
      "metadata": {
        "id": "b6a11832"
      },
      "source": [
        "Поскольку ноутбук пришлось перезагружать, данные по csv файлам не сохранились"
      ]
    },
    {
      "cell_type": "code",
      "execution_count": null,
      "id": "e6121526",
      "metadata": {
        "scrolled": true,
        "id": "e6121526",
        "outputId": "040da0b0-7251-4bb2-a167-3e11780921da"
      },
      "outputs": [
        {
          "ename": "KeyboardInterrupt",
          "evalue": "",
          "output_type": "error",
          "traceback": [
            "\u001b[1;31m---------------------------------------------------------------------------\u001b[0m",
            "\u001b[1;31mKeyboardInterrupt\u001b[0m                         Traceback (most recent call last)",
            "\u001b[1;32m<ipython-input-8-a726206ea664>\u001b[0m in \u001b[0;36m<module>\u001b[1;34m\u001b[0m\n\u001b[1;32m----> 1\u001b[1;33m \u001b[0mdata_csv\u001b[0m\u001b[1;33m.\u001b[0m\u001b[0mto_csv\u001b[0m\u001b[1;33m(\u001b[0m\u001b[1;34m'./data_saved/data_csv.csv'\u001b[0m\u001b[1;33m,\u001b[0m \u001b[0mindex\u001b[0m\u001b[1;33m=\u001b[0m\u001b[1;32mFalse\u001b[0m\u001b[1;33m)\u001b[0m\u001b[1;33m\u001b[0m\u001b[1;33m\u001b[0m\u001b[0m\n\u001b[0m",
            "\u001b[1;32mC:\\ProgramData\\Anaconda3\\lib\\site-packages\\pandas\\core\\generic.py\u001b[0m in \u001b[0;36mto_csv\u001b[1;34m(self, path_or_buf, sep, na_rep, float_format, columns, header, index, index_label, mode, encoding, compression, quoting, quotechar, line_terminator, chunksize, date_format, doublequote, escapechar, decimal, errors, storage_options)\u001b[0m\n\u001b[0;32m   3385\u001b[0m         )\n\u001b[0;32m   3386\u001b[0m \u001b[1;33m\u001b[0m\u001b[0m\n\u001b[1;32m-> 3387\u001b[1;33m         return DataFrameRenderer(formatter).to_csv(\n\u001b[0m\u001b[0;32m   3388\u001b[0m             \u001b[0mpath_or_buf\u001b[0m\u001b[1;33m,\u001b[0m\u001b[1;33m\u001b[0m\u001b[1;33m\u001b[0m\u001b[0m\n\u001b[0;32m   3389\u001b[0m             \u001b[0mline_terminator\u001b[0m\u001b[1;33m=\u001b[0m\u001b[0mline_terminator\u001b[0m\u001b[1;33m,\u001b[0m\u001b[1;33m\u001b[0m\u001b[1;33m\u001b[0m\u001b[0m\n",
            "\u001b[1;32mC:\\ProgramData\\Anaconda3\\lib\\site-packages\\pandas\\io\\formats\\format.py\u001b[0m in \u001b[0;36mto_csv\u001b[1;34m(self, path_or_buf, encoding, sep, columns, index_label, mode, compression, quoting, quotechar, line_terminator, chunksize, date_format, doublequote, escapechar, errors, storage_options)\u001b[0m\n\u001b[0;32m   1081\u001b[0m             \u001b[0mformatter\u001b[0m\u001b[1;33m=\u001b[0m\u001b[0mself\u001b[0m\u001b[1;33m.\u001b[0m\u001b[0mfmt\u001b[0m\u001b[1;33m,\u001b[0m\u001b[1;33m\u001b[0m\u001b[1;33m\u001b[0m\u001b[0m\n\u001b[0;32m   1082\u001b[0m         )\n\u001b[1;32m-> 1083\u001b[1;33m         \u001b[0mcsv_formatter\u001b[0m\u001b[1;33m.\u001b[0m\u001b[0msave\u001b[0m\u001b[1;33m(\u001b[0m\u001b[1;33m)\u001b[0m\u001b[1;33m\u001b[0m\u001b[1;33m\u001b[0m\u001b[0m\n\u001b[0m\u001b[0;32m   1084\u001b[0m \u001b[1;33m\u001b[0m\u001b[0m\n\u001b[0;32m   1085\u001b[0m         \u001b[1;32mif\u001b[0m \u001b[0mcreated_buffer\u001b[0m\u001b[1;33m:\u001b[0m\u001b[1;33m\u001b[0m\u001b[1;33m\u001b[0m\u001b[0m\n",
            "\u001b[1;32mC:\\ProgramData\\Anaconda3\\lib\\site-packages\\pandas\\io\\formats\\csvs.py\u001b[0m in \u001b[0;36msave\u001b[1;34m(self)\u001b[0m\n\u001b[0;32m    246\u001b[0m             )\n\u001b[0;32m    247\u001b[0m \u001b[1;33m\u001b[0m\u001b[0m\n\u001b[1;32m--> 248\u001b[1;33m             \u001b[0mself\u001b[0m\u001b[1;33m.\u001b[0m\u001b[0m_save\u001b[0m\u001b[1;33m(\u001b[0m\u001b[1;33m)\u001b[0m\u001b[1;33m\u001b[0m\u001b[1;33m\u001b[0m\u001b[0m\n\u001b[0m\u001b[0;32m    249\u001b[0m \u001b[1;33m\u001b[0m\u001b[0m\n\u001b[0;32m    250\u001b[0m     \u001b[1;32mdef\u001b[0m \u001b[0m_save\u001b[0m\u001b[1;33m(\u001b[0m\u001b[0mself\u001b[0m\u001b[1;33m)\u001b[0m \u001b[1;33m->\u001b[0m \u001b[1;32mNone\u001b[0m\u001b[1;33m:\u001b[0m\u001b[1;33m\u001b[0m\u001b[1;33m\u001b[0m\u001b[0m\n",
            "\u001b[1;32mC:\\ProgramData\\Anaconda3\\lib\\site-packages\\pandas\\io\\formats\\csvs.py\u001b[0m in \u001b[0;36m_save\u001b[1;34m(self)\u001b[0m\n\u001b[0;32m    251\u001b[0m         \u001b[1;32mif\u001b[0m \u001b[0mself\u001b[0m\u001b[1;33m.\u001b[0m\u001b[0m_need_to_save_header\u001b[0m\u001b[1;33m:\u001b[0m\u001b[1;33m\u001b[0m\u001b[1;33m\u001b[0m\u001b[0m\n\u001b[0;32m    252\u001b[0m             \u001b[0mself\u001b[0m\u001b[1;33m.\u001b[0m\u001b[0m_save_header\u001b[0m\u001b[1;33m(\u001b[0m\u001b[1;33m)\u001b[0m\u001b[1;33m\u001b[0m\u001b[1;33m\u001b[0m\u001b[0m\n\u001b[1;32m--> 253\u001b[1;33m         \u001b[0mself\u001b[0m\u001b[1;33m.\u001b[0m\u001b[0m_save_body\u001b[0m\u001b[1;33m(\u001b[0m\u001b[1;33m)\u001b[0m\u001b[1;33m\u001b[0m\u001b[1;33m\u001b[0m\u001b[0m\n\u001b[0m\u001b[0;32m    254\u001b[0m \u001b[1;33m\u001b[0m\u001b[0m\n\u001b[0;32m    255\u001b[0m     \u001b[1;32mdef\u001b[0m \u001b[0m_save_header\u001b[0m\u001b[1;33m(\u001b[0m\u001b[0mself\u001b[0m\u001b[1;33m)\u001b[0m \u001b[1;33m->\u001b[0m \u001b[1;32mNone\u001b[0m\u001b[1;33m:\u001b[0m\u001b[1;33m\u001b[0m\u001b[1;33m\u001b[0m\u001b[0m\n",
            "\u001b[1;32mC:\\ProgramData\\Anaconda3\\lib\\site-packages\\pandas\\io\\formats\\csvs.py\u001b[0m in \u001b[0;36m_save_body\u001b[1;34m(self)\u001b[0m\n\u001b[0;32m    289\u001b[0m             \u001b[1;32mif\u001b[0m \u001b[0mstart_i\u001b[0m \u001b[1;33m>=\u001b[0m \u001b[0mend_i\u001b[0m\u001b[1;33m:\u001b[0m\u001b[1;33m\u001b[0m\u001b[1;33m\u001b[0m\u001b[0m\n\u001b[0;32m    290\u001b[0m                 \u001b[1;32mbreak\u001b[0m\u001b[1;33m\u001b[0m\u001b[1;33m\u001b[0m\u001b[0m\n\u001b[1;32m--> 291\u001b[1;33m             \u001b[0mself\u001b[0m\u001b[1;33m.\u001b[0m\u001b[0m_save_chunk\u001b[0m\u001b[1;33m(\u001b[0m\u001b[0mstart_i\u001b[0m\u001b[1;33m,\u001b[0m \u001b[0mend_i\u001b[0m\u001b[1;33m)\u001b[0m\u001b[1;33m\u001b[0m\u001b[1;33m\u001b[0m\u001b[0m\n\u001b[0m\u001b[0;32m    292\u001b[0m \u001b[1;33m\u001b[0m\u001b[0m\n\u001b[0;32m    293\u001b[0m     \u001b[1;32mdef\u001b[0m \u001b[0m_save_chunk\u001b[0m\u001b[1;33m(\u001b[0m\u001b[0mself\u001b[0m\u001b[1;33m,\u001b[0m \u001b[0mstart_i\u001b[0m\u001b[1;33m:\u001b[0m \u001b[0mint\u001b[0m\u001b[1;33m,\u001b[0m \u001b[0mend_i\u001b[0m\u001b[1;33m:\u001b[0m \u001b[0mint\u001b[0m\u001b[1;33m)\u001b[0m \u001b[1;33m->\u001b[0m \u001b[1;32mNone\u001b[0m\u001b[1;33m:\u001b[0m\u001b[1;33m\u001b[0m\u001b[1;33m\u001b[0m\u001b[0m\n",
            "\u001b[1;32mC:\\ProgramData\\Anaconda3\\lib\\site-packages\\pandas\\io\\formats\\csvs.py\u001b[0m in \u001b[0;36m_save_chunk\u001b[1;34m(self, start_i, end_i)\u001b[0m\n\u001b[0;32m    296\u001b[0m         \u001b[0mdf\u001b[0m \u001b[1;33m=\u001b[0m \u001b[0mself\u001b[0m\u001b[1;33m.\u001b[0m\u001b[0mobj\u001b[0m\u001b[1;33m.\u001b[0m\u001b[0miloc\u001b[0m\u001b[1;33m[\u001b[0m\u001b[0mslicer\u001b[0m\u001b[1;33m]\u001b[0m\u001b[1;33m\u001b[0m\u001b[1;33m\u001b[0m\u001b[0m\n\u001b[0;32m    297\u001b[0m \u001b[1;33m\u001b[0m\u001b[0m\n\u001b[1;32m--> 298\u001b[1;33m         \u001b[0mres\u001b[0m \u001b[1;33m=\u001b[0m \u001b[0mdf\u001b[0m\u001b[1;33m.\u001b[0m\u001b[0m_mgr\u001b[0m\u001b[1;33m.\u001b[0m\u001b[0mto_native_types\u001b[0m\u001b[1;33m(\u001b[0m\u001b[1;33m**\u001b[0m\u001b[0mself\u001b[0m\u001b[1;33m.\u001b[0m\u001b[0m_number_format\u001b[0m\u001b[1;33m)\u001b[0m\u001b[1;33m\u001b[0m\u001b[1;33m\u001b[0m\u001b[0m\n\u001b[0m\u001b[0;32m    299\u001b[0m         \u001b[0mdata\u001b[0m \u001b[1;33m=\u001b[0m \u001b[1;33m[\u001b[0m\u001b[0mres\u001b[0m\u001b[1;33m.\u001b[0m\u001b[0miget_values\u001b[0m\u001b[1;33m(\u001b[0m\u001b[0mi\u001b[0m\u001b[1;33m)\u001b[0m \u001b[1;32mfor\u001b[0m \u001b[0mi\u001b[0m \u001b[1;32min\u001b[0m \u001b[0mrange\u001b[0m\u001b[1;33m(\u001b[0m\u001b[0mlen\u001b[0m\u001b[1;33m(\u001b[0m\u001b[0mres\u001b[0m\u001b[1;33m.\u001b[0m\u001b[0mitems\u001b[0m\u001b[1;33m)\u001b[0m\u001b[1;33m)\u001b[0m\u001b[1;33m]\u001b[0m\u001b[1;33m\u001b[0m\u001b[1;33m\u001b[0m\u001b[0m\n\u001b[0;32m    300\u001b[0m \u001b[1;33m\u001b[0m\u001b[0m\n",
            "\u001b[1;32mC:\\ProgramData\\Anaconda3\\lib\\site-packages\\pandas\\core\\internals\\managers.py\u001b[0m in \u001b[0;36mto_native_types\u001b[1;34m(self, **kwargs)\u001b[0m\n\u001b[0;32m    677\u001b[0m         \u001b[1;32min\u001b[0m \u001b[0mformatting\u001b[0m \u001b[1;33m(\u001b[0m\u001b[0mrepr\u001b[0m \u001b[1;33m/\u001b[0m \u001b[0mcsv\u001b[0m\u001b[1;33m)\u001b[0m\u001b[1;33m.\u001b[0m\u001b[1;33m\u001b[0m\u001b[1;33m\u001b[0m\u001b[0m\n\u001b[0;32m    678\u001b[0m         \"\"\"\n\u001b[1;32m--> 679\u001b[1;33m         \u001b[1;32mreturn\u001b[0m \u001b[0mself\u001b[0m\u001b[1;33m.\u001b[0m\u001b[0mapply\u001b[0m\u001b[1;33m(\u001b[0m\u001b[1;34m\"to_native_types\"\u001b[0m\u001b[1;33m,\u001b[0m \u001b[1;33m**\u001b[0m\u001b[0mkwargs\u001b[0m\u001b[1;33m)\u001b[0m\u001b[1;33m\u001b[0m\u001b[1;33m\u001b[0m\u001b[0m\n\u001b[0m\u001b[0;32m    680\u001b[0m \u001b[1;33m\u001b[0m\u001b[0m\n\u001b[0;32m    681\u001b[0m     \u001b[1;32mdef\u001b[0m \u001b[0mis_consolidated\u001b[0m\u001b[1;33m(\u001b[0m\u001b[0mself\u001b[0m\u001b[1;33m)\u001b[0m \u001b[1;33m->\u001b[0m \u001b[0mbool\u001b[0m\u001b[1;33m:\u001b[0m\u001b[1;33m\u001b[0m\u001b[1;33m\u001b[0m\u001b[0m\n",
            "\u001b[1;32mC:\\ProgramData\\Anaconda3\\lib\\site-packages\\pandas\\core\\internals\\managers.py\u001b[0m in \u001b[0;36mapply\u001b[1;34m(self, f, align_keys, ignore_failures, **kwargs)\u001b[0m\n\u001b[0;32m    425\u001b[0m                     \u001b[0mapplied\u001b[0m \u001b[1;33m=\u001b[0m \u001b[0mb\u001b[0m\u001b[1;33m.\u001b[0m\u001b[0mapply\u001b[0m\u001b[1;33m(\u001b[0m\u001b[0mf\u001b[0m\u001b[1;33m,\u001b[0m \u001b[1;33m**\u001b[0m\u001b[0mkwargs\u001b[0m\u001b[1;33m)\u001b[0m\u001b[1;33m\u001b[0m\u001b[1;33m\u001b[0m\u001b[0m\n\u001b[0;32m    426\u001b[0m                 \u001b[1;32melse\u001b[0m\u001b[1;33m:\u001b[0m\u001b[1;33m\u001b[0m\u001b[1;33m\u001b[0m\u001b[0m\n\u001b[1;32m--> 427\u001b[1;33m                     \u001b[0mapplied\u001b[0m \u001b[1;33m=\u001b[0m \u001b[0mgetattr\u001b[0m\u001b[1;33m(\u001b[0m\u001b[0mb\u001b[0m\u001b[1;33m,\u001b[0m \u001b[0mf\u001b[0m\u001b[1;33m)\u001b[0m\u001b[1;33m(\u001b[0m\u001b[1;33m**\u001b[0m\u001b[0mkwargs\u001b[0m\u001b[1;33m)\u001b[0m\u001b[1;33m\u001b[0m\u001b[1;33m\u001b[0m\u001b[0m\n\u001b[0m\u001b[0;32m    428\u001b[0m             \u001b[1;32mexcept\u001b[0m \u001b[1;33m(\u001b[0m\u001b[0mTypeError\u001b[0m\u001b[1;33m,\u001b[0m \u001b[0mNotImplementedError\u001b[0m\u001b[1;33m)\u001b[0m\u001b[1;33m:\u001b[0m\u001b[1;33m\u001b[0m\u001b[1;33m\u001b[0m\u001b[0m\n\u001b[0;32m    429\u001b[0m                 \u001b[1;32mif\u001b[0m \u001b[1;32mnot\u001b[0m \u001b[0mignore_failures\u001b[0m\u001b[1;33m:\u001b[0m\u001b[1;33m\u001b[0m\u001b[1;33m\u001b[0m\u001b[0m\n",
            "\u001b[1;32mC:\\ProgramData\\Anaconda3\\lib\\site-packages\\pandas\\core\\internals\\blocks.py\u001b[0m in \u001b[0;36mto_native_types\u001b[1;34m(self, na_rep, float_format, decimal, quoting, **kwargs)\u001b[0m\n\u001b[0;32m   2108\u001b[0m                 \u001b[0mvalues\u001b[0m \u001b[1;33m=\u001b[0m \u001b[0mnp\u001b[0m\u001b[1;33m.\u001b[0m\u001b[0marray\u001b[0m\u001b[1;33m(\u001b[0m\u001b[0mvalues\u001b[0m\u001b[1;33m,\u001b[0m \u001b[0mdtype\u001b[0m\u001b[1;33m=\u001b[0m\u001b[1;34m\"object\"\u001b[0m\u001b[1;33m)\u001b[0m\u001b[1;33m\u001b[0m\u001b[1;33m\u001b[0m\u001b[0m\n\u001b[0;32m   2109\u001b[0m \u001b[1;33m\u001b[0m\u001b[0m\n\u001b[1;32m-> 2110\u001b[1;33m             \u001b[0mvalues\u001b[0m\u001b[1;33m[\u001b[0m\u001b[0mmask\u001b[0m\u001b[1;33m]\u001b[0m \u001b[1;33m=\u001b[0m \u001b[0mna_rep\u001b[0m\u001b[1;33m\u001b[0m\u001b[1;33m\u001b[0m\u001b[0m\n\u001b[0m\u001b[0;32m   2111\u001b[0m             \u001b[1;32mreturn\u001b[0m \u001b[0mself\u001b[0m\u001b[1;33m.\u001b[0m\u001b[0mmake_block\u001b[0m\u001b[1;33m(\u001b[0m\u001b[0mvalues\u001b[0m\u001b[1;33m)\u001b[0m\u001b[1;33m\u001b[0m\u001b[1;33m\u001b[0m\u001b[0m\n\u001b[0;32m   2112\u001b[0m \u001b[1;33m\u001b[0m\u001b[0m\n",
            "\u001b[1;31mKeyboardInterrupt\u001b[0m: "
          ]
        }
      ],
      "source": [
        "data_csv.to_csv('./data_saved/data_csv.csv', index=False)"
      ]
    },
    {
      "cell_type": "markdown",
      "id": "ba5712a0",
      "metadata": {
        "id": "ba5712a0"
      },
      "source": [
        "Однако удалось сделать быстрый анализ и выявить аномальные значения. Они соответствуют таким значениям, как \"99999\", \"!@&%*#(+\n",
        "\" и так далее"
      ]
    },
    {
      "cell_type": "code",
      "execution_count": null,
      "id": "1b9b4c83",
      "metadata": {
        "id": "1b9b4c83",
        "outputId": "4e7fefaa-297a-421a-8317-7f2b767ae045"
      },
      "outputs": [
        {
          "data": {
            "text/html": [
              "<div>\n",
              "<style scoped>\n",
              "    .dataframe tbody tr th:only-of-type {\n",
              "        vertical-align: middle;\n",
              "    }\n",
              "\n",
              "    .dataframe tbody tr th {\n",
              "        vertical-align: top;\n",
              "    }\n",
              "\n",
              "    .dataframe thead th {\n",
              "        text-align: right;\n",
              "    }\n",
              "</style>\n",
              "<table border=\"1\" class=\"dataframe\">\n",
              "  <thead>\n",
              "    <tr style=\"text-align: right;\">\n",
              "      <th></th>\n",
              "      <th>csv_values</th>\n",
              "      <th>path</th>\n",
              "    </tr>\n",
              "  </thead>\n",
              "  <tbody>\n",
              "    <tr>\n",
              "      <th>0</th>\n",
              "      <td>1.518057</td>\n",
              "      <td>13</td>\n",
              "    </tr>\n",
              "    <tr>\n",
              "      <th>1</th>\n",
              "      <td>1.573271</td>\n",
              "      <td>13</td>\n",
              "    </tr>\n",
              "    <tr>\n",
              "      <th>2</th>\n",
              "      <td>1.617384</td>\n",
              "      <td>13</td>\n",
              "    </tr>\n",
              "    <tr>\n",
              "      <th>3</th>\n",
              "      <td>1.643969</td>\n",
              "      <td>13</td>\n",
              "    </tr>\n",
              "    <tr>\n",
              "      <th>4</th>\n",
              "      <td>1.666464</td>\n",
              "      <td>13</td>\n",
              "    </tr>\n",
              "    <tr>\n",
              "      <th>...</th>\n",
              "      <td>...</td>\n",
              "      <td>...</td>\n",
              "    </tr>\n",
              "    <tr>\n",
              "      <th>1421277</th>\n",
              "      <td>-219.775879</td>\n",
              "      <td>26</td>\n",
              "    </tr>\n",
              "    <tr>\n",
              "      <th>1421278</th>\n",
              "      <td>-222.539566</td>\n",
              "      <td>26</td>\n",
              "    </tr>\n",
              "    <tr>\n",
              "      <th>1421279</th>\n",
              "      <td>-224.994675</td>\n",
              "      <td>26</td>\n",
              "    </tr>\n",
              "    <tr>\n",
              "      <th>1421280</th>\n",
              "      <td>-226.048706</td>\n",
              "      <td>26</td>\n",
              "    </tr>\n",
              "    <tr>\n",
              "      <th>1421281</th>\n",
              "      <td>-226.550034</td>\n",
              "      <td>26</td>\n",
              "    </tr>\n",
              "  </tbody>\n",
              "</table>\n",
              "<p>292052710 rows × 2 columns</p>\n",
              "</div>"
            ],
            "text/plain": [
              "         csv_values  path\n",
              "0          1.518057    13\n",
              "1          1.573271    13\n",
              "2          1.617384    13\n",
              "3          1.643969    13\n",
              "4          1.666464    13\n",
              "...             ...   ...\n",
              "1421277 -219.775879    26\n",
              "1421278 -222.539566    26\n",
              "1421279 -224.994675    26\n",
              "1421280 -226.048706    26\n",
              "1421281 -226.550034    26\n",
              "\n",
              "[292052710 rows x 2 columns]"
            ]
          },
          "execution_count": 9,
          "metadata": {},
          "output_type": "execute_result"
        }
      ],
      "source": [
        "data_csv"
      ]
    },
    {
      "cell_type": "markdown",
      "id": "57fee94c",
      "metadata": {
        "id": "57fee94c"
      },
      "source": [
        "При анализе данных было выявлены аномалии в виде нечитаемых значений"
      ]
    },
    {
      "cell_type": "markdown",
      "id": "3061dabb",
      "metadata": {
        "id": "3061dabb"
      },
      "source": [
        "### Считывание эксель файлов"
      ]
    },
    {
      "cell_type": "markdown",
      "id": "00b5d1ab",
      "metadata": {
        "id": "00b5d1ab"
      },
      "source": [
        "Эксель формат при считывании автоматически ставит в заголовок первое значение, поэтому в функции аргумент header задан как None. Для привзяки к остальным данным также добавлена информация о пути файла."
      ]
    },
    {
      "cell_type": "code",
      "execution_count": null,
      "id": "129e539c",
      "metadata": {
        "id": "129e539c"
      },
      "outputs": [],
      "source": [
        "data_excel = pd.DataFrame()\n",
        "for path in tqdm(filenames_dict['xlsx']):\n",
        "    df = pd.read_excel(path, header=None)\n",
        "    df.columns = ['excel_values']\n",
        "    df['path'] = len(df) * [path]\n",
        "    data_excel = pd.concat([data_excel, df])"
      ]
    },
    {
      "cell_type": "markdown",
      "id": "f61c92a8",
      "metadata": {
        "id": "f61c92a8"
      },
      "source": [
        "Сохранение таблицы для дальнейшего доступа"
      ]
    },
    {
      "cell_type": "code",
      "execution_count": null,
      "id": "1d7466f1",
      "metadata": {
        "id": "1d7466f1"
      },
      "outputs": [],
      "source": [
        "data_excel.to_csv('./data_saved/data_excel.csv', index=False)"
      ]
    },
    {
      "cell_type": "markdown",
      "id": "05ff590b",
      "metadata": {
        "id": "05ff590b"
      },
      "source": [
        "### Считывание аудио"
      ]
    },
    {
      "cell_type": "markdown",
      "id": "c5208110",
      "metadata": {
        "id": "c5208110"
      },
      "source": [
        "Для считывания аудиозаписи использовалась библиотека soundfile, возвращающая количество дискретов и список, представляющий сигнал аудиозаписи. Для привзяки к остальным данным также добавлена информация о пути файла. Данные сохранены."
      ]
    },
    {
      "cell_type": "code",
      "execution_count": null,
      "id": "0cf31ee6",
      "metadata": {
        "id": "0cf31ee6"
      },
      "outputs": [],
      "source": [
        "data_audio = np.array([])\n",
        "for path in tqdm(filenames_dict['wav']):\n",
        "    audio = sf.read(path)\n",
        "    audio_info = np.array([audio, path])\n",
        "    data_audio = np.append(data_audio, sf.read(path))"
      ]
    },
    {
      "cell_type": "code",
      "execution_count": null,
      "id": "ff1f4858",
      "metadata": {
        "id": "ff1f4858"
      },
      "outputs": [],
      "source": [
        "with open('./data_saved/data_audio.npy', 'wb') as f:\n",
        "    np.save(f, data_audio)"
      ]
    },
    {
      "cell_type": "markdown",
      "id": "95520cd1",
      "metadata": {
        "id": "95520cd1"
      },
      "source": [
        "### Считывание видео"
      ]
    },
    {
      "cell_type": "markdown",
      "id": "be0aa83a",
      "metadata": {
        "id": "be0aa83a"
      },
      "source": [
        "При анализе данных по видео было выявлено, что частота кадров не соответствует заявленной (60 в секунду). Длина первого видео составляет 4 минуты 42 секунды, 282 секунды. Количество кадров в этмо видео - 8460. 8460 / 282 = 30. Таким образом, **частота кадров видео составляет 30 секунд**"
      ]
    },
    {
      "cell_type": "markdown",
      "id": "b656cddf",
      "metadata": {
        "id": "b656cddf"
      },
      "source": [
        "Поскольку не было найдено достоверной информации, как получить вектор температуры из видео, было решено применить аналитический подход. Каждый кадр видео представляет из себя массив из трех каналов. Для каждого кадра по каждому каналу было взято среднее арифметическое. Таким образом, данные по \"векторам температуры\" представляют из себя массив из усредененных значенией по каналу: m * n * z, где m - значение температуры, n - номер канала (0 - красный, 1 - зеленый, 2 - синий), z - секунды "
      ]
    },
    {
      "cell_type": "code",
      "execution_count": null,
      "id": "4cf886fa",
      "metadata": {
        "id": "4cf886fa"
      },
      "outputs": [],
      "source": [
        "data_video = []\n",
        "for path in tqdm(filenames_dict['mkv']):\n",
        "    video = cv.VideoCapture(path)\n",
        "    single_video = []\n",
        "    success, image = video.read()\n",
        "    count = 0\n",
        "    while success:\n",
        "        success, image = video.read()\n",
        "        if count % 30 == 0:\n",
        "            image = image[:570, :780]\n",
        "            values = [np.mean(image[:, :, k]) for k in range(3)]\n",
        "            single_video.append(values)\n",
        "            count += 1\n",
        "        else:\n",
        "            count += 1\n",
        "            continue\n",
        "    data_video.append([path, np.array(single_video)])"
      ]
    },
    {
      "cell_type": "code",
      "execution_count": null,
      "id": "c7f4273a",
      "metadata": {
        "id": "c7f4273a"
      },
      "outputs": [],
      "source": [
        "with open('./data_saved/data_video.npy', 'wb') as f:\n",
        "    np.save(f, data_video)"
      ]
    },
    {
      "cell_type": "code",
      "execution_count": null,
      "id": "f9018c8e",
      "metadata": {
        "id": "f9018c8e"
      },
      "outputs": [],
      "source": []
    }
  ],
  "metadata": {
    "kernelspec": {
      "display_name": "Python 3",
      "language": "python",
      "name": "python3"
    },
    "language_info": {
      "codemirror_mode": {
        "name": "ipython",
        "version": 3
      },
      "file_extension": ".py",
      "mimetype": "text/x-python",
      "name": "python",
      "nbconvert_exporter": "python",
      "pygments_lexer": "ipython3",
      "version": "3.8.8"
    },
    "colab": {
      "provenance": []
    }
  },
  "nbformat": 4,
  "nbformat_minor": 5
}
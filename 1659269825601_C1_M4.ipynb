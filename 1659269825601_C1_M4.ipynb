{
  "cells": [
    {
      "cell_type": "markdown",
      "id": "d3b211bb-2ff5-44f0-a1f5-975bc62dc855",
      "metadata": {
        "id": "d3b211bb-2ff5-44f0-a1f5-975bc62dc855"
      },
      "source": [
        "# Модуль 4. Разработка математического аппарата"
      ]
    },
    {
      "cell_type": "markdown",
      "id": "e2fc3139-516e-4470-9236-7c7532dccfff",
      "metadata": {
        "id": "e2fc3139-516e-4470-9236-7c7532dccfff"
      },
      "source": [
        "## 0 Предисловие"
      ]
    },
    {
      "cell_type": "markdown",
      "id": "cf7f55f7-d6a3-4e46-8b9d-64763000eb57",
      "metadata": {
        "id": "cf7f55f7-d6a3-4e46-8b9d-64763000eb57"
      },
      "source": [
        "### 0.1 Импорт библиотек"
      ]
    },
    {
      "cell_type": "code",
      "execution_count": null,
      "id": "4f8e1c73-024e-41d1-9cec-651c5881b86c",
      "metadata": {
        "id": "4f8e1c73-024e-41d1-9cec-651c5881b86c"
      },
      "outputs": [],
      "source": [
        "import pandas as pd\n",
        "import numpy as np"
      ]
    },
    {
      "cell_type": "code",
      "execution_count": null,
      "id": "0b86785d-89bc-4f1a-9935-0a75d2cf4eea",
      "metadata": {
        "id": "0b86785d-89bc-4f1a-9935-0a75d2cf4eea"
      },
      "outputs": [],
      "source": [
        "import matplotlib.pyplot as plt\n",
        "import seaborn as sns"
      ]
    },
    {
      "cell_type": "code",
      "execution_count": null,
      "id": "be4a5fd7-071b-43e1-bbce-5cfcbd4e4ebe",
      "metadata": {
        "id": "be4a5fd7-071b-43e1-bbce-5cfcbd4e4ebe"
      },
      "outputs": [],
      "source": [
        "import cv2"
      ]
    },
    {
      "cell_type": "code",
      "execution_count": null,
      "id": "a6061091-90c0-4e82-8c47-263015b53010",
      "metadata": {
        "id": "a6061091-90c0-4e82-8c47-263015b53010"
      },
      "outputs": [],
      "source": [
        "from PIL import Image"
      ]
    },
    {
      "cell_type": "code",
      "execution_count": null,
      "id": "944b44cf-654f-4b39-b3b3-534b14d3c549",
      "metadata": {
        "id": "944b44cf-654f-4b39-b3b3-534b14d3c549"
      },
      "outputs": [],
      "source": [
        "from tqdm.notebook import tqdm"
      ]
    },
    {
      "cell_type": "code",
      "execution_count": null,
      "id": "9da0b125-2b7b-4484-a15c-ed172c0330f6",
      "metadata": {
        "id": "9da0b125-2b7b-4484-a15c-ed172c0330f6"
      },
      "outputs": [],
      "source": [
        "import warnings\n",
        "warnings.filterwarnings('ignore')"
      ]
    },
    {
      "cell_type": "code",
      "execution_count": null,
      "id": "14e57e68-1285-4a19-b274-8ac57cc782f8",
      "metadata": {
        "id": "14e57e68-1285-4a19-b274-8ac57cc782f8"
      },
      "outputs": [],
      "source": [
        "import os"
      ]
    },
    {
      "cell_type": "code",
      "execution_count": null,
      "id": "cea7e5db-63f7-496e-af2c-e059a1df6ae4",
      "metadata": {
        "id": "cea7e5db-63f7-496e-af2c-e059a1df6ae4"
      },
      "outputs": [],
      "source": [
        "from scipy.io import wavfile"
      ]
    },
    {
      "cell_type": "code",
      "execution_count": null,
      "id": "c7f7f056-5fe1-4fab-9652-e8de08cedaef",
      "metadata": {
        "id": "c7f7f056-5fe1-4fab-9652-e8de08cedaef"
      },
      "outputs": [],
      "source": [
        "import pickle as pkl"
      ]
    },
    {
      "cell_type": "code",
      "execution_count": null,
      "id": "bcc194fa-26b7-4fe3-b31c-4f08f0e403f8",
      "metadata": {
        "id": "bcc194fa-26b7-4fe3-b31c-4f08f0e403f8"
      },
      "outputs": [],
      "source": [
        "import scipy.signal as signal"
      ]
    },
    {
      "cell_type": "code",
      "execution_count": null,
      "id": "a1a24df9-450e-487a-80a4-b2f564530927",
      "metadata": {
        "id": "a1a24df9-450e-487a-80a4-b2f564530927"
      },
      "outputs": [],
      "source": [
        "RANDOM_STATE=666"
      ]
    },
    {
      "cell_type": "markdown",
      "id": "7b430295-41fd-4922-8cea-5c761e81f6e5",
      "metadata": {
        "id": "7b430295-41fd-4922-8cea-5c761e81f6e5"
      },
      "source": [
        "### 0.2 Загрузка результатов модуля C"
      ]
    },
    {
      "cell_type": "code",
      "execution_count": null,
      "id": "f3eef9dc-5e77-46e5-b8ce-49013e4db6b5",
      "metadata": {
        "id": "f3eef9dc-5e77-46e5-b8ce-49013e4db6b5",
        "outputId": "b2340f38-d4e1-4603-f3b0-a3800a9ee78b"
      },
      "outputs": [
        {
          "name": "stdout",
          "output_type": "stream",
          "text": [
            "CPU times: total: 0 ns\n",
            "Wall time: 978 µs\n"
          ]
        }
      ],
      "source": [
        "%%time\n",
        "try:\n",
        "    with open('..\\\\C1_M3\\\\exp_df.data', 'rb') as f:\n",
        "        exp_df = pkl.load(f)\n",
        "except Exception as e:\n",
        "    print(e)"
      ]
    },
    {
      "cell_type": "code",
      "execution_count": null,
      "id": "d6a09d33-ad2b-4a3c-984b-b4e26556c4bb",
      "metadata": {
        "id": "d6a09d33-ad2b-4a3c-984b-b4e26556c4bb",
        "outputId": "73b5b8a7-d375-4fca-b00f-3fefbaa8c832"
      },
      "outputs": [
        {
          "data": {
            "text/html": [
              "<div>\n",
              "<style scoped>\n",
              "    .dataframe tbody tr th:only-of-type {\n",
              "        vertical-align: middle;\n",
              "    }\n",
              "\n",
              "    .dataframe tbody tr th {\n",
              "        vertical-align: top;\n",
              "    }\n",
              "\n",
              "    .dataframe thead th {\n",
              "        text-align: right;\n",
              "    }\n",
              "</style>\n",
              "<table border=\"1\" class=\"dataframe\">\n",
              "  <thead>\n",
              "    <tr style=\"text-align: right;\">\n",
              "      <th></th>\n",
              "      <th>48130</th>\n",
              "      <th>32773</th>\n",
              "      <th>72709</th>\n",
              "      <th>71689</th>\n",
              "      <th>3081</th>\n",
              "      <th>25610</th>\n",
              "      <th>36877</th>\n",
              "      <th>42000</th>\n",
              "      <th>52240</th>\n",
              "      <th>21527</th>\n",
              "      <th>...</th>\n",
              "      <th>5095</th>\n",
              "      <th>12265</th>\n",
              "      <th>27627</th>\n",
              "      <th>49134</th>\n",
              "      <th>53238</th>\n",
              "      <th>62459</th>\n",
              "      <th>21500</th>\n",
              "      <th>temp</th>\n",
              "      <th>cluster</th>\n",
              "      <th>mode</th>\n",
              "    </tr>\n",
              "  </thead>\n",
              "  <tbody>\n",
              "    <tr>\n",
              "      <th>2166</th>\n",
              "      <td>179</td>\n",
              "      <td>234</td>\n",
              "      <td>117</td>\n",
              "      <td>27</td>\n",
              "      <td>19</td>\n",
              "      <td>19</td>\n",
              "      <td>242</td>\n",
              "      <td>237</td>\n",
              "      <td>146</td>\n",
              "      <td>147</td>\n",
              "      <td>...</td>\n",
              "      <td>157</td>\n",
              "      <td>39</td>\n",
              "      <td>244</td>\n",
              "      <td>35</td>\n",
              "      <td>162</td>\n",
              "      <td>34</td>\n",
              "      <td>15</td>\n",
              "      <td>74.222222</td>\n",
              "      <td>1</td>\n",
              "      <td>3</td>\n",
              "    </tr>\n",
              "    <tr>\n",
              "      <th>2069</th>\n",
              "      <td>83</td>\n",
              "      <td>181</td>\n",
              "      <td>122</td>\n",
              "      <td>65</td>\n",
              "      <td>58</td>\n",
              "      <td>57</td>\n",
              "      <td>222</td>\n",
              "      <td>120</td>\n",
              "      <td>34</td>\n",
              "      <td>91</td>\n",
              "      <td>...</td>\n",
              "      <td>159</td>\n",
              "      <td>60</td>\n",
              "      <td>233</td>\n",
              "      <td>72</td>\n",
              "      <td>55</td>\n",
              "      <td>70</td>\n",
              "      <td>54</td>\n",
              "      <td>49.433333</td>\n",
              "      <td>1</td>\n",
              "      <td>2</td>\n",
              "    </tr>\n",
              "    <tr>\n",
              "      <th>5</th>\n",
              "      <td>24</td>\n",
              "      <td>35</td>\n",
              "      <td>134</td>\n",
              "      <td>181</td>\n",
              "      <td>152</td>\n",
              "      <td>144</td>\n",
              "      <td>39</td>\n",
              "      <td>40</td>\n",
              "      <td>24</td>\n",
              "      <td>87</td>\n",
              "      <td>...</td>\n",
              "      <td>157</td>\n",
              "      <td>152</td>\n",
              "      <td>51</td>\n",
              "      <td>206</td>\n",
              "      <td>17</td>\n",
              "      <td>207</td>\n",
              "      <td>130</td>\n",
              "      <td>26.543816</td>\n",
              "      <td>2</td>\n",
              "      <td>1</td>\n",
              "    </tr>\n",
              "    <tr>\n",
              "      <th>584</th>\n",
              "      <td>22</td>\n",
              "      <td>35</td>\n",
              "      <td>134</td>\n",
              "      <td>184</td>\n",
              "      <td>157</td>\n",
              "      <td>147</td>\n",
              "      <td>40</td>\n",
              "      <td>43</td>\n",
              "      <td>25</td>\n",
              "      <td>91</td>\n",
              "      <td>...</td>\n",
              "      <td>160</td>\n",
              "      <td>158</td>\n",
              "      <td>52</td>\n",
              "      <td>214</td>\n",
              "      <td>14</td>\n",
              "      <td>213</td>\n",
              "      <td>136</td>\n",
              "      <td>31.046619</td>\n",
              "      <td>2</td>\n",
              "      <td>1</td>\n",
              "    </tr>\n",
              "    <tr>\n",
              "      <th>2171</th>\n",
              "      <td>181</td>\n",
              "      <td>234</td>\n",
              "      <td>117</td>\n",
              "      <td>27</td>\n",
              "      <td>18</td>\n",
              "      <td>16</td>\n",
              "      <td>246</td>\n",
              "      <td>242</td>\n",
              "      <td>153</td>\n",
              "      <td>153</td>\n",
              "      <td>...</td>\n",
              "      <td>155</td>\n",
              "      <td>42</td>\n",
              "      <td>246</td>\n",
              "      <td>34</td>\n",
              "      <td>162</td>\n",
              "      <td>33</td>\n",
              "      <td>14</td>\n",
              "      <td>75.500000</td>\n",
              "      <td>1</td>\n",
              "      <td>3</td>\n",
              "    </tr>\n",
              "  </tbody>\n",
              "</table>\n",
              "<p>5 rows × 495 columns</p>\n",
              "</div>"
            ],
            "text/plain": [
              "      48130  32773  72709  71689  3081  25610  36877  42000  52240  21527  \\\n",
              "2166    179    234    117     27    19     19    242    237    146    147   \n",
              "2069     83    181    122     65    58     57    222    120     34     91   \n",
              "5        24     35    134    181   152    144     39     40     24     87   \n",
              "584      22     35    134    184   157    147     40     43     25     91   \n",
              "2171    181    234    117     27    18     16    246    242    153    153   \n",
              "\n",
              "      ...  5095  12265  27627  49134  53238  62459  21500       temp  cluster  \\\n",
              "2166  ...   157     39    244     35    162     34     15  74.222222        1   \n",
              "2069  ...   159     60    233     72     55     70     54  49.433333        1   \n",
              "5     ...   157    152     51    206     17    207    130  26.543816        2   \n",
              "584   ...   160    158     52    214     14    213    136  31.046619        2   \n",
              "2171  ...   155     42    246     34    162     33     14  75.500000        1   \n",
              "\n",
              "      mode  \n",
              "2166     3  \n",
              "2069     2  \n",
              "5        1  \n",
              "584      1  \n",
              "2171     3  \n",
              "\n",
              "[5 rows x 495 columns]"
            ]
          },
          "execution_count": 13,
          "metadata": {},
          "output_type": "execute_result"
        }
      ],
      "source": [
        "exp_df.sample(5)"
      ]
    },
    {
      "cell_type": "markdown",
      "id": "2838b2c7-9f57-4b05-b98f-200cf2e28dea",
      "metadata": {
        "id": "2838b2c7-9f57-4b05-b98f-200cf2e28dea"
      },
      "source": [
        "# 1 Подготовка финальной выборки для обучения"
      ]
    },
    {
      "cell_type": "markdown",
      "id": "a56e2d0d-9f45-497b-a44d-589d57d40246",
      "metadata": {
        "id": "a56e2d0d-9f45-497b-a44d-589d57d40246"
      },
      "source": [
        "Перед разделением выборки на train, test, valid необходимо добавить новые признаки и проанализировать их"
      ]
    },
    {
      "cell_type": "markdown",
      "id": "0ff79f82-128f-4d73-ae36-a1ba21b568cb",
      "metadata": {
        "id": "0ff79f82-128f-4d73-ae36-a1ba21b568cb"
      },
      "source": [
        "## 1.1 Генерация новых переменных на основе имеющихся"
      ]
    },
    {
      "cell_type": "markdown",
      "id": "93d3c4f4-c377-4ba5-ad45-a6dac94691c5",
      "metadata": {
        "id": "93d3c4f4-c377-4ba5-ad45-a6dac94691c5"
      },
      "source": [
        "Новый признак \"время в секундах\" для каждого эксперимента"
      ]
    },
    {
      "cell_type": "code",
      "execution_count": null,
      "id": "1f510ae1-ce0f-4c15-b214-78a168f3a753",
      "metadata": {
        "id": "1f510ae1-ce0f-4c15-b214-78a168f3a753"
      },
      "outputs": [],
      "source": [
        "# длины экспериментов\n",
        "len_list = [284, 281, 282, 274, 284, 280, 288, 280, 291]"
      ]
    },
    {
      "cell_type": "code",
      "execution_count": null,
      "id": "c8b391fd-bc10-4ec0-9875-716e0d3d165e",
      "metadata": {
        "id": "c8b391fd-bc10-4ec0-9875-716e0d3d165e"
      },
      "outputs": [],
      "source": [
        "times = []\n",
        "\n",
        "for l in len_list:\n",
        "    times += list(range(l))"
      ]
    },
    {
      "cell_type": "code",
      "execution_count": null,
      "id": "def79cce-0b5c-4354-8bab-3a113394b57e",
      "metadata": {
        "id": "def79cce-0b5c-4354-8bab-3a113394b57e"
      },
      "outputs": [],
      "source": [
        "exp_df['time'] = pd.Series(times)"
      ]
    },
    {
      "cell_type": "code",
      "execution_count": null,
      "id": "e01a6025-1363-4b11-a619-7610b6e7dffb",
      "metadata": {
        "id": "e01a6025-1363-4b11-a619-7610b6e7dffb",
        "outputId": "f24d8789-a6c5-4f8a-afa4-8bebce3c3ac5"
      },
      "outputs": [
        {
          "data": {
            "text/html": [
              "<div>\n",
              "<style scoped>\n",
              "    .dataframe tbody tr th:only-of-type {\n",
              "        vertical-align: middle;\n",
              "    }\n",
              "\n",
              "    .dataframe tbody tr th {\n",
              "        vertical-align: top;\n",
              "    }\n",
              "\n",
              "    .dataframe thead th {\n",
              "        text-align: right;\n",
              "    }\n",
              "</style>\n",
              "<table border=\"1\" class=\"dataframe\">\n",
              "  <thead>\n",
              "    <tr style=\"text-align: right;\">\n",
              "      <th></th>\n",
              "      <th>48130</th>\n",
              "      <th>32773</th>\n",
              "      <th>72709</th>\n",
              "      <th>71689</th>\n",
              "      <th>3081</th>\n",
              "      <th>25610</th>\n",
              "      <th>36877</th>\n",
              "      <th>42000</th>\n",
              "      <th>52240</th>\n",
              "      <th>21527</th>\n",
              "      <th>...</th>\n",
              "      <th>12265</th>\n",
              "      <th>27627</th>\n",
              "      <th>49134</th>\n",
              "      <th>53238</th>\n",
              "      <th>62459</th>\n",
              "      <th>21500</th>\n",
              "      <th>temp</th>\n",
              "      <th>cluster</th>\n",
              "      <th>mode</th>\n",
              "      <th>time</th>\n",
              "    </tr>\n",
              "  </thead>\n",
              "  <tbody>\n",
              "    <tr>\n",
              "      <th>0</th>\n",
              "      <td>25</td>\n",
              "      <td>37</td>\n",
              "      <td>136</td>\n",
              "      <td>187</td>\n",
              "      <td>155</td>\n",
              "      <td>148</td>\n",
              "      <td>40</td>\n",
              "      <td>42</td>\n",
              "      <td>25</td>\n",
              "      <td>89</td>\n",
              "      <td>...</td>\n",
              "      <td>158</td>\n",
              "      <td>54</td>\n",
              "      <td>214</td>\n",
              "      <td>19</td>\n",
              "      <td>215</td>\n",
              "      <td>136</td>\n",
              "      <td>25.300000</td>\n",
              "      <td>2</td>\n",
              "      <td>1</td>\n",
              "      <td>0</td>\n",
              "    </tr>\n",
              "    <tr>\n",
              "      <th>1</th>\n",
              "      <td>23</td>\n",
              "      <td>37</td>\n",
              "      <td>136</td>\n",
              "      <td>185</td>\n",
              "      <td>157</td>\n",
              "      <td>149</td>\n",
              "      <td>40</td>\n",
              "      <td>41</td>\n",
              "      <td>24</td>\n",
              "      <td>90</td>\n",
              "      <td>...</td>\n",
              "      <td>159</td>\n",
              "      <td>54</td>\n",
              "      <td>214</td>\n",
              "      <td>17</td>\n",
              "      <td>214</td>\n",
              "      <td>136</td>\n",
              "      <td>25.548763</td>\n",
              "      <td>2</td>\n",
              "      <td>1</td>\n",
              "      <td>1</td>\n",
              "    </tr>\n",
              "    <tr>\n",
              "      <th>2</th>\n",
              "      <td>22</td>\n",
              "      <td>35</td>\n",
              "      <td>135</td>\n",
              "      <td>182</td>\n",
              "      <td>156</td>\n",
              "      <td>145</td>\n",
              "      <td>40</td>\n",
              "      <td>42</td>\n",
              "      <td>24</td>\n",
              "      <td>89</td>\n",
              "      <td>...</td>\n",
              "      <td>157</td>\n",
              "      <td>52</td>\n",
              "      <td>212</td>\n",
              "      <td>18</td>\n",
              "      <td>214</td>\n",
              "      <td>135</td>\n",
              "      <td>25.797527</td>\n",
              "      <td>2</td>\n",
              "      <td>1</td>\n",
              "      <td>2</td>\n",
              "    </tr>\n",
              "    <tr>\n",
              "      <th>3</th>\n",
              "      <td>22</td>\n",
              "      <td>35</td>\n",
              "      <td>133</td>\n",
              "      <td>179</td>\n",
              "      <td>152</td>\n",
              "      <td>142</td>\n",
              "      <td>40</td>\n",
              "      <td>42</td>\n",
              "      <td>24</td>\n",
              "      <td>88</td>\n",
              "      <td>...</td>\n",
              "      <td>155</td>\n",
              "      <td>52</td>\n",
              "      <td>208</td>\n",
              "      <td>17</td>\n",
              "      <td>211</td>\n",
              "      <td>133</td>\n",
              "      <td>26.046290</td>\n",
              "      <td>2</td>\n",
              "      <td>1</td>\n",
              "      <td>3</td>\n",
              "    </tr>\n",
              "    <tr>\n",
              "      <th>4</th>\n",
              "      <td>25</td>\n",
              "      <td>35</td>\n",
              "      <td>136</td>\n",
              "      <td>185</td>\n",
              "      <td>153</td>\n",
              "      <td>149</td>\n",
              "      <td>39</td>\n",
              "      <td>40</td>\n",
              "      <td>24</td>\n",
              "      <td>89</td>\n",
              "      <td>...</td>\n",
              "      <td>158</td>\n",
              "      <td>53</td>\n",
              "      <td>215</td>\n",
              "      <td>18</td>\n",
              "      <td>215</td>\n",
              "      <td>135</td>\n",
              "      <td>26.295053</td>\n",
              "      <td>2</td>\n",
              "      <td>1</td>\n",
              "      <td>4</td>\n",
              "    </tr>\n",
              "    <tr>\n",
              "      <th>...</th>\n",
              "      <td>...</td>\n",
              "      <td>...</td>\n",
              "      <td>...</td>\n",
              "      <td>...</td>\n",
              "      <td>...</td>\n",
              "      <td>...</td>\n",
              "      <td>...</td>\n",
              "      <td>...</td>\n",
              "      <td>...</td>\n",
              "      <td>...</td>\n",
              "      <td>...</td>\n",
              "      <td>...</td>\n",
              "      <td>...</td>\n",
              "      <td>...</td>\n",
              "      <td>...</td>\n",
              "      <td>...</td>\n",
              "      <td>...</td>\n",
              "      <td>...</td>\n",
              "      <td>...</td>\n",
              "      <td>...</td>\n",
              "      <td>...</td>\n",
              "    </tr>\n",
              "    <tr>\n",
              "      <th>2539</th>\n",
              "      <td>199</td>\n",
              "      <td>223</td>\n",
              "      <td>119</td>\n",
              "      <td>14</td>\n",
              "      <td>9</td>\n",
              "      <td>9</td>\n",
              "      <td>250</td>\n",
              "      <td>241</td>\n",
              "      <td>193</td>\n",
              "      <td>170</td>\n",
              "      <td>...</td>\n",
              "      <td>56</td>\n",
              "      <td>244</td>\n",
              "      <td>19</td>\n",
              "      <td>189</td>\n",
              "      <td>19</td>\n",
              "      <td>9</td>\n",
              "      <td>95.309655</td>\n",
              "      <td>1</td>\n",
              "      <td>3</td>\n",
              "      <td>286</td>\n",
              "    </tr>\n",
              "    <tr>\n",
              "      <th>2540</th>\n",
              "      <td>199</td>\n",
              "      <td>226</td>\n",
              "      <td>119</td>\n",
              "      <td>13</td>\n",
              "      <td>9</td>\n",
              "      <td>9</td>\n",
              "      <td>249</td>\n",
              "      <td>241</td>\n",
              "      <td>194</td>\n",
              "      <td>170</td>\n",
              "      <td>...</td>\n",
              "      <td>56</td>\n",
              "      <td>244</td>\n",
              "      <td>20</td>\n",
              "      <td>191</td>\n",
              "      <td>19</td>\n",
              "      <td>8</td>\n",
              "      <td>95.557241</td>\n",
              "      <td>1</td>\n",
              "      <td>3</td>\n",
              "      <td>287</td>\n",
              "    </tr>\n",
              "    <tr>\n",
              "      <th>2541</th>\n",
              "      <td>201</td>\n",
              "      <td>227</td>\n",
              "      <td>119</td>\n",
              "      <td>13</td>\n",
              "      <td>9</td>\n",
              "      <td>8</td>\n",
              "      <td>248</td>\n",
              "      <td>241</td>\n",
              "      <td>196</td>\n",
              "      <td>174</td>\n",
              "      <td>...</td>\n",
              "      <td>56</td>\n",
              "      <td>245</td>\n",
              "      <td>20</td>\n",
              "      <td>192</td>\n",
              "      <td>19</td>\n",
              "      <td>10</td>\n",
              "      <td>95.804828</td>\n",
              "      <td>1</td>\n",
              "      <td>3</td>\n",
              "      <td>288</td>\n",
              "    </tr>\n",
              "    <tr>\n",
              "      <th>2542</th>\n",
              "      <td>202</td>\n",
              "      <td>227</td>\n",
              "      <td>119</td>\n",
              "      <td>12</td>\n",
              "      <td>9</td>\n",
              "      <td>9</td>\n",
              "      <td>248</td>\n",
              "      <td>241</td>\n",
              "      <td>198</td>\n",
              "      <td>175</td>\n",
              "      <td>...</td>\n",
              "      <td>56</td>\n",
              "      <td>245</td>\n",
              "      <td>20</td>\n",
              "      <td>193</td>\n",
              "      <td>19</td>\n",
              "      <td>9</td>\n",
              "      <td>96.052414</td>\n",
              "      <td>1</td>\n",
              "      <td>3</td>\n",
              "      <td>289</td>\n",
              "    </tr>\n",
              "    <tr>\n",
              "      <th>2543</th>\n",
              "      <td>206</td>\n",
              "      <td>228</td>\n",
              "      <td>119</td>\n",
              "      <td>13</td>\n",
              "      <td>9</td>\n",
              "      <td>9</td>\n",
              "      <td>249</td>\n",
              "      <td>243</td>\n",
              "      <td>201</td>\n",
              "      <td>178</td>\n",
              "      <td>...</td>\n",
              "      <td>57</td>\n",
              "      <td>245</td>\n",
              "      <td>21</td>\n",
              "      <td>196</td>\n",
              "      <td>20</td>\n",
              "      <td>8</td>\n",
              "      <td>96.300000</td>\n",
              "      <td>1</td>\n",
              "      <td>3</td>\n",
              "      <td>290</td>\n",
              "    </tr>\n",
              "  </tbody>\n",
              "</table>\n",
              "<p>2544 rows × 496 columns</p>\n",
              "</div>"
            ],
            "text/plain": [
              "      48130  32773  72709  71689  3081  25610  36877  42000  52240  21527  \\\n",
              "0        25     37    136    187   155    148     40     42     25     89   \n",
              "1        23     37    136    185   157    149     40     41     24     90   \n",
              "2        22     35    135    182   156    145     40     42     24     89   \n",
              "3        22     35    133    179   152    142     40     42     24     88   \n",
              "4        25     35    136    185   153    149     39     40     24     89   \n",
              "...     ...    ...    ...    ...   ...    ...    ...    ...    ...    ...   \n",
              "2539    199    223    119     14     9      9    250    241    193    170   \n",
              "2540    199    226    119     13     9      9    249    241    194    170   \n",
              "2541    201    227    119     13     9      8    248    241    196    174   \n",
              "2542    202    227    119     12     9      9    248    241    198    175   \n",
              "2543    206    228    119     13     9      9    249    243    201    178   \n",
              "\n",
              "      ...  12265  27627  49134  53238  62459  21500       temp  cluster  mode  \\\n",
              "0     ...    158     54    214     19    215    136  25.300000        2     1   \n",
              "1     ...    159     54    214     17    214    136  25.548763        2     1   \n",
              "2     ...    157     52    212     18    214    135  25.797527        2     1   \n",
              "3     ...    155     52    208     17    211    133  26.046290        2     1   \n",
              "4     ...    158     53    215     18    215    135  26.295053        2     1   \n",
              "...   ...    ...    ...    ...    ...    ...    ...        ...      ...   ...   \n",
              "2539  ...     56    244     19    189     19      9  95.309655        1     3   \n",
              "2540  ...     56    244     20    191     19      8  95.557241        1     3   \n",
              "2541  ...     56    245     20    192     19     10  95.804828        1     3   \n",
              "2542  ...     56    245     20    193     19      9  96.052414        1     3   \n",
              "2543  ...     57    245     21    196     20      8  96.300000        1     3   \n",
              "\n",
              "      time  \n",
              "0        0  \n",
              "1        1  \n",
              "2        2  \n",
              "3        3  \n",
              "4        4  \n",
              "...    ...  \n",
              "2539   286  \n",
              "2540   287  \n",
              "2541   288  \n",
              "2542   289  \n",
              "2543   290  \n",
              "\n",
              "[2544 rows x 496 columns]"
            ]
          },
          "execution_count": 21,
          "metadata": {},
          "output_type": "execute_result"
        }
      ],
      "source": [
        "exp_df"
      ]
    },
    {
      "cell_type": "markdown",
      "id": "5db3f49a-2575-4138-910b-453071c0340e",
      "metadata": {
        "id": "5db3f49a-2575-4138-910b-453071c0340e"
      },
      "source": [
        "Добавим признак \"количество энергии\", как Ватт/с"
      ]
    },
    {
      "cell_type": "code",
      "execution_count": null,
      "id": "95456a3c-8058-464f-95b6-af45d427d2ba",
      "metadata": {
        "id": "95456a3c-8058-464f-95b6-af45d427d2ba"
      },
      "outputs": [],
      "source": [
        "exp_df['p']= exp_df['p'].apply(np.abs)"
      ]
    },
    {
      "cell_type": "code",
      "execution_count": null,
      "id": "b8e63c7c-bb06-4b68-b597-c5171597f0a8",
      "metadata": {
        "id": "b8e63c7c-bb06-4b68-b597-c5171597f0a8"
      },
      "outputs": [],
      "source": [
        "exp_df['watt_s'] = exp_df['time'] * exp_df['p']"
      ]
    },
    {
      "cell_type": "markdown",
      "id": "1c926a2d-efb5-4d13-a0f2-22f92c11fc43",
      "metadata": {
        "id": "1c926a2d-efb5-4d13-a0f2-22f92c11fc43"
      },
      "source": [
        "Новый признак \"окончание эксперимента\""
      ]
    },
    {
      "cell_type": "code",
      "execution_count": null,
      "id": "68ab90f4-f76a-40ee-a77a-d610fbc6cd91",
      "metadata": {
        "id": "68ab90f4-f76a-40ee-a77a-d610fbc6cd91"
      },
      "outputs": [],
      "source": [
        "end_arr = np.zeros(exp_df.shape[0])"
      ]
    },
    {
      "cell_type": "code",
      "execution_count": null,
      "id": "e9414f78-beb2-43df-a71f-cdf8f365c330",
      "metadata": {
        "id": "e9414f78-beb2-43df-a71f-cdf8f365c330"
      },
      "outputs": [],
      "source": [
        "for ind in len_list:\n",
        "    end_arr[ind - 1] = 1"
      ]
    },
    {
      "cell_type": "code",
      "execution_count": null,
      "id": "43e98f2e-4608-40a3-b322-2f2ef5d36b0e",
      "metadata": {
        "id": "43e98f2e-4608-40a3-b322-2f2ef5d36b0e"
      },
      "outputs": [],
      "source": [
        "exp_df['end'] = end_arr"
      ]
    },
    {
      "cell_type": "markdown",
      "id": "94372011-4a96-43cb-894b-678942189baf",
      "metadata": {
        "id": "94372011-4a96-43cb-894b-678942189baf"
      },
      "source": [
        "## 1.2 Анализ сгенерированных переменных"
      ]
    },
    {
      "cell_type": "markdown",
      "id": "88755923-999e-4b6b-bc86-84bf8edaf281",
      "metadata": {
        "id": "88755923-999e-4b6b-bc86-84bf8edaf281"
      },
      "source": [
        "Корреляционный анализ"
      ]
    },
    {
      "cell_type": "code",
      "execution_count": null,
      "id": "63cb457c-67f9-43cd-9e42-1737041d7e86",
      "metadata": {
        "id": "63cb457c-67f9-43cd-9e42-1737041d7e86"
      },
      "outputs": [],
      "source": [
        "col_is_not_pixel = []\n",
        "for col in exp_df.columns:\n",
        "    try:\n",
        "        num = int(col)\n",
        "    except:\n",
        "        col_is_not_pixel.append(col)"
      ]
    },
    {
      "cell_type": "code",
      "execution_count": null,
      "id": "9e6e8d6f-fc6c-45f4-a3d8-642717791b0f",
      "metadata": {
        "id": "9e6e8d6f-fc6c-45f4-a3d8-642717791b0f",
        "outputId": "2c0b1167-5c36-4889-a7dd-755374cfc552"
      },
      "outputs": [
        {
          "name": "stdout",
          "output_type": "stream",
          "text": [
            "['t', 'w', 'a', 'p', 'ws', 'herz', 'co2', 'vl', 'v', 'temp', 'cluster', 'mode', 'time', 'watt_s', 'end']\n"
          ]
        }
      ],
      "source": [
        "print(col_is_not_pixel)"
      ]
    },
    {
      "cell_type": "code",
      "execution_count": null,
      "id": "666945c4-8d8d-435f-9c17-6dc087c782b1",
      "metadata": {
        "id": "666945c4-8d8d-435f-9c17-6dc087c782b1"
      },
      "outputs": [],
      "source": [
        "exp_corr = exp_df[col_is_not_pixel].corr()"
      ]
    },
    {
      "cell_type": "code",
      "execution_count": null,
      "id": "5a5fc3bf-f99f-439f-9121-fc3f7a72acab",
      "metadata": {
        "id": "5a5fc3bf-f99f-439f-9121-fc3f7a72acab",
        "outputId": "cdba0080-e4cd-44b9-879e-6c6beef8378d"
      },
      "outputs": [
        {
          "data": {
            "image/png": "[encoded data removed]",
            "text/plain": [
              "<Figure size 1440x432 with 2 Axes>"
            ]
          },
          "metadata": {
            "needs_background": "light"
          },
          "output_type": "display_data"
        }
      ],
      "source": [
        "plt.figure(figsize=(20,6))\n",
        "sns.heatmap(exp_corr, mask=np.triu(exp_corr), annot=True);"
      ]
    },
    {
      "cell_type": "markdown",
      "id": "99ddb925-e3c4-4443-bf4a-0e5082ba6cf3",
      "metadata": {
        "id": "99ddb925-e3c4-4443-bf4a-0e5082ba6cf3"
      },
      "source": [
        "Наблюдается очень сильная корреляция между **режимом** и **временем испытания**. Поскольку переменные с очень сильной корреляцией предоставляют идентичную информацию модели, то удалим \"режим\", поскольку нигде в задании он не фигурирует."
      ]
    },
    {
      "cell_type": "code",
      "execution_count": null,
      "id": "1f1d44f9-ceb8-4c93-9f43-e26a531d2dbb",
      "metadata": {
        "id": "1f1d44f9-ceb8-4c93-9f43-e26a531d2dbb"
      },
      "outputs": [],
      "source": [
        "exp_df = exp_df.drop('mode', axis=1)"
      ]
    },
    {
      "cell_type": "markdown",
      "id": "331aecba-6aa6-4d7e-ab8c-5ad416671b0e",
      "metadata": {
        "id": "331aecba-6aa6-4d7e-ab8c-5ad416671b0e"
      },
      "source": [
        "Поскольку напряжение я удалил в прошлом модуле, а в данном модуле оно вновь понадобилось, то вернём его на место"
      ]
    },
    {
      "cell_type": "code",
      "execution_count": null,
      "id": "38fd0d6d-714f-42b5-a045-c27b37c2f6f9",
      "metadata": {
        "id": "38fd0d6d-714f-42b5-a045-c27b37c2f6f9",
        "outputId": "917fce4e-bd40-4536-a6d2-9ca607dc78b0"
      },
      "outputs": [
        {
          "name": "stdout",
          "output_type": "stream",
          "text": [
            "CPU times: total: 62.5 ms\n",
            "Wall time: 55.9 ms\n"
          ]
        }
      ],
      "source": [
        "%%time\n",
        "try:\n",
        "    with open('..\\\\C1_M2\\\\exp_df.data', 'rb') as f:\n",
        "        exp_df_mod2 = pkl.load(f)\n",
        "except Exception as e:\n",
        "    print(e)"
      ]
    },
    {
      "cell_type": "code",
      "execution_count": null,
      "id": "60c3cebc-dc4b-410c-8dcd-bfd1d9aa9c11",
      "metadata": {
        "id": "60c3cebc-dc4b-410c-8dcd-bfd1d9aa9c11"
      },
      "outputs": [],
      "source": [
        "exp_df['volt'] = exp_df_mod2['volt']"
      ]
    },
    {
      "cell_type": "code",
      "execution_count": null,
      "id": "8975700a-4e1a-4ce1-8608-26b87db8e130",
      "metadata": {
        "id": "8975700a-4e1a-4ce1-8608-26b87db8e130"
      },
      "outputs": [],
      "source": [
        "# del exp_df_mod2"
      ]
    },
    {
      "cell_type": "markdown",
      "id": "f015847a-f2ba-4fa2-9630-0c20a27f75f9",
      "metadata": {
        "id": "f015847a-f2ba-4fa2-9630-0c20a27f75f9"
      },
      "source": [
        "## 1.3 Разбиение выборки на тренировочную, выборочную и валидационную выборки"
      ]
    },
    {
      "cell_type": "markdown",
      "id": "86fb46bb-2501-44e1-ae31-527521eff8d2",
      "metadata": {
        "id": "86fb46bb-2501-44e1-ae31-527521eff8d2"
      },
      "source": [
        "Для заданий из пп. 2, 4 осуществим разбиение по всей выборке в долях train-70%, test-20%, valid-10%. "
      ]
    },
    {
      "cell_type": "code",
      "execution_count": null,
      "id": "39e5e7b1-a497-4b48-adcb-a59d4d978301",
      "metadata": {
        "id": "39e5e7b1-a497-4b48-adcb-a59d4d978301"
      },
      "outputs": [],
      "source": [
        "# валидационная выборка\n",
        "valid_df = exp_df.sample(frac=0.1, random_state=RANDOM_STATE)"
      ]
    },
    {
      "cell_type": "code",
      "execution_count": null,
      "id": "791c3afe-8603-42af-ab8a-6282d96f92c2",
      "metadata": {
        "id": "791c3afe-8603-42af-ab8a-6282d96f92c2"
      },
      "outputs": [],
      "source": [
        "# получаем индексы объектов, не попавших в valid выборку\n",
        "all_indices = set(range(exp_df.shape[0]))\n",
        "free_indices = all_indices.difference(set(valid_df.index.tolist()))"
      ]
    },
    {
      "cell_type": "code",
      "execution_count": null,
      "id": "a8ef3ffa-ff9f-42ec-b0da-45a6666ecef2",
      "metadata": {
        "id": "a8ef3ffa-ff9f-42ec-b0da-45a6666ecef2"
      },
      "outputs": [],
      "source": [
        "# 20% из оставшихся значений выделяем под test\n",
        "test_df = exp_df.loc[free_indices].sample(frac=0.2, random_state=RANDOM_STATE)"
      ]
    },
    {
      "cell_type": "code",
      "execution_count": null,
      "id": "10801b9c-2d0a-4629-ae43-4214f5be5941",
      "metadata": {
        "id": "10801b9c-2d0a-4629-ae43-4214f5be5941"
      },
      "outputs": [],
      "source": [
        "# оставшееся, не попавшее в valid и test уходит под train\n",
        "for_train_indices = free_indices.difference(set(test_df.index.tolist()))\n",
        "train_df = exp_df.loc[for_train_indices]"
      ]
    },
    {
      "cell_type": "code",
      "execution_count": null,
      "id": "00e7d7d6-9837-40b3-b2a0-a59863c9ee84",
      "metadata": {
        "id": "00e7d7d6-9837-40b3-b2a0-a59863c9ee84",
        "outputId": "66172bda-37c8-4fce-e50f-8e5670f7a480"
      },
      "outputs": [
        {
          "data": {
            "text/plain": [
              "(2544, 498)"
            ]
          },
          "execution_count": 102,
          "metadata": {},
          "output_type": "execute_result"
        }
      ],
      "source": [
        "exp_df.shape"
      ]
    },
    {
      "cell_type": "code",
      "execution_count": null,
      "id": "8ab4fee6-8eaf-467c-8879-81e8d7a6a9ad",
      "metadata": {
        "id": "8ab4fee6-8eaf-467c-8879-81e8d7a6a9ad",
        "outputId": "3956b9f3-fca1-45eb-bb2c-ce423f319dbe"
      },
      "outputs": [
        {
          "data": {
            "text/plain": [
              "2544"
            ]
          },
          "execution_count": 103,
          "metadata": {},
          "output_type": "execute_result"
        }
      ],
      "source": [
        "valid_df.shape[0] + test_df.shape[0] + train_df.shape[0]"
      ]
    },
    {
      "cell_type": "markdown",
      "id": "1a5ffcc8-c773-49fc-bb13-5fb733216452",
      "metadata": {
        "id": "1a5ffcc8-c773-49fc-bb13-5fb733216452"
      },
      "source": [
        "Так сделано, чтобы каждый раз не вызывать train_test_split, выделяя target."
      ]
    },
    {
      "cell_type": "markdown",
      "id": "d7083cba-01eb-462a-80e2-cbaffe65efc2",
      "metadata": {
        "id": "d7083cba-01eb-462a-80e2-cbaffe65efc2"
      },
      "source": [
        "Для предсказания момента отключения (под задачу п.3) возьмём полностью один эксперимент, как valid, два эксперимента под test и 6 экспериментов, как train. Это будет сделано для того, чтобы в выборках гарантированно присутствовал момент отключения.\n",
        "\n",
        "Временно вернём номера экспериментов"
      ]
    },
    {
      "cell_type": "code",
      "execution_count": null,
      "id": "fbcb2519-11bc-4e59-92a0-d9550f15ebeb",
      "metadata": {
        "id": "fbcb2519-11bc-4e59-92a0-d9550f15ebeb"
      },
      "outputs": [],
      "source": [
        "exp_df['num_experiment'] = exp_df_mod2['num_experiment']"
      ]
    },
    {
      "cell_type": "code",
      "execution_count": null,
      "id": "a8d19261-2735-4b2c-9646-75d406f1a421",
      "metadata": {
        "id": "a8d19261-2735-4b2c-9646-75d406f1a421"
      },
      "outputs": [],
      "source": [
        "valid_df_for3 = exp_df.query('num_experiment == 9')"
      ]
    },
    {
      "cell_type": "code",
      "execution_count": null,
      "id": "e63b2058-034e-4708-b2a6-a86e52ccba14",
      "metadata": {
        "id": "e63b2058-034e-4708-b2a6-a86e52ccba14"
      },
      "outputs": [],
      "source": [
        "test_df_for3 = exp_df.query('num_experiment in [7, 8]')"
      ]
    },
    {
      "cell_type": "code",
      "execution_count": null,
      "id": "1b1d1e0c-2cef-4770-b31e-8ff1f851360b",
      "metadata": {
        "id": "1b1d1e0c-2cef-4770-b31e-8ff1f851360b"
      },
      "outputs": [],
      "source": [
        "train_df_for3 = exp_df.query('num_experiment < 7')"
      ]
    },
    {
      "cell_type": "code",
      "execution_count": null,
      "id": "0d178a93-bae3-448f-921b-2a6abbd40dee",
      "metadata": {
        "id": "0d178a93-bae3-448f-921b-2a6abbd40dee"
      },
      "outputs": [],
      "source": [
        "exp_df.drop('num_experiment', axis=1, inplace=True)"
      ]
    },
    {
      "cell_type": "markdown",
      "id": "8eb3897a-9624-4f96-a7f4-942972be93d6",
      "metadata": {
        "id": "8eb3897a-9624-4f96-a7f4-942972be93d6"
      },
      "source": [
        "## 2 Выбор и настройка параметров модели регрессии для прогнозирования температуры"
      ]
    },
    {
      "cell_type": "markdown",
      "id": "264538a3-e956-4a8c-bee0-4a1b2b9f355b",
      "metadata": {
        "id": "264538a3-e956-4a8c-bee0-4a1b2b9f355b"
      },
      "source": [
        "Отделяем объекты-цель"
      ]
    },
    {
      "cell_type": "code",
      "execution_count": null,
      "id": "777a9162-3d9d-4839-b710-51b627c23351",
      "metadata": {
        "id": "777a9162-3d9d-4839-b710-51b627c23351"
      },
      "outputs": [],
      "source": [
        "y_train = train_df['temp']\n",
        "y_test = test_df['temp']\n",
        "y_valid = valid_df['temp']"
      ]
    },
    {
      "cell_type": "code",
      "execution_count": null,
      "id": "de8cf360-ef6f-4115-8a26-a627237939cf",
      "metadata": {
        "id": "de8cf360-ef6f-4115-8a26-a627237939cf"
      },
      "outputs": [],
      "source": [
        "# для модели по акустическим данным\n",
        "X_train_acoustic = pd.DataFrame(train_df['w'])\n",
        "X_test_acoustic = pd.DataFrame(test_df['w'])\n",
        "X_valid_acoustic = pd.DataFrame(valid_df['w'])\n",
        "\n",
        "# для модели по данным тока и напряжения\n",
        "X_train_a_volt = train_df[['a', 'volt']]\n",
        "X_test_a_volt = test_df[['a', 'volt']]\n",
        "X_valid_a_volt = valid_df[['a', 'volt']]\n",
        "\n",
        "# для модели по акустическим данным, данным тока и напряжения\n",
        "X_train_a_volt_acoustic = train_df[['w', 'a', 'volt']]\n",
        "X_test_a_volt_acoustic = test_df[['w', 'a', 'volt']]\n",
        "X_valid_a_volt_acoustic = valid_df[['w', 'a', 'volt']]"
      ]
    },
    {
      "cell_type": "markdown",
      "id": "4d714ef5-e3b1-46db-a5a8-50f40e1d5aa7",
      "metadata": {
        "id": "4d714ef5-e3b1-46db-a5a8-50f40e1d5aa7"
      },
      "source": [
        "Обучать будем 3 модели градиентного бустинга"
      ]
    },
    {
      "cell_type": "code",
      "execution_count": null,
      "id": "7b950e77-f610-46f4-a32e-a4f3b551ee4d",
      "metadata": {
        "id": "7b950e77-f610-46f4-a32e-a4f3b551ee4d"
      },
      "outputs": [],
      "source": [
        "from sklearn.ensemble import GradientBoostingRegressor"
      ]
    },
    {
      "cell_type": "markdown",
      "id": "2e40510f-3e9b-4cfd-b9b1-307d79f2c2ca",
      "metadata": {
        "id": "2e40510f-3e9b-4cfd-b9b1-307d79f2c2ca"
      },
      "source": [
        "### 2.1 Модель по акустическим данным"
      ]
    },
    {
      "cell_type": "code",
      "execution_count": null,
      "id": "29579546-7aee-4634-b6f2-b8f159a3fde0",
      "metadata": {
        "id": "29579546-7aee-4634-b6f2-b8f159a3fde0"
      },
      "outputs": [],
      "source": [
        "gbc_acoustic = GradientBoostingRegressor(random_state=RANDOM_STATE)"
      ]
    },
    {
      "cell_type": "code",
      "execution_count": null,
      "id": "e6ffd7fc-adfa-4184-98ad-fb68274051c9",
      "metadata": {
        "id": "e6ffd7fc-adfa-4184-98ad-fb68274051c9"
      },
      "outputs": [],
      "source": [
        "gbc_acoustic.fit(X_train_acoustic, y_train);"
      ]
    },
    {
      "cell_type": "markdown",
      "id": "61486019-afc0-432a-8429-6d7332681c9c",
      "metadata": {
        "id": "61486019-afc0-432a-8429-6d7332681c9c"
      },
      "source": [
        "### 2.2 Модель по данным тока и напряжения"
      ]
    },
    {
      "cell_type": "code",
      "execution_count": null,
      "id": "0abe1e91-2a86-4c62-9ec9-c0266236b252",
      "metadata": {
        "id": "0abe1e91-2a86-4c62-9ec9-c0266236b252"
      },
      "outputs": [],
      "source": [
        "gbc_a_volt = GradientBoostingRegressor(random_state=RANDOM_STATE)"
      ]
    },
    {
      "cell_type": "code",
      "execution_count": null,
      "id": "d8bcdb9d-ea01-4d11-842b-d89724c02ed5",
      "metadata": {
        "id": "d8bcdb9d-ea01-4d11-842b-d89724c02ed5"
      },
      "outputs": [],
      "source": [
        "gbc_a_volt.fit(X_train_a_volt, y_train);"
      ]
    },
    {
      "cell_type": "markdown",
      "id": "77e00f68-6db7-46fd-a51a-b2136f57beda",
      "metadata": {
        "id": "77e00f68-6db7-46fd-a51a-b2136f57beda"
      },
      "source": [
        "### 2.3 Модель по данным тока, напряжения и акустике"
      ]
    },
    {
      "cell_type": "code",
      "execution_count": null,
      "id": "c8da34f6-5859-425d-90ec-233a4daac147",
      "metadata": {
        "id": "c8da34f6-5859-425d-90ec-233a4daac147"
      },
      "outputs": [],
      "source": [
        "gbc_a_volt_acoustic = GradientBoostingRegressor(random_state=RANDOM_STATE)"
      ]
    },
    {
      "cell_type": "code",
      "execution_count": null,
      "id": "46dee24b-be3d-4b1f-8a34-aed17432799b",
      "metadata": {
        "id": "46dee24b-be3d-4b1f-8a34-aed17432799b"
      },
      "outputs": [],
      "source": [
        "gbc_a_volt_acoustic.fit(X_train_a_volt_acoustic, y_train);"
      ]
    },
    {
      "cell_type": "markdown",
      "id": "e62cc578-6499-430f-9709-9709d35f6f52",
      "metadata": {
        "id": "e62cc578-6499-430f-9709-9709d35f6f52"
      },
      "source": [
        "### 2.4 Cравнение моделей и оценка точности"
      ]
    },
    {
      "cell_type": "markdown",
      "id": "8da1dc67-fc0f-4afb-a572-7a021f601b80",
      "metadata": {
        "id": "8da1dc67-fc0f-4afb-a572-7a021f601b80"
      },
      "source": [
        "Сравнение будем осуществлять с помощью метрик $R^2$ и MAPE"
      ]
    },
    {
      "cell_type": "code",
      "execution_count": null,
      "id": "f2b7c4d5-9da1-4ba2-bf69-5e97cf51be46",
      "metadata": {
        "id": "f2b7c4d5-9da1-4ba2-bf69-5e97cf51be46"
      },
      "outputs": [],
      "source": [
        "from sklearn.metrics import r2_score, mean_absolute_percentage_error"
      ]
    },
    {
      "cell_type": "markdown",
      "id": "705082c1-7566-447e-a1b9-de7a05781d8c",
      "metadata": {
        "id": "705082c1-7566-447e-a1b9-de7a05781d8c"
      },
      "source": [
        "Модель по акустическим данным"
      ]
    },
    {
      "cell_type": "code",
      "execution_count": null,
      "id": "7bcae80d-0907-4e48-9861-b67ea225e85c",
      "metadata": {
        "id": "7bcae80d-0907-4e48-9861-b67ea225e85c",
        "outputId": "9290f2da-fcfc-4d42-8b70-667c50dbd98f"
      },
      "outputs": [
        {
          "data": {
            "text/plain": [
              "0.20930415669271585"
            ]
          },
          "execution_count": 334,
          "metadata": {},
          "output_type": "execute_result"
        }
      ],
      "source": [
        "r2_score(y_test, gbc_acoustic.predict(X_test_acoustic))"
      ]
    },
    {
      "cell_type": "code",
      "execution_count": null,
      "id": "726d071b-da01-4ad3-b0f7-333996cda38e",
      "metadata": {
        "id": "726d071b-da01-4ad3-b0f7-333996cda38e",
        "outputId": "2e50f852-deae-4b1f-ff7b-bace66b6030d"
      },
      "outputs": [
        {
          "data": {
            "text/plain": [
              "0.28556935124583815"
            ]
          },
          "execution_count": 335,
          "metadata": {},
          "output_type": "execute_result"
        }
      ],
      "source": [
        "mean_absolute_percentage_error(y_test, gbc_acoustic.predict(X_test_acoustic))"
      ]
    },
    {
      "cell_type": "markdown",
      "id": "464a0070-0574-4acc-a28e-93e60e97ff14",
      "metadata": {
        "id": "464a0070-0574-4acc-a28e-93e60e97ff14"
      },
      "source": [
        "Модель по данным тока и напряжения"
      ]
    },
    {
      "cell_type": "code",
      "execution_count": null,
      "id": "92b366ad-4478-423d-9681-77912ce836b1",
      "metadata": {
        "tags": [],
        "id": "92b366ad-4478-423d-9681-77912ce836b1",
        "outputId": "545398fa-4e3b-431c-c4dd-d38d671cc90e"
      },
      "outputs": [
        {
          "data": {
            "text/plain": [
              "0.2091865130592031"
            ]
          },
          "execution_count": 336,
          "metadata": {},
          "output_type": "execute_result"
        }
      ],
      "source": [
        "r2_score(y_test, gbc_a_volt.predict(X_test_a_volt))"
      ]
    },
    {
      "cell_type": "code",
      "execution_count": null,
      "id": "87211a33-c0cd-488a-8bae-332c8b223564",
      "metadata": {
        "id": "87211a33-c0cd-488a-8bae-332c8b223564",
        "outputId": "7b2019c1-2f38-4b21-a76d-d8615e344125"
      },
      "outputs": [
        {
          "data": {
            "text/plain": [
              "0.2983153211647596"
            ]
          },
          "execution_count": 337,
          "metadata": {},
          "output_type": "execute_result"
        }
      ],
      "source": [
        "mean_absolute_percentage_error(y_test, gbc_a_volt.predict(X_test_a_volt))"
      ]
    },
    {
      "cell_type": "markdown",
      "id": "ee947488-cbc3-4c9e-b10d-45bf7fb2faa8",
      "metadata": {
        "id": "ee947488-cbc3-4c9e-b10d-45bf7fb2faa8"
      },
      "source": [
        "Модель по данным тока, напряжения и акустике"
      ]
    },
    {
      "cell_type": "code",
      "execution_count": null,
      "id": "90e1b2d5-048d-45cf-adcc-c6abb4e9c076",
      "metadata": {
        "tags": [],
        "id": "90e1b2d5-048d-45cf-adcc-c6abb4e9c076",
        "outputId": "a34c71d6-465a-46c5-83a8-53cb278d9448"
      },
      "outputs": [
        {
          "data": {
            "text/plain": [
              "0.4123160465879261"
            ]
          },
          "execution_count": 338,
          "metadata": {},
          "output_type": "execute_result"
        }
      ],
      "source": [
        "r2_score(y_test, gbc_a_volt_acoustic.predict(X_test_a_volt_acoustic))"
      ]
    },
    {
      "cell_type": "code",
      "execution_count": null,
      "id": "175f579e-037e-46dd-b2d3-820133613ab0",
      "metadata": {
        "id": "175f579e-037e-46dd-b2d3-820133613ab0",
        "outputId": "04fdff61-b08b-4548-c173-f0aa6f3cf7a8"
      },
      "outputs": [
        {
          "data": {
            "text/plain": [
              "0.2290639304165503"
            ]
          },
          "execution_count": 339,
          "metadata": {},
          "output_type": "execute_result"
        }
      ],
      "source": [
        "mean_absolute_percentage_error(y_test, gbc_a_volt_acoustic.predict(X_test_a_volt_acoustic))"
      ]
    },
    {
      "cell_type": "markdown",
      "id": "d086170f-409b-4c95-81c0-c4b930e8fae6",
      "metadata": {
        "id": "d086170f-409b-4c95-81c0-c4b930e8fae6"
      },
      "source": [
        "Наилучшие результаты показала **модель, построенная на данных по току, напряжению и акустике**, т.к. коэффициент детерминации ($R^2$) (оценка точности для задач регрессии) выше, а абсолютная процентная ошибка (MAPE) ниже - ~23% ошибок"
      ]
    },
    {
      "cell_type": "markdown",
      "id": "d5d7880d-fe7f-4c02-bb9e-d373607e071a",
      "metadata": {
        "id": "d5d7880d-fe7f-4c02-bb9e-d373607e071a"
      },
      "source": [
        "### 2.5 Анализ параметров модели"
      ]
    },
    {
      "cell_type": "markdown",
      "id": "82bc18d4-de59-487c-bd65-9edbe85394b6",
      "metadata": {
        "id": "82bc18d4-de59-487c-bd65-9edbe85394b6"
      },
      "source": [
        "С помощью подбора гиперпараметров и кросс-валидации найдём лучшие параметры для модели"
      ]
    },
    {
      "cell_type": "code",
      "execution_count": null,
      "id": "f60473c7-50af-4571-8b02-c67ae3fd538f",
      "metadata": {
        "id": "f60473c7-50af-4571-8b02-c67ae3fd538f"
      },
      "outputs": [],
      "source": [
        "from sklearn.model_selection import GridSearchCV"
      ]
    },
    {
      "cell_type": "code",
      "execution_count": null,
      "id": "e2738f3b-be78-408a-9035-d08df7a53864",
      "metadata": {
        "id": "e2738f3b-be78-408a-9035-d08df7a53864"
      },
      "outputs": [],
      "source": [
        "params = {\n",
        "    'learning_rate': np.linspace(0.1, 1, 5),\n",
        "    'n_estimators': [50, 100, 150, 200],\n",
        "    'subsample': np.linspace(0.1, 1, 5),\n",
        "    'min_samples_split': range(2, 5),\n",
        "    'min_samples_leaf': range(1, 4),\n",
        "    'max_depth': range(2, 6),\n",
        "    'random_state': [RANDOM_STATE]\n",
        "}"
      ]
    },
    {
      "cell_type": "code",
      "execution_count": null,
      "id": "bf8e9d41-19d2-42fe-94a7-3b371082afdc",
      "metadata": {
        "id": "bf8e9d41-19d2-42fe-94a7-3b371082afdc"
      },
      "outputs": [],
      "source": [
        "gscv = GridSearchCV(GradientBoostingRegressor(), param_grid=params, cv=5, n_jobs=-1, scoring='r2', verbose=1)"
      ]
    },
    {
      "cell_type": "code",
      "execution_count": null,
      "id": "d14ced20-0fe1-4c12-b4bc-4790841c2be5",
      "metadata": {
        "id": "d14ced20-0fe1-4c12-b4bc-4790841c2be5",
        "outputId": "3a880ded-ad72-405b-eece-286d5e57836f"
      },
      "outputs": [
        {
          "name": "stdout",
          "output_type": "stream",
          "text": [
            "Fitting 5 folds for each of 3600 candidates, totalling 18000 fits\n",
            "CPU times: total: 23.6 s\n",
            "Wall time: 3min 22s\n"
          ]
        },
        {
          "data": {
            "text/html": [
              "<style>#sk-container-id-13 {color: black;background-color: white;}#sk-container-id-13 pre{padding: 0;}#sk-container-id-13 div.sk-toggleable {background-color: white;}#sk-container-id-13 label.sk-toggleable__label {cursor: pointer;display: block;width: 100%;margin-bottom: 0;padding: 0.3em;box-sizing: border-box;text-align: center;}#sk-container-id-13 label.sk-toggleable__label-arrow:before {content: \"▸\";float: left;margin-right: 0.25em;color: #696969;}#sk-container-id-13 label.sk-toggleable__label-arrow:hover:before {color: black;}#sk-container-id-13 div.sk-estimator:hover label.sk-toggleable__label-arrow:before {color: black;}#sk-container-id-13 div.sk-toggleable__content {max-height: 0;max-width: 0;overflow: hidden;text-align: left;background-color: #f0f8ff;}#sk-container-id-13 div.sk-toggleable__content pre {margin: 0.2em;color: black;border-radius: 0.25em;background-color: #f0f8ff;}#sk-container-id-13 input.sk-toggleable__control:checked~div.sk-toggleable__content {max-height: 200px;max-width: 100%;overflow: auto;}#sk-container-id-13 input.sk-toggleable__control:checked~label.sk-toggleable__label-arrow:before {content: \"▾\";}#sk-container-id-13 div.sk-estimator input.sk-toggleable__control:checked~label.sk-toggleable__label {background-color: #d4ebff;}#sk-container-id-13 div.sk-label input.sk-toggleable__control:checked~label.sk-toggleable__label {background-color: #d4ebff;}#sk-container-id-13 input.sk-hidden--visually {border: 0;clip: rect(1px 1px 1px 1px);clip: rect(1px, 1px, 1px, 1px);height: 1px;margin: -1px;overflow: hidden;padding: 0;position: absolute;width: 1px;}#sk-container-id-13 div.sk-estimator {font-family: monospace;background-color: #f0f8ff;border: 1px dotted black;border-radius: 0.25em;box-sizing: border-box;margin-bottom: 0.5em;}#sk-container-id-13 div.sk-estimator:hover {background-color: #d4ebff;}#sk-container-id-13 div.sk-parallel-item::after {content: \"\";width: 100%;border-bottom: 1px solid gray;flex-grow: 1;}#sk-container-id-13 div.sk-label:hover label.sk-toggleable__label {background-color: #d4ebff;}#sk-container-id-13 div.sk-serial::before {content: \"\";position: absolute;border-left: 1px solid gray;box-sizing: border-box;top: 0;bottom: 0;left: 50%;z-index: 0;}#sk-container-id-13 div.sk-serial {display: flex;flex-direction: column;align-items: center;background-color: white;padding-right: 0.2em;padding-left: 0.2em;position: relative;}#sk-container-id-13 div.sk-item {position: relative;z-index: 1;}#sk-container-id-13 div.sk-parallel {display: flex;align-items: stretch;justify-content: center;background-color: white;position: relative;}#sk-container-id-13 div.sk-item::before, #sk-container-id-13 div.sk-parallel-item::before {content: \"\";position: absolute;border-left: 1px solid gray;box-sizing: border-box;top: 0;bottom: 0;left: 50%;z-index: -1;}#sk-container-id-13 div.sk-parallel-item {display: flex;flex-direction: column;z-index: 1;position: relative;background-color: white;}#sk-container-id-13 div.sk-parallel-item:first-child::after {align-self: flex-end;width: 50%;}#sk-container-id-13 div.sk-parallel-item:last-child::after {align-self: flex-start;width: 50%;}#sk-container-id-13 div.sk-parallel-item:only-child::after {width: 0;}#sk-container-id-13 div.sk-dashed-wrapped {border: 1px dashed gray;margin: 0 0.4em 0.5em 0.4em;box-sizing: border-box;padding-bottom: 0.4em;background-color: white;}#sk-container-id-13 div.sk-label label {font-family: monospace;font-weight: bold;display: inline-block;line-height: 1.2em;}#sk-container-id-13 div.sk-label-container {text-align: center;}#sk-container-id-13 div.sk-container {/* jupyter's `normalize.less` sets `[hidden] { display: none; }` but bootstrap.min.css set `[hidden] { display: none !important; }` so we also need the `!important` here to be able to override the default hidden behavior on the sphinx rendered scikit-learn.org. See: https://github.com/scikit-learn/scikit-learn/issues/21755 */display: inline-block !important;position: relative;}#sk-container-id-13 div.sk-text-repr-fallback {display: none;}</style><div id=\"sk-container-id-13\" class=\"sk-top-container\"><div class=\"sk-text-repr-fallback\"><pre>GridSearchCV(cv=5, estimator=GradientBoostingRegressor(), n_jobs=-1,\n",
              "             param_grid={&#x27;learning_rate&#x27;: array([0.1  , 0.325, 0.55 , 0.775, 1.   ]),\n",
              "                         &#x27;max_depth&#x27;: range(2, 6),\n",
              "                         &#x27;min_samples_leaf&#x27;: range(1, 4),\n",
              "                         &#x27;min_samples_split&#x27;: range(2, 5),\n",
              "                         &#x27;n_estimators&#x27;: [50, 100, 150, 200],\n",
              "                         &#x27;random_state&#x27;: [666],\n",
              "                         &#x27;subsample&#x27;: array([0.1  , 0.325, 0.55 , 0.775, 1.   ])},\n",
              "             scoring=&#x27;r2&#x27;, verbose=1)</pre><b>In a Jupyter environment, please rerun this cell to show the HTML representation or trust the notebook. <br />On GitHub, the HTML representation is unable to render, please try loading this page with nbviewer.org.</b></div><div class=\"sk-container\" hidden><div class=\"sk-item sk-dashed-wrapped\"><div class=\"sk-label-container\"><div class=\"sk-label sk-toggleable\"><input class=\"sk-toggleable__control sk-hidden--visually\" id=\"sk-estimator-id-23\" type=\"checkbox\" ><label for=\"sk-estimator-id-23\" class=\"sk-toggleable__label sk-toggleable__label-arrow\">GridSearchCV</label><div class=\"sk-toggleable__content\"><pre>GridSearchCV(cv=5, estimator=GradientBoostingRegressor(), n_jobs=-1,\n",
              "             param_grid={&#x27;learning_rate&#x27;: array([0.1  , 0.325, 0.55 , 0.775, 1.   ]),\n",
              "                         &#x27;max_depth&#x27;: range(2, 6),\n",
              "                         &#x27;min_samples_leaf&#x27;: range(1, 4),\n",
              "                         &#x27;min_samples_split&#x27;: range(2, 5),\n",
              "                         &#x27;n_estimators&#x27;: [50, 100, 150, 200],\n",
              "                         &#x27;random_state&#x27;: [666],\n",
              "                         &#x27;subsample&#x27;: array([0.1  , 0.325, 0.55 , 0.775, 1.   ])},\n",
              "             scoring=&#x27;r2&#x27;, verbose=1)</pre></div></div></div><div class=\"sk-parallel\"><div class=\"sk-parallel-item\"><div class=\"sk-item\"><div class=\"sk-label-container\"><div class=\"sk-label sk-toggleable\"><input class=\"sk-toggleable__control sk-hidden--visually\" id=\"sk-estimator-id-24\" type=\"checkbox\" ><label for=\"sk-estimator-id-24\" class=\"sk-toggleable__label sk-toggleable__label-arrow\">estimator: GradientBoostingRegressor</label><div class=\"sk-toggleable__content\"><pre>GradientBoostingRegressor()</pre></div></div></div><div class=\"sk-serial\"><div class=\"sk-item\"><div class=\"sk-estimator sk-toggleable\"><input class=\"sk-toggleable__control sk-hidden--visually\" id=\"sk-estimator-id-25\" type=\"checkbox\" ><label for=\"sk-estimator-id-25\" class=\"sk-toggleable__label sk-toggleable__label-arrow\">GradientBoostingRegressor</label><div class=\"sk-toggleable__content\"><pre>GradientBoostingRegressor()</pre></div></div></div></div></div></div></div></div></div></div>"
            ],
            "text/plain": [
              "GridSearchCV(cv=5, estimator=GradientBoostingRegressor(), n_jobs=-1,\n",
              "             param_grid={'learning_rate': array([0.1  , 0.325, 0.55 , 0.775, 1.   ]),\n",
              "                         'max_depth': range(2, 6),\n",
              "                         'min_samples_leaf': range(1, 4),\n",
              "                         'min_samples_split': range(2, 5),\n",
              "                         'n_estimators': [50, 100, 150, 200],\n",
              "                         'random_state': [666],\n",
              "                         'subsample': array([0.1  , 0.325, 0.55 , 0.775, 1.   ])},\n",
              "             scoring='r2', verbose=1)"
            ]
          },
          "execution_count": 343,
          "metadata": {},
          "output_type": "execute_result"
        }
      ],
      "source": [
        "%%time\n",
        "gscv.fit(X_train_a_volt_acoustic, y_train)"
      ]
    },
    {
      "cell_type": "markdown",
      "id": "30124f29-aca0-4504-a24a-1be640fd1a04",
      "metadata": {
        "id": "30124f29-aca0-4504-a24a-1be640fd1a04"
      },
      "source": [
        "Наилучшие параметры для модели:"
      ]
    },
    {
      "cell_type": "code",
      "execution_count": null,
      "id": "ba5713dd-2031-4b3e-b49d-4c76c721295f",
      "metadata": {
        "id": "ba5713dd-2031-4b3e-b49d-4c76c721295f",
        "outputId": "a7711991-5164-49cc-e031-7dd25e4c1e24"
      },
      "outputs": [
        {
          "data": {
            "text/plain": [
              "{'learning_rate': 0.1,\n",
              " 'max_depth': 2,\n",
              " 'min_samples_leaf': 2,\n",
              " 'min_samples_split': 2,\n",
              " 'n_estimators': 50,\n",
              " 'random_state': 666,\n",
              " 'subsample': 1.0}"
            ]
          },
          "execution_count": 344,
          "metadata": {},
          "output_type": "execute_result"
        }
      ],
      "source": [
        "best_params = gscv.best_params_\n",
        "best_params"
      ]
    },
    {
      "cell_type": "markdown",
      "id": "8ceed610-1e46-4adc-893f-e070aa0c0f2e",
      "metadata": {
        "id": "8ceed610-1e46-4adc-893f-e070aa0c0f2e"
      },
      "source": [
        "### 2.6 Обучение и тестирование выбранной модели"
      ]
    },
    {
      "cell_type": "code",
      "execution_count": null,
      "id": "073c2a08-3aaf-407d-84f4-7b58ae1100c1",
      "metadata": {
        "id": "073c2a08-3aaf-407d-84f4-7b58ae1100c1"
      },
      "outputs": [],
      "source": [
        "best_model = GradientBoostingRegressor(**best_params)"
      ]
    },
    {
      "cell_type": "markdown",
      "id": "e400af42-9745-4e33-9d8c-3f30865c7cdb",
      "metadata": {
        "id": "e400af42-9745-4e33-9d8c-3f30865c7cdb"
      },
      "source": [
        "Обучаем на выборке train + test"
      ]
    },
    {
      "cell_type": "code",
      "execution_count": null,
      "id": "7a88a4ed-cdd6-49b1-bc77-aa52730c39be",
      "metadata": {
        "id": "7a88a4ed-cdd6-49b1-bc77-aa52730c39be"
      },
      "outputs": [],
      "source": [
        "X_train_test = exp_df[['w', 'a', 'volt']].loc[free_indices]\n",
        "y_train_test = exp_df.loc[free_indices]['temp']"
      ]
    },
    {
      "cell_type": "code",
      "execution_count": null,
      "id": "ad95c9c5-4b2b-4827-98de-d9a24bb3b5db",
      "metadata": {
        "id": "ad95c9c5-4b2b-4827-98de-d9a24bb3b5db",
        "outputId": "b9c72148-6218-44ed-8a18-84b39f3a899f"
      },
      "outputs": [
        {
          "name": "stdout",
          "output_type": "stream",
          "text": [
            "CPU times: total: 46.9 ms\n",
            "Wall time: 48.9 ms\n"
          ]
        },
        {
          "data": {
            "text/html": [
              "<style>#sk-container-id-14 {color: black;background-color: white;}#sk-container-id-14 pre{padding: 0;}#sk-container-id-14 div.sk-toggleable {background-color: white;}#sk-container-id-14 label.sk-toggleable__label {cursor: pointer;display: block;width: 100%;margin-bottom: 0;padding: 0.3em;box-sizing: border-box;text-align: center;}#sk-container-id-14 label.sk-toggleable__label-arrow:before {content: \"▸\";float: left;margin-right: 0.25em;color: #696969;}#sk-container-id-14 label.sk-toggleable__label-arrow:hover:before {color: black;}#sk-container-id-14 div.sk-estimator:hover label.sk-toggleable__label-arrow:before {color: black;}#sk-container-id-14 div.sk-toggleable__content {max-height: 0;max-width: 0;overflow: hidden;text-align: left;background-color: #f0f8ff;}#sk-container-id-14 div.sk-toggleable__content pre {margin: 0.2em;color: black;border-radius: 0.25em;background-color: #f0f8ff;}#sk-container-id-14 input.sk-toggleable__control:checked~div.sk-toggleable__content {max-height: 200px;max-width: 100%;overflow: auto;}#sk-container-id-14 input.sk-toggleable__control:checked~label.sk-toggleable__label-arrow:before {content: \"▾\";}#sk-container-id-14 div.sk-estimator input.sk-toggleable__control:checked~label.sk-toggleable__label {background-color: #d4ebff;}#sk-container-id-14 div.sk-label input.sk-toggleable__control:checked~label.sk-toggleable__label {background-color: #d4ebff;}#sk-container-id-14 input.sk-hidden--visually {border: 0;clip: rect(1px 1px 1px 1px);clip: rect(1px, 1px, 1px, 1px);height: 1px;margin: -1px;overflow: hidden;padding: 0;position: absolute;width: 1px;}#sk-container-id-14 div.sk-estimator {font-family: monospace;background-color: #f0f8ff;border: 1px dotted black;border-radius: 0.25em;box-sizing: border-box;margin-bottom: 0.5em;}#sk-container-id-14 div.sk-estimator:hover {background-color: #d4ebff;}#sk-container-id-14 div.sk-parallel-item::after {content: \"\";width: 100%;border-bottom: 1px solid gray;flex-grow: 1;}#sk-container-id-14 div.sk-label:hover label.sk-toggleable__label {background-color: #d4ebff;}#sk-container-id-14 div.sk-serial::before {content: \"\";position: absolute;border-left: 1px solid gray;box-sizing: border-box;top: 0;bottom: 0;left: 50%;z-index: 0;}#sk-container-id-14 div.sk-serial {display: flex;flex-direction: column;align-items: center;background-color: white;padding-right: 0.2em;padding-left: 0.2em;position: relative;}#sk-container-id-14 div.sk-item {position: relative;z-index: 1;}#sk-container-id-14 div.sk-parallel {display: flex;align-items: stretch;justify-content: center;background-color: white;position: relative;}#sk-container-id-14 div.sk-item::before, #sk-container-id-14 div.sk-parallel-item::before {content: \"\";position: absolute;border-left: 1px solid gray;box-sizing: border-box;top: 0;bottom: 0;left: 50%;z-index: -1;}#sk-container-id-14 div.sk-parallel-item {display: flex;flex-direction: column;z-index: 1;position: relative;background-color: white;}#sk-container-id-14 div.sk-parallel-item:first-child::after {align-self: flex-end;width: 50%;}#sk-container-id-14 div.sk-parallel-item:last-child::after {align-self: flex-start;width: 50%;}#sk-container-id-14 div.sk-parallel-item:only-child::after {width: 0;}#sk-container-id-14 div.sk-dashed-wrapped {border: 1px dashed gray;margin: 0 0.4em 0.5em 0.4em;box-sizing: border-box;padding-bottom: 0.4em;background-color: white;}#sk-container-id-14 div.sk-label label {font-family: monospace;font-weight: bold;display: inline-block;line-height: 1.2em;}#sk-container-id-14 div.sk-label-container {text-align: center;}#sk-container-id-14 div.sk-container {/* jupyter's `normalize.less` sets `[hidden] { display: none; }` but bootstrap.min.css set `[hidden] { display: none !important; }` so we also need the `!important` here to be able to override the default hidden behavior on the sphinx rendered scikit-learn.org. See: https://github.com/scikit-learn/scikit-learn/issues/21755 */display: inline-block !important;position: relative;}#sk-container-id-14 div.sk-text-repr-fallback {display: none;}</style><div id=\"sk-container-id-14\" class=\"sk-top-container\"><div class=\"sk-text-repr-fallback\"><pre>GradientBoostingRegressor(max_depth=2, min_samples_leaf=2, n_estimators=50,\n",
              "                          random_state=666)</pre><b>In a Jupyter environment, please rerun this cell to show the HTML representation or trust the notebook. <br />On GitHub, the HTML representation is unable to render, please try loading this page with nbviewer.org.</b></div><div class=\"sk-container\" hidden><div class=\"sk-item\"><div class=\"sk-estimator sk-toggleable\"><input class=\"sk-toggleable__control sk-hidden--visually\" id=\"sk-estimator-id-26\" type=\"checkbox\" checked><label for=\"sk-estimator-id-26\" class=\"sk-toggleable__label sk-toggleable__label-arrow\">GradientBoostingRegressor</label><div class=\"sk-toggleable__content\"><pre>GradientBoostingRegressor(max_depth=2, min_samples_leaf=2, n_estimators=50,\n",
              "                          random_state=666)</pre></div></div></div></div></div>"
            ],
            "text/plain": [
              "GradientBoostingRegressor(max_depth=2, min_samples_leaf=2, n_estimators=50,\n",
              "                          random_state=666)"
            ]
          },
          "execution_count": 347,
          "metadata": {},
          "output_type": "execute_result"
        }
      ],
      "source": [
        "%%time\n",
        "best_model.fit(X_train_test, y_train_test)"
      ]
    },
    {
      "cell_type": "markdown",
      "id": "6a7f7e05-6c5a-48fd-867a-274237a84f9b",
      "metadata": {
        "id": "6a7f7e05-6c5a-48fd-867a-274237a84f9b"
      },
      "source": [
        "Тестировать будем на валидационной выборке"
      ]
    },
    {
      "cell_type": "code",
      "execution_count": null,
      "id": "6b434ea9-b3c1-4dea-9f5f-c6ef56899fde",
      "metadata": {
        "tags": [],
        "id": "6b434ea9-b3c1-4dea-9f5f-c6ef56899fde",
        "outputId": "e938f6f0-ba28-4ea5-bd26-bab741e3e77e"
      },
      "outputs": [
        {
          "data": {
            "text/plain": [
              "0.34835306160312596"
            ]
          },
          "execution_count": 348,
          "metadata": {},
          "output_type": "execute_result"
        }
      ],
      "source": [
        "r2_score(y_valid, best_model.predict(X_valid_a_volt_acoustic))"
      ]
    },
    {
      "cell_type": "code",
      "execution_count": null,
      "id": "b4dcc9d0-b167-47ae-a68d-271576f38f2c",
      "metadata": {
        "id": "b4dcc9d0-b167-47ae-a68d-271576f38f2c",
        "outputId": "fcb876f3-dda6-40cf-c2a2-20fb94ee43b7"
      },
      "outputs": [
        {
          "data": {
            "text/plain": [
              "0.26409071483407626"
            ]
          },
          "execution_count": 349,
          "metadata": {},
          "output_type": "execute_result"
        }
      ],
      "source": [
        "mean_absolute_percentage_error(y_valid, best_model.predict(X_valid_a_volt_acoustic))"
      ]
    },
    {
      "cell_type": "markdown",
      "id": "27359f4b-6aad-4a60-bb16-2240a5374750",
      "metadata": {
        "id": "27359f4b-6aad-4a60-bb16-2240a5374750"
      },
      "source": [
        "Построим кривую обучения"
      ]
    },
    {
      "cell_type": "code",
      "execution_count": null,
      "id": "f48232cb-b458-4d27-af0d-d608d5f92ae8",
      "metadata": {
        "id": "f48232cb-b458-4d27-af0d-d608d5f92ae8"
      },
      "outputs": [],
      "source": [
        "from sklearn.model_selection import learning_curve"
      ]
    },
    {
      "cell_type": "code",
      "execution_count": null,
      "id": "c0dc3bdd-44a4-432e-8e9a-01c2a10282b9",
      "metadata": {
        "id": "c0dc3bdd-44a4-432e-8e9a-01c2a10282b9"
      },
      "outputs": [],
      "source": [
        "train_sizes_abs, train_scores, test_scores = learning_curve(\n",
        "    best_model,\n",
        "    exp_df[['w', 'a', 'volt']], \n",
        "    exp_df['temp'], \n",
        "    random_state=RANDOM_STATE, \n",
        "    n_jobs=-1, \n",
        "    cv=5, \n",
        "    scoring='r2'\n",
        ")"
      ]
    },
    {
      "cell_type": "code",
      "execution_count": null,
      "id": "2be3f600-4a76-4237-bb37-f305033c7048",
      "metadata": {
        "id": "2be3f600-4a76-4237-bb37-f305033c7048",
        "outputId": "a698e1fd-c6d0-4e4c-8fc6-7daded978889"
      },
      "outputs": [
        {
          "data": {
            "image/png": "[encoded data removed]",
            "text/plain": [
              "<Figure size 864x432 with 1 Axes>"
            ]
          },
          "metadata": {
            "needs_background": "light"
          },
          "output_type": "display_data"
        }
      ],
      "source": [
        "plt.figure(figsize=(12,6))\n",
        "plt.plot(np.mean(train_scores, axis=1))\n",
        "plt.plot(np.mean(test_scores, axis=1))\n",
        "plt.fill_between(np.linspace(0, 4, 5), np.min(train_scores, axis=1), np.max(train_scores, axis=1), alpha=0.2)\n",
        "plt.fill_between(np.linspace(0, 4, 5), np.min(test_scores, axis=1), np.max(test_scores, axis=1), alpha=0.2);"
      ]
    },
    {
      "cell_type": "markdown",
      "id": "4ca7a79f-139c-42d2-806c-410b53a657b1",
      "metadata": {
        "id": "4ca7a79f-139c-42d2-806c-410b53a657b1"
      },
      "source": [
        "На этом графике мы видим, что модель недообучена. Хорошей тактикой было бы добавление новых данных, но таковых не предоставлено."
      ]
    },
    {
      "cell_type": "markdown",
      "id": "e031cbec-1247-47d3-8d6e-c82cb07cff42",
      "metadata": {
        "id": "e031cbec-1247-47d3-8d6e-c82cb07cff42"
      },
      "source": [
        "### 2.7 Сохранение лучшей модели"
      ]
    },
    {
      "cell_type": "code",
      "execution_count": null,
      "id": "02ea969c-eeb6-49a4-8bec-ce34327f9667",
      "metadata": {
        "id": "02ea969c-eeb6-49a4-8bec-ce34327f9667",
        "outputId": "86d7bccc-ccf2-4aef-c9df-489da38e45c6"
      },
      "outputs": [
        {
          "name": "stdout",
          "output_type": "stream",
          "text": [
            "CPU times: total: 0 ns\n",
            "Wall time: 2 ms\n"
          ]
        }
      ],
      "source": [
        "%%time\n",
        "try:\n",
        "    with open('model_for_temp.data', 'wb') as f:\n",
        "        pkl.dump(best_model, f)\n",
        "except Exception as e:\n",
        "    print(e)"
      ]
    },
    {
      "cell_type": "markdown",
      "id": "8f239fc3-e99b-4035-bea0-b93ca498cfbb",
      "metadata": {
        "id": "8f239fc3-e99b-4035-bea0-b93ca498cfbb"
      },
      "source": [
        "## 3 Выбор и настройка параметров модели регрессии для прогнозирования момента времени отключения установки"
      ]
    },
    {
      "cell_type": "markdown",
      "id": "6ddea6ef-a3c4-4f07-8852-8f36871a337f",
      "metadata": {
        "id": "6ddea6ef-a3c4-4f07-8852-8f36871a337f"
      },
      "source": [
        "Отделяем объекты-цель"
      ]
    },
    {
      "cell_type": "code",
      "execution_count": null,
      "id": "4829a32f-a08d-4b13-804d-f50ca69867ff",
      "metadata": {
        "id": "4829a32f-a08d-4b13-804d-f50ca69867ff"
      },
      "outputs": [],
      "source": [
        "y_train = train_df_for3['time']\n",
        "y_test = test_df_for3['time']\n",
        "y_valid = valid_df_for3['time']"
      ]
    },
    {
      "cell_type": "code",
      "execution_count": null,
      "id": "7ccf88ac-219f-4e88-bde2-0c63ec83934d",
      "metadata": {
        "id": "7ccf88ac-219f-4e88-bde2-0c63ec83934d"
      },
      "outputs": [],
      "source": [
        "# для модели по акустическим данным\n",
        "X_train_acoustic = train_df_for3[['w', 'end']]\n",
        "X_test_acoustic = test_df_for3[['w', 'end']]\n",
        "X_valid_acoustic = valid_df_for3[['w', 'end']]\n",
        "\n",
        "# для модели по данным тока и напряжения\n",
        "X_train_a_volt = train_df_for3[['a', 'volt', 'end']]\n",
        "X_test_a_volt = test_df_for3[['a', 'volt', 'end']]\n",
        "X_valid_a_volt = valid_df_for3[['a', 'volt', 'end']]\n",
        "\n",
        "# для модели по акустическим данным, данным тока и напряжения\n",
        "X_train_a_volt_acoustic = train_df_for3[['w', 'a', 'volt', 'end']]\n",
        "X_test_a_volt_acoustic = test_df_for3[['w', 'a', 'volt', 'end']]\n",
        "X_valid_a_volt_acoustic = valid_df_for3[['w', 'a', 'volt', 'end']]"
      ]
    },
    {
      "cell_type": "markdown",
      "id": "a3239e51-bfa3-48bb-9575-f40691786096",
      "metadata": {
        "id": "a3239e51-bfa3-48bb-9575-f40691786096"
      },
      "source": [
        "Обучать будем 3 модели градиентного бустинга"
      ]
    },
    {
      "cell_type": "markdown",
      "id": "0ac68dbd-885c-437a-b2be-babbca8ac588",
      "metadata": {
        "id": "0ac68dbd-885c-437a-b2be-babbca8ac588"
      },
      "source": [
        "### 3.1 Модель по акустическим данным"
      ]
    },
    {
      "cell_type": "code",
      "execution_count": null,
      "id": "1c7c308f-e876-4a0d-a853-cc3c0f208a86",
      "metadata": {
        "id": "1c7c308f-e876-4a0d-a853-cc3c0f208a86"
      },
      "outputs": [],
      "source": [
        "gbc_acoustic = GradientBoostingRegressor(random_state=RANDOM_STATE)"
      ]
    },
    {
      "cell_type": "code",
      "execution_count": null,
      "id": "3b174089-be17-47c7-9aa4-dee252c937e7",
      "metadata": {
        "id": "3b174089-be17-47c7-9aa4-dee252c937e7"
      },
      "outputs": [],
      "source": [
        "gbc_acoustic.fit(X_train_acoustic, y_train);"
      ]
    },
    {
      "cell_type": "markdown",
      "id": "e0ab2418-166c-4025-bef5-2c8f41d01c82",
      "metadata": {
        "id": "e0ab2418-166c-4025-bef5-2c8f41d01c82"
      },
      "source": [
        "### 3.2 Модель по данным тока и напряжения"
      ]
    },
    {
      "cell_type": "code",
      "execution_count": null,
      "id": "9c41a875-b3c8-45d0-97f8-67e889c489f3",
      "metadata": {
        "id": "9c41a875-b3c8-45d0-97f8-67e889c489f3"
      },
      "outputs": [],
      "source": [
        "gbc_a_volt = GradientBoostingRegressor(random_state=RANDOM_STATE)"
      ]
    },
    {
      "cell_type": "code",
      "execution_count": null,
      "id": "856f4a37-b062-4751-9b24-d54328586f3a",
      "metadata": {
        "id": "856f4a37-b062-4751-9b24-d54328586f3a"
      },
      "outputs": [],
      "source": [
        "gbc_a_volt.fit(X_train_a_volt, y_train);"
      ]
    },
    {
      "cell_type": "markdown",
      "id": "a298d625-75e8-4fcc-85d7-e40471c56a95",
      "metadata": {
        "id": "a298d625-75e8-4fcc-85d7-e40471c56a95"
      },
      "source": [
        "### 3.3 Модель по данным тока, напряжения и акустике"
      ]
    },
    {
      "cell_type": "code",
      "execution_count": null,
      "id": "8662528a-112e-438b-9a98-e08f689a8a4d",
      "metadata": {
        "id": "8662528a-112e-438b-9a98-e08f689a8a4d"
      },
      "outputs": [],
      "source": [
        "gbc_a_volt_acoustic = GradientBoostingRegressor(random_state=RANDOM_STATE)"
      ]
    },
    {
      "cell_type": "code",
      "execution_count": null,
      "id": "f517ee25-9edd-4dc5-945d-167438c4fc0f",
      "metadata": {
        "id": "f517ee25-9edd-4dc5-945d-167438c4fc0f"
      },
      "outputs": [],
      "source": [
        "gbc_a_volt_acoustic.fit(X_train_a_volt_acoustic, y_train);"
      ]
    },
    {
      "cell_type": "markdown",
      "id": "4d251587-53ad-4d28-9377-386922ede627",
      "metadata": {
        "id": "4d251587-53ad-4d28-9377-386922ede627"
      },
      "source": [
        "### 3.4 Cравнение моделей и оценка точности"
      ]
    },
    {
      "cell_type": "markdown",
      "id": "fa045d99-962b-46e6-9774-c654ed7f5660",
      "metadata": {
        "id": "fa045d99-962b-46e6-9774-c654ed7f5660"
      },
      "source": [
        "Сравнение будем осуществлять с помощью метрик $R^2$ и MAPE"
      ]
    },
    {
      "cell_type": "markdown",
      "id": "ab1856cf-c57a-4cdf-a5a5-f277db3b72db",
      "metadata": {
        "id": "ab1856cf-c57a-4cdf-a5a5-f277db3b72db"
      },
      "source": [
        "Модель по акустическим данным"
      ]
    },
    {
      "cell_type": "code",
      "execution_count": null,
      "id": "d9bf4e0f-c986-4803-8138-ded1186ef4f5",
      "metadata": {
        "id": "d9bf4e0f-c986-4803-8138-ded1186ef4f5",
        "outputId": "227c8e48-504f-4bc0-bb70-b5b34d8bc2ef"
      },
      "outputs": [
        {
          "data": {
            "text/plain": [
              "0.11832212231351125"
            ]
          },
          "execution_count": 263,
          "metadata": {},
          "output_type": "execute_result"
        }
      ],
      "source": [
        "r2_score(y_test, gbc_acoustic.predict(X_test_acoustic))"
      ]
    },
    {
      "cell_type": "code",
      "execution_count": null,
      "id": "2b55c982-affa-4876-b24e-50b0ecfebb02",
      "metadata": {
        "id": "2b55c982-affa-4876-b24e-50b0ecfebb02",
        "outputId": "4aa4ac40-001b-42de-8bd2-f95ce0f83df7"
      },
      "outputs": [
        {
          "data": {
            "text/plain": [
              "2523023989975839.0"
            ]
          },
          "execution_count": 264,
          "metadata": {},
          "output_type": "execute_result"
        }
      ],
      "source": [
        "mean_absolute_percentage_error(y_test, gbc_acoustic.predict(X_test_acoustic))"
      ]
    },
    {
      "cell_type": "markdown",
      "id": "df8ce580-d8df-425c-821a-c0991311df57",
      "metadata": {
        "id": "df8ce580-d8df-425c-821a-c0991311df57"
      },
      "source": [
        "Модель по данным тока и напряжения"
      ]
    },
    {
      "cell_type": "code",
      "execution_count": null,
      "id": "74e743fb-0500-4cdc-8b96-27f301fc4953",
      "metadata": {
        "tags": [],
        "id": "74e743fb-0500-4cdc-8b96-27f301fc4953",
        "outputId": "e6e73122-0e82-4132-f3aa-b30378dd2782"
      },
      "outputs": [
        {
          "data": {
            "text/plain": [
              "-0.044326568696187785"
            ]
          },
          "execution_count": 265,
          "metadata": {},
          "output_type": "execute_result"
        }
      ],
      "source": [
        "r2_score(y_test, gbc_a_volt.predict(X_test_a_volt))"
      ]
    },
    {
      "cell_type": "code",
      "execution_count": null,
      "id": "f4b6c764-42bd-40bb-8bfa-9c862c006f5a",
      "metadata": {
        "id": "f4b6c764-42bd-40bb-8bfa-9c862c006f5a",
        "outputId": "ec4d3abb-ccf1-494e-adc9-ee05f386e59a"
      },
      "outputs": [
        {
          "data": {
            "text/plain": [
              "2297773935650128.0"
            ]
          },
          "execution_count": 266,
          "metadata": {},
          "output_type": "execute_result"
        }
      ],
      "source": [
        "mean_absolute_percentage_error(y_test, gbc_a_volt.predict(X_test_a_volt))"
      ]
    },
    {
      "cell_type": "markdown",
      "id": "fd58b83f-c72e-440c-9561-9a93c11faf8f",
      "metadata": {
        "id": "fd58b83f-c72e-440c-9561-9a93c11faf8f"
      },
      "source": [
        "Модель по данным тока, напряжения и акустике"
      ]
    },
    {
      "cell_type": "code",
      "execution_count": null,
      "id": "f24a7fc4-c69f-44c2-8d1d-7b99a2779fd1",
      "metadata": {
        "tags": [],
        "id": "f24a7fc4-c69f-44c2-8d1d-7b99a2779fd1",
        "outputId": "42b431e8-b19b-49d9-cb96-3acc9f99dc7c"
      },
      "outputs": [
        {
          "data": {
            "text/plain": [
              "0.04481649619366235"
            ]
          },
          "execution_count": 267,
          "metadata": {},
          "output_type": "execute_result"
        }
      ],
      "source": [
        "r2_score(y_test, gbc_a_volt_acoustic.predict(X_test_a_volt_acoustic))"
      ]
    },
    {
      "cell_type": "code",
      "execution_count": null,
      "id": "afdd0f19-9010-49d5-8220-4198ed1c424a",
      "metadata": {
        "id": "afdd0f19-9010-49d5-8220-4198ed1c424a",
        "outputId": "9efedeeb-6a3d-4560-e658-af8ea3e9c69d"
      },
      "outputs": [
        {
          "data": {
            "text/plain": [
              "2613752488161757.0"
            ]
          },
          "execution_count": 268,
          "metadata": {},
          "output_type": "execute_result"
        }
      ],
      "source": [
        "mean_absolute_percentage_error(y_test, gbc_a_volt_acoustic.predict(X_test_a_volt_acoustic))"
      ]
    },
    {
      "cell_type": "markdown",
      "id": "7c78e99b-ac11-4561-a525-19bcd0eabb3c",
      "metadata": {
        "id": "7c78e99b-ac11-4561-a525-19bcd0eabb3c"
      },
      "source": [
        "Остановимся на модели с аудио данными, т.к. $R^2$ в этом случае выше"
      ]
    },
    {
      "cell_type": "markdown",
      "id": "6cb1235e-abe8-4ceb-b9f7-7ab2dd72d055",
      "metadata": {
        "id": "6cb1235e-abe8-4ceb-b9f7-7ab2dd72d055"
      },
      "source": [
        "### 3.5 Анализ параметров модели"
      ]
    },
    {
      "cell_type": "markdown",
      "id": "6570cfe9-4526-4963-8eb0-1a515a07e15c",
      "metadata": {
        "id": "6570cfe9-4526-4963-8eb0-1a515a07e15c"
      },
      "source": [
        "С помощью подбора гиперпараметров и кросс-валидации найдём лучшие параметры для модели"
      ]
    },
    {
      "cell_type": "code",
      "execution_count": null,
      "id": "382392d7-4a0b-4b4d-8d44-30b73f607814",
      "metadata": {
        "id": "382392d7-4a0b-4b4d-8d44-30b73f607814"
      },
      "outputs": [],
      "source": [
        "from sklearn.model_selection import GridSearchCV"
      ]
    },
    {
      "cell_type": "code",
      "execution_count": null,
      "id": "43bb8346-dd10-439b-903f-83f3f1b8aacd",
      "metadata": {
        "id": "43bb8346-dd10-439b-903f-83f3f1b8aacd"
      },
      "outputs": [],
      "source": [
        "params = {\n",
        "    'learning_rate': np.linspace(0.1, 1, 5),\n",
        "    'n_estimators': [50, 100, 150, 200],\n",
        "    'subsample': np.linspace(0.1, 1, 5),\n",
        "    'min_samples_split': range(2, 5),\n",
        "    'min_samples_leaf': range(1, 4),\n",
        "    'max_depth': range(2, 6),\n",
        "    'random_state': [RANDOM_STATE]\n",
        "}"
      ]
    },
    {
      "cell_type": "code",
      "execution_count": null,
      "id": "66653100-2d0e-4d2c-ab0e-48af447fd756",
      "metadata": {
        "id": "66653100-2d0e-4d2c-ab0e-48af447fd756"
      },
      "outputs": [],
      "source": [
        "gscv = GridSearchCV(GradientBoostingRegressor(), param_grid=params, cv=5, n_jobs=-1, scoring='r2', verbose=1)"
      ]
    },
    {
      "cell_type": "code",
      "execution_count": null,
      "id": "a40600d9-bc39-4b3c-9748-108b4ca2aafa",
      "metadata": {
        "id": "a40600d9-bc39-4b3c-9748-108b4ca2aafa",
        "outputId": "6567c8c5-f54e-45cd-97b3-624c2aef1d65"
      },
      "outputs": [
        {
          "name": "stdout",
          "output_type": "stream",
          "text": [
            "Fitting 5 folds for each of 3600 candidates, totalling 18000 fits\n",
            "CPU times: total: 16.6 s\n",
            "Wall time: 2min 11s\n"
          ]
        },
        {
          "data": {
            "text/html": [
              "<style>#sk-container-id-7 {color: black;background-color: white;}#sk-container-id-7 pre{padding: 0;}#sk-container-id-7 div.sk-toggleable {background-color: white;}#sk-container-id-7 label.sk-toggleable__label {cursor: pointer;display: block;width: 100%;margin-bottom: 0;padding: 0.3em;box-sizing: border-box;text-align: center;}#sk-container-id-7 label.sk-toggleable__label-arrow:before {content: \"▸\";float: left;margin-right: 0.25em;color: #696969;}#sk-container-id-7 label.sk-toggleable__label-arrow:hover:before {color: black;}#sk-container-id-7 div.sk-estimator:hover label.sk-toggleable__label-arrow:before {color: black;}#sk-container-id-7 div.sk-toggleable__content {max-height: 0;max-width: 0;overflow: hidden;text-align: left;background-color: #f0f8ff;}#sk-container-id-7 div.sk-toggleable__content pre {margin: 0.2em;color: black;border-radius: 0.25em;background-color: #f0f8ff;}#sk-container-id-7 input.sk-toggleable__control:checked~div.sk-toggleable__content {max-height: 200px;max-width: 100%;overflow: auto;}#sk-container-id-7 input.sk-toggleable__control:checked~label.sk-toggleable__label-arrow:before {content: \"▾\";}#sk-container-id-7 div.sk-estimator input.sk-toggleable__control:checked~label.sk-toggleable__label {background-color: #d4ebff;}#sk-container-id-7 div.sk-label input.sk-toggleable__control:checked~label.sk-toggleable__label {background-color: #d4ebff;}#sk-container-id-7 input.sk-hidden--visually {border: 0;clip: rect(1px 1px 1px 1px);clip: rect(1px, 1px, 1px, 1px);height: 1px;margin: -1px;overflow: hidden;padding: 0;position: absolute;width: 1px;}#sk-container-id-7 div.sk-estimator {font-family: monospace;background-color: #f0f8ff;border: 1px dotted black;border-radius: 0.25em;box-sizing: border-box;margin-bottom: 0.5em;}#sk-container-id-7 div.sk-estimator:hover {background-color: #d4ebff;}#sk-container-id-7 div.sk-parallel-item::after {content: \"\";width: 100%;border-bottom: 1px solid gray;flex-grow: 1;}#sk-container-id-7 div.sk-label:hover label.sk-toggleable__label {background-color: #d4ebff;}#sk-container-id-7 div.sk-serial::before {content: \"\";position: absolute;border-left: 1px solid gray;box-sizing: border-box;top: 0;bottom: 0;left: 50%;z-index: 0;}#sk-container-id-7 div.sk-serial {display: flex;flex-direction: column;align-items: center;background-color: white;padding-right: 0.2em;padding-left: 0.2em;position: relative;}#sk-container-id-7 div.sk-item {position: relative;z-index: 1;}#sk-container-id-7 div.sk-parallel {display: flex;align-items: stretch;justify-content: center;background-color: white;position: relative;}#sk-container-id-7 div.sk-item::before, #sk-container-id-7 div.sk-parallel-item::before {content: \"\";position: absolute;border-left: 1px solid gray;box-sizing: border-box;top: 0;bottom: 0;left: 50%;z-index: -1;}#sk-container-id-7 div.sk-parallel-item {display: flex;flex-direction: column;z-index: 1;position: relative;background-color: white;}#sk-container-id-7 div.sk-parallel-item:first-child::after {align-self: flex-end;width: 50%;}#sk-container-id-7 div.sk-parallel-item:last-child::after {align-self: flex-start;width: 50%;}#sk-container-id-7 div.sk-parallel-item:only-child::after {width: 0;}#sk-container-id-7 div.sk-dashed-wrapped {border: 1px dashed gray;margin: 0 0.4em 0.5em 0.4em;box-sizing: border-box;padding-bottom: 0.4em;background-color: white;}#sk-container-id-7 div.sk-label label {font-family: monospace;font-weight: bold;display: inline-block;line-height: 1.2em;}#sk-container-id-7 div.sk-label-container {text-align: center;}#sk-container-id-7 div.sk-container {/* jupyter's `normalize.less` sets `[hidden] { display: none; }` but bootstrap.min.css set `[hidden] { display: none !important; }` so we also need the `!important` here to be able to override the default hidden behavior on the sphinx rendered scikit-learn.org. See: https://github.com/scikit-learn/scikit-learn/issues/21755 */display: inline-block !important;position: relative;}#sk-container-id-7 div.sk-text-repr-fallback {display: none;}</style><div id=\"sk-container-id-7\" class=\"sk-top-container\"><div class=\"sk-text-repr-fallback\"><pre>GridSearchCV(cv=5, estimator=GradientBoostingRegressor(), n_jobs=-1,\n",
              "             param_grid={&#x27;learning_rate&#x27;: array([0.1  , 0.325, 0.55 , 0.775, 1.   ]),\n",
              "                         &#x27;max_depth&#x27;: range(2, 6),\n",
              "                         &#x27;min_samples_leaf&#x27;: range(1, 4),\n",
              "                         &#x27;min_samples_split&#x27;: range(2, 5),\n",
              "                         &#x27;n_estimators&#x27;: [50, 100, 150, 200],\n",
              "                         &#x27;random_state&#x27;: [666],\n",
              "                         &#x27;subsample&#x27;: array([0.1  , 0.325, 0.55 , 0.775, 1.   ])},\n",
              "             scoring=&#x27;r2&#x27;, verbose=1)</pre><b>In a Jupyter environment, please rerun this cell to show the HTML representation or trust the notebook. <br />On GitHub, the HTML representation is unable to render, please try loading this page with nbviewer.org.</b></div><div class=\"sk-container\" hidden><div class=\"sk-item sk-dashed-wrapped\"><div class=\"sk-label-container\"><div class=\"sk-label sk-toggleable\"><input class=\"sk-toggleable__control sk-hidden--visually\" id=\"sk-estimator-id-11\" type=\"checkbox\" ><label for=\"sk-estimator-id-11\" class=\"sk-toggleable__label sk-toggleable__label-arrow\">GridSearchCV</label><div class=\"sk-toggleable__content\"><pre>GridSearchCV(cv=5, estimator=GradientBoostingRegressor(), n_jobs=-1,\n",
              "             param_grid={&#x27;learning_rate&#x27;: array([0.1  , 0.325, 0.55 , 0.775, 1.   ]),\n",
              "                         &#x27;max_depth&#x27;: range(2, 6),\n",
              "                         &#x27;min_samples_leaf&#x27;: range(1, 4),\n",
              "                         &#x27;min_samples_split&#x27;: range(2, 5),\n",
              "                         &#x27;n_estimators&#x27;: [50, 100, 150, 200],\n",
              "                         &#x27;random_state&#x27;: [666],\n",
              "                         &#x27;subsample&#x27;: array([0.1  , 0.325, 0.55 , 0.775, 1.   ])},\n",
              "             scoring=&#x27;r2&#x27;, verbose=1)</pre></div></div></div><div class=\"sk-parallel\"><div class=\"sk-parallel-item\"><div class=\"sk-item\"><div class=\"sk-label-container\"><div class=\"sk-label sk-toggleable\"><input class=\"sk-toggleable__control sk-hidden--visually\" id=\"sk-estimator-id-12\" type=\"checkbox\" ><label for=\"sk-estimator-id-12\" class=\"sk-toggleable__label sk-toggleable__label-arrow\">estimator: GradientBoostingRegressor</label><div class=\"sk-toggleable__content\"><pre>GradientBoostingRegressor()</pre></div></div></div><div class=\"sk-serial\"><div class=\"sk-item\"><div class=\"sk-estimator sk-toggleable\"><input class=\"sk-toggleable__control sk-hidden--visually\" id=\"sk-estimator-id-13\" type=\"checkbox\" ><label for=\"sk-estimator-id-13\" class=\"sk-toggleable__label sk-toggleable__label-arrow\">GradientBoostingRegressor</label><div class=\"sk-toggleable__content\"><pre>GradientBoostingRegressor()</pre></div></div></div></div></div></div></div></div></div></div>"
            ],
            "text/plain": [
              "GridSearchCV(cv=5, estimator=GradientBoostingRegressor(), n_jobs=-1,\n",
              "             param_grid={'learning_rate': array([0.1  , 0.325, 0.55 , 0.775, 1.   ]),\n",
              "                         'max_depth': range(2, 6),\n",
              "                         'min_samples_leaf': range(1, 4),\n",
              "                         'min_samples_split': range(2, 5),\n",
              "                         'n_estimators': [50, 100, 150, 200],\n",
              "                         'random_state': [666],\n",
              "                         'subsample': array([0.1  , 0.325, 0.55 , 0.775, 1.   ])},\n",
              "             scoring='r2', verbose=1)"
            ]
          },
          "execution_count": 272,
          "metadata": {},
          "output_type": "execute_result"
        }
      ],
      "source": [
        "%%time\n",
        "gscv.fit(X_train_acoustic, y_train)"
      ]
    },
    {
      "cell_type": "markdown",
      "id": "77f038ee-4083-44af-b1b3-c3060e98a712",
      "metadata": {
        "id": "77f038ee-4083-44af-b1b3-c3060e98a712"
      },
      "source": [
        "Наилучшие параметры для модели:"
      ]
    },
    {
      "cell_type": "code",
      "execution_count": null,
      "id": "93acffb5-6486-4259-a3ef-7a6cecf95ec6",
      "metadata": {
        "id": "93acffb5-6486-4259-a3ef-7a6cecf95ec6",
        "outputId": "b8f5348d-9e56-4fe2-9970-192df8ad25dd"
      },
      "outputs": [
        {
          "data": {
            "text/plain": [
              "{'learning_rate': 0.1,\n",
              " 'max_depth': 2,\n",
              " 'min_samples_leaf': 2,\n",
              " 'min_samples_split': 2,\n",
              " 'n_estimators': 50,\n",
              " 'random_state': 666,\n",
              " 'subsample': 1.0}"
            ]
          },
          "execution_count": 273,
          "metadata": {},
          "output_type": "execute_result"
        }
      ],
      "source": [
        "best_params = gscv.best_params_\n",
        "best_params"
      ]
    },
    {
      "cell_type": "markdown",
      "id": "ad48b5f5-0d20-482c-8bc5-6fb53ed6890c",
      "metadata": {
        "id": "ad48b5f5-0d20-482c-8bc5-6fb53ed6890c"
      },
      "source": [
        "### 3.6 Обучение и тестирование выбранной модели"
      ]
    },
    {
      "cell_type": "code",
      "execution_count": null,
      "id": "e7d95634-f506-4729-9a6b-6a15302a1d06",
      "metadata": {
        "id": "e7d95634-f506-4729-9a6b-6a15302a1d06"
      },
      "outputs": [],
      "source": [
        "best_model = GradientBoostingRegressor(**best_params)"
      ]
    },
    {
      "cell_type": "markdown",
      "id": "6302e0b7-288e-4f60-b2ef-f4df1b2afc1d",
      "metadata": {
        "id": "6302e0b7-288e-4f60-b2ef-f4df1b2afc1d"
      },
      "source": [
        "Обучаем на выборке train + test"
      ]
    },
    {
      "cell_type": "code",
      "execution_count": null,
      "id": "f3b7fb12-7232-4672-a603-b397ce68ace9",
      "metadata": {
        "id": "f3b7fb12-7232-4672-a603-b397ce68ace9"
      },
      "outputs": [],
      "source": [
        "X_train_test = exp_df[['w', 'end']].loc[free_indices]\n",
        "y_train_test = exp_df.loc[free_indices]['time']"
      ]
    },
    {
      "cell_type": "code",
      "execution_count": null,
      "id": "47e871e7-1e24-431e-846f-a310dd7a9b7b",
      "metadata": {
        "id": "47e871e7-1e24-431e-846f-a310dd7a9b7b",
        "outputId": "ca32bc33-4ff0-4280-ea68-b3856108e238"
      },
      "outputs": [
        {
          "name": "stdout",
          "output_type": "stream",
          "text": [
            "CPU times: total: 31.2 ms\n",
            "Wall time: 27 ms\n"
          ]
        },
        {
          "data": {
            "text/html": [
              "<style>#sk-container-id-8 {color: black;background-color: white;}#sk-container-id-8 pre{padding: 0;}#sk-container-id-8 div.sk-toggleable {background-color: white;}#sk-container-id-8 label.sk-toggleable__label {cursor: pointer;display: block;width: 100%;margin-bottom: 0;padding: 0.3em;box-sizing: border-box;text-align: center;}#sk-container-id-8 label.sk-toggleable__label-arrow:before {content: \"▸\";float: left;margin-right: 0.25em;color: #696969;}#sk-container-id-8 label.sk-toggleable__label-arrow:hover:before {color: black;}#sk-container-id-8 div.sk-estimator:hover label.sk-toggleable__label-arrow:before {color: black;}#sk-container-id-8 div.sk-toggleable__content {max-height: 0;max-width: 0;overflow: hidden;text-align: left;background-color: #f0f8ff;}#sk-container-id-8 div.sk-toggleable__content pre {margin: 0.2em;color: black;border-radius: 0.25em;background-color: #f0f8ff;}#sk-container-id-8 input.sk-toggleable__control:checked~div.sk-toggleable__content {max-height: 200px;max-width: 100%;overflow: auto;}#sk-container-id-8 input.sk-toggleable__control:checked~label.sk-toggleable__label-arrow:before {content: \"▾\";}#sk-container-id-8 div.sk-estimator input.sk-toggleable__control:checked~label.sk-toggleable__label {background-color: #d4ebff;}#sk-container-id-8 div.sk-label input.sk-toggleable__control:checked~label.sk-toggleable__label {background-color: #d4ebff;}#sk-container-id-8 input.sk-hidden--visually {border: 0;clip: rect(1px 1px 1px 1px);clip: rect(1px, 1px, 1px, 1px);height: 1px;margin: -1px;overflow: hidden;padding: 0;position: absolute;width: 1px;}#sk-container-id-8 div.sk-estimator {font-family: monospace;background-color: #f0f8ff;border: 1px dotted black;border-radius: 0.25em;box-sizing: border-box;margin-bottom: 0.5em;}#sk-container-id-8 div.sk-estimator:hover {background-color: #d4ebff;}#sk-container-id-8 div.sk-parallel-item::after {content: \"\";width: 100%;border-bottom: 1px solid gray;flex-grow: 1;}#sk-container-id-8 div.sk-label:hover label.sk-toggleable__label {background-color: #d4ebff;}#sk-container-id-8 div.sk-serial::before {content: \"\";position: absolute;border-left: 1px solid gray;box-sizing: border-box;top: 0;bottom: 0;left: 50%;z-index: 0;}#sk-container-id-8 div.sk-serial {display: flex;flex-direction: column;align-items: center;background-color: white;padding-right: 0.2em;padding-left: 0.2em;position: relative;}#sk-container-id-8 div.sk-item {position: relative;z-index: 1;}#sk-container-id-8 div.sk-parallel {display: flex;align-items: stretch;justify-content: center;background-color: white;position: relative;}#sk-container-id-8 div.sk-item::before, #sk-container-id-8 div.sk-parallel-item::before {content: \"\";position: absolute;border-left: 1px solid gray;box-sizing: border-box;top: 0;bottom: 0;left: 50%;z-index: -1;}#sk-container-id-8 div.sk-parallel-item {display: flex;flex-direction: column;z-index: 1;position: relative;background-color: white;}#sk-container-id-8 div.sk-parallel-item:first-child::after {align-self: flex-end;width: 50%;}#sk-container-id-8 div.sk-parallel-item:last-child::after {align-self: flex-start;width: 50%;}#sk-container-id-8 div.sk-parallel-item:only-child::after {width: 0;}#sk-container-id-8 div.sk-dashed-wrapped {border: 1px dashed gray;margin: 0 0.4em 0.5em 0.4em;box-sizing: border-box;padding-bottom: 0.4em;background-color: white;}#sk-container-id-8 div.sk-label label {font-family: monospace;font-weight: bold;display: inline-block;line-height: 1.2em;}#sk-container-id-8 div.sk-label-container {text-align: center;}#sk-container-id-8 div.sk-container {/* jupyter's `normalize.less` sets `[hidden] { display: none; }` but bootstrap.min.css set `[hidden] { display: none !important; }` so we also need the `!important` here to be able to override the default hidden behavior on the sphinx rendered scikit-learn.org. See: https://github.com/scikit-learn/scikit-learn/issues/21755 */display: inline-block !important;position: relative;}#sk-container-id-8 div.sk-text-repr-fallback {display: none;}</style><div id=\"sk-container-id-8\" class=\"sk-top-container\"><div class=\"sk-text-repr-fallback\"><pre>GradientBoostingRegressor(max_depth=2, min_samples_leaf=2, n_estimators=50,\n",
              "                          random_state=666)</pre><b>In a Jupyter environment, please rerun this cell to show the HTML representation or trust the notebook. <br />On GitHub, the HTML representation is unable to render, please try loading this page with nbviewer.org.</b></div><div class=\"sk-container\" hidden><div class=\"sk-item\"><div class=\"sk-estimator sk-toggleable\"><input class=\"sk-toggleable__control sk-hidden--visually\" id=\"sk-estimator-id-14\" type=\"checkbox\" checked><label for=\"sk-estimator-id-14\" class=\"sk-toggleable__label sk-toggleable__label-arrow\">GradientBoostingRegressor</label><div class=\"sk-toggleable__content\"><pre>GradientBoostingRegressor(max_depth=2, min_samples_leaf=2, n_estimators=50,\n",
              "                          random_state=666)</pre></div></div></div></div></div>"
            ],
            "text/plain": [
              "GradientBoostingRegressor(max_depth=2, min_samples_leaf=2, n_estimators=50,\n",
              "                          random_state=666)"
            ]
          },
          "execution_count": 276,
          "metadata": {},
          "output_type": "execute_result"
        }
      ],
      "source": [
        "%%time\n",
        "best_model.fit(X_train_test, y_train_test)"
      ]
    },
    {
      "cell_type": "markdown",
      "id": "02c0dab9-d189-4aee-a383-ab20bbabbc5a",
      "metadata": {
        "id": "02c0dab9-d189-4aee-a383-ab20bbabbc5a"
      },
      "source": [
        "Тестировать будем на валидационной выборке"
      ]
    },
    {
      "cell_type": "code",
      "execution_count": null,
      "id": "d54a234b-f9bc-4c95-a6a6-26ff0887674e",
      "metadata": {
        "tags": [],
        "id": "d54a234b-f9bc-4c95-a6a6-26ff0887674e",
        "outputId": "e6246d7a-dead-480d-e422-7b0f4ff2083c"
      },
      "outputs": [
        {
          "data": {
            "text/plain": [
              "0.27987731005440697"
            ]
          },
          "execution_count": 277,
          "metadata": {},
          "output_type": "execute_result"
        }
      ],
      "source": [
        "r2_score(y_valid, best_model.predict(X_valid_acoustic))"
      ]
    },
    {
      "cell_type": "code",
      "execution_count": null,
      "id": "905b4898-25c6-4dc3-a4d5-1bb743d3d70d",
      "metadata": {
        "id": "905b4898-25c6-4dc3-a4d5-1bb743d3d70d",
        "outputId": "d3a1a184-8526-4435-fe82-61a78deafd76"
      },
      "outputs": [
        {
          "data": {
            "text/plain": [
              "1376554476600279.2"
            ]
          },
          "execution_count": 278,
          "metadata": {},
          "output_type": "execute_result"
        }
      ],
      "source": [
        "mean_absolute_percentage_error(y_valid, best_model.predict(X_valid_acoustic))"
      ]
    },
    {
      "cell_type": "markdown",
      "id": "2e2fb28c-1a3b-475d-88b8-0ec77194d5ed",
      "metadata": {
        "id": "2e2fb28c-1a3b-475d-88b8-0ec77194d5ed"
      },
      "source": [
        "Построим кривую обучения"
      ]
    },
    {
      "cell_type": "code",
      "execution_count": null,
      "id": "f9a27bd5-6a51-44a5-8a08-0b7ec13d661b",
      "metadata": {
        "id": "f9a27bd5-6a51-44a5-8a08-0b7ec13d661b"
      },
      "outputs": [],
      "source": [
        "train_sizes_abs, train_scores, test_scores = learning_curve(\n",
        "    best_model,\n",
        "    exp_df[['w', 'end']], \n",
        "    exp_df['time'], \n",
        "    random_state=RANDOM_STATE, \n",
        "    n_jobs=-1, \n",
        "    cv=5, \n",
        "    scoring='r2'\n",
        ")"
      ]
    },
    {
      "cell_type": "code",
      "execution_count": null,
      "id": "e869472f-94e5-417b-b252-de92dde06eb9",
      "metadata": {
        "id": "e869472f-94e5-417b-b252-de92dde06eb9",
        "outputId": "b3b9e098-2f80-4bbd-cacf-64644f0807bd"
      },
      "outputs": [
        {
          "data": {
            "image/png": "[encoded data removed]",
            "text/plain": [
              "<Figure size 864x432 with 1 Axes>"
            ]
          },
          "metadata": {
            "needs_background": "light"
          },
          "output_type": "display_data"
        }
      ],
      "source": [
        "plt.figure(figsize=(12,6))\n",
        "plt.plot(np.mean(train_scores, axis=1))\n",
        "plt.plot(np.mean(test_scores, axis=1))\n",
        "plt.fill_between(np.linspace(0, 4, 5), np.min(train_scores, axis=1), np.max(train_scores, axis=1), alpha=0.2)\n",
        "plt.fill_between(np.linspace(0, 4, 5), np.min(test_scores, axis=1), np.max(test_scores, axis=1), alpha=0.2);"
      ]
    },
    {
      "cell_type": "markdown",
      "id": "d186a39e-a0d9-4b3c-80b0-0567abe2fafb",
      "metadata": {
        "id": "d186a39e-a0d9-4b3c-80b0-0567abe2fafb"
      },
      "source": [
        "На этом графике мы видим, что модель недообучена. Хорошей тактикой было бы добавление новых данных."
      ]
    },
    {
      "cell_type": "markdown",
      "id": "87330e39-0e7d-42b2-8f01-cdcb0ba2f2f4",
      "metadata": {
        "id": "87330e39-0e7d-42b2-8f01-cdcb0ba2f2f4"
      },
      "source": [
        "### 3.7 Сохранение лучшей модели"
      ]
    },
    {
      "cell_type": "code",
      "execution_count": null,
      "id": "a8381785-5282-4964-8b82-767e5778e25a",
      "metadata": {
        "id": "a8381785-5282-4964-8b82-767e5778e25a",
        "outputId": "ba54fe9c-24b7-413f-eb36-dd6f2b6d3f00"
      },
      "outputs": [
        {
          "name": "stdout",
          "output_type": "stream",
          "text": [
            "CPU times: total: 0 ns\n",
            "Wall time: 2 ms\n"
          ]
        }
      ],
      "source": [
        "%%time\n",
        "try:\n",
        "    with open('model_for_time.data', 'wb') as f:\n",
        "        pkl.dump(best_model, f)\n",
        "except Exception as e:\n",
        "    print(e)"
      ]
    },
    {
      "cell_type": "markdown",
      "id": "dc50f781-ac20-4d71-921d-6d7b8c78309a",
      "metadata": {
        "id": "dc50f781-ac20-4d71-921d-6d7b8c78309a"
      },
      "source": [
        "## 4 Выбор и настройка параметров модели регрессии для прогнозирования количества энергии, которое тратится на нагревание теплоносителя"
      ]
    },
    {
      "cell_type": "markdown",
      "id": "75484876-830e-428c-9289-739f286fab0d",
      "metadata": {
        "id": "75484876-830e-428c-9289-739f286fab0d"
      },
      "source": [
        "Отделяем объекты-цель"
      ]
    },
    {
      "cell_type": "code",
      "execution_count": null,
      "id": "c676baa4-a967-4170-8524-85816b7e70c8",
      "metadata": {
        "id": "c676baa4-a967-4170-8524-85816b7e70c8"
      },
      "outputs": [],
      "source": [
        "y_train = train_df['watt_s']\n",
        "y_test = test_df['watt_s']\n",
        "y_valid = valid_df['watt_s']"
      ]
    },
    {
      "cell_type": "code",
      "execution_count": null,
      "id": "6b0323ac-3396-47bf-aaf7-4598e133ece0",
      "metadata": {
        "id": "6b0323ac-3396-47bf-aaf7-4598e133ece0"
      },
      "outputs": [],
      "source": [
        "# для модели по акустическим данным\n",
        "X_train_acoustic = pd.DataFrame(train_df['w'])\n",
        "X_test_acoustic = pd.DataFrame(test_df['w'])\n",
        "X_valid_acoustic = pd.DataFrame(valid_df['w'])\n",
        "\n",
        "# для модели по данным тока и напряжения\n",
        "X_train_a_volt = train_df[['a', 'volt']]\n",
        "X_test_a_volt = test_df[['a', 'volt']]\n",
        "X_valid_a_volt = valid_df[['a', 'volt']]\n",
        "\n",
        "# для модели по акустическим данным, данным тока и напряжения\n",
        "X_train_a_volt_acoustic = train_df[['w', 'a', 'volt']]\n",
        "X_test_a_volt_acoustic = test_df[['w', 'a', 'volt']]\n",
        "X_valid_a_volt_acoustic = valid_df[['w', 'a', 'volt']]"
      ]
    },
    {
      "cell_type": "markdown",
      "id": "09ae6e6b-c2ea-4674-88b0-459b7be155b7",
      "metadata": {
        "id": "09ae6e6b-c2ea-4674-88b0-459b7be155b7"
      },
      "source": [
        "Обучать будем 3 модели градиентного бустинга"
      ]
    },
    {
      "cell_type": "markdown",
      "id": "2b2b9267-e7e7-435a-8632-5dd175b11ff2",
      "metadata": {
        "id": "2b2b9267-e7e7-435a-8632-5dd175b11ff2"
      },
      "source": [
        "### 4.1 Модель по акустическим данным"
      ]
    },
    {
      "cell_type": "code",
      "execution_count": null,
      "id": "b0518a6c-6d7b-4dcd-a1bb-1897899e61aa",
      "metadata": {
        "id": "b0518a6c-6d7b-4dcd-a1bb-1897899e61aa"
      },
      "outputs": [],
      "source": [
        "gbc_acoustic = GradientBoostingRegressor(random_state=RANDOM_STATE)"
      ]
    },
    {
      "cell_type": "code",
      "execution_count": null,
      "id": "83254dbd-fac6-4496-bc7a-d20e2642dee4",
      "metadata": {
        "id": "83254dbd-fac6-4496-bc7a-d20e2642dee4"
      },
      "outputs": [],
      "source": [
        "gbc_acoustic.fit(X_train_acoustic, y_train);"
      ]
    },
    {
      "cell_type": "markdown",
      "id": "a8f22194-a379-47d2-846f-815f4214179c",
      "metadata": {
        "id": "a8f22194-a379-47d2-846f-815f4214179c"
      },
      "source": [
        "### 4.2 Модель по данным тока и напряжения"
      ]
    },
    {
      "cell_type": "code",
      "execution_count": null,
      "id": "e17eee75-6b16-48be-b87a-e35928459fe0",
      "metadata": {
        "id": "e17eee75-6b16-48be-b87a-e35928459fe0"
      },
      "outputs": [],
      "source": [
        "gbc_a_volt = GradientBoostingRegressor(random_state=RANDOM_STATE)"
      ]
    },
    {
      "cell_type": "code",
      "execution_count": null,
      "id": "40b06e91-869f-47a9-8600-055a8188e085",
      "metadata": {
        "id": "40b06e91-869f-47a9-8600-055a8188e085"
      },
      "outputs": [],
      "source": [
        "gbc_a_volt.fit(X_train_a_volt, y_train);"
      ]
    },
    {
      "cell_type": "markdown",
      "id": "9b331bb0-ebeb-4fa3-a2d7-56c66a57d567",
      "metadata": {
        "id": "9b331bb0-ebeb-4fa3-a2d7-56c66a57d567"
      },
      "source": [
        "### 4.3 Модель по данным тока, напряжения и акустике"
      ]
    },
    {
      "cell_type": "code",
      "execution_count": null,
      "id": "c38deeca-6e1f-4136-a19d-c8e9ec4edf72",
      "metadata": {
        "id": "c38deeca-6e1f-4136-a19d-c8e9ec4edf72"
      },
      "outputs": [],
      "source": [
        "gbc_a_volt_acoustic = GradientBoostingRegressor(random_state=RANDOM_STATE)"
      ]
    },
    {
      "cell_type": "code",
      "execution_count": null,
      "id": "e457213b-a9d6-4352-a193-802db8bcca35",
      "metadata": {
        "id": "e457213b-a9d6-4352-a193-802db8bcca35"
      },
      "outputs": [],
      "source": [
        "gbc_a_volt_acoustic.fit(X_train_a_volt_acoustic, y_train);"
      ]
    },
    {
      "cell_type": "markdown",
      "id": "afdc30aa-9e83-4f8e-8d8c-59d60bdb5c28",
      "metadata": {
        "id": "afdc30aa-9e83-4f8e-8d8c-59d60bdb5c28"
      },
      "source": [
        "### 4.4 Cравнение моделей и оценка точности"
      ]
    },
    {
      "cell_type": "markdown",
      "id": "d349f7fc-52b8-4411-b2e4-0c7d76b7c627",
      "metadata": {
        "id": "d349f7fc-52b8-4411-b2e4-0c7d76b7c627"
      },
      "source": [
        "Сравнение будем осуществлять с помощью метрик $R^2$ и MAPE"
      ]
    },
    {
      "cell_type": "markdown",
      "id": "53a78258-26b5-4f35-856d-49df17d55106",
      "metadata": {
        "id": "53a78258-26b5-4f35-856d-49df17d55106"
      },
      "source": [
        "Модель по акустическим данным"
      ]
    },
    {
      "cell_type": "code",
      "execution_count": null,
      "id": "74f8db26-9b61-402d-b67f-eaab1731c937",
      "metadata": {
        "id": "74f8db26-9b61-402d-b67f-eaab1731c937",
        "outputId": "aabbfaa1-2c72-4469-b740-e3792981f91a"
      },
      "outputs": [
        {
          "data": {
            "text/plain": [
              "0.047481751211171486"
            ]
          },
          "execution_count": 305,
          "metadata": {},
          "output_type": "execute_result"
        }
      ],
      "source": [
        "r2_score(y_test, gbc_acoustic.predict(X_test_acoustic))"
      ]
    },
    {
      "cell_type": "code",
      "execution_count": null,
      "id": "6e4439bb-12d4-427c-823e-ee264ece2cb9",
      "metadata": {
        "id": "6e4439bb-12d4-427c-823e-ee264ece2cb9",
        "outputId": "233970b9-b210-40bd-c224-ffa66f073f5c"
      },
      "outputs": [
        {
          "data": {
            "text/plain": [
              "1.7111665381541514e+17"
            ]
          },
          "execution_count": 306,
          "metadata": {},
          "output_type": "execute_result"
        }
      ],
      "source": [
        "mean_absolute_percentage_error(y_test, gbc_acoustic.predict(X_test_acoustic))"
      ]
    },
    {
      "cell_type": "markdown",
      "id": "ea49e9c8-994f-4929-9b24-576e228ad1c2",
      "metadata": {
        "id": "ea49e9c8-994f-4929-9b24-576e228ad1c2"
      },
      "source": [
        "Модель по данным тока и напряжения"
      ]
    },
    {
      "cell_type": "code",
      "execution_count": null,
      "id": "319378fb-e9de-44d1-bc5b-d6a7f24ac0c0",
      "metadata": {
        "tags": [],
        "id": "319378fb-e9de-44d1-bc5b-d6a7f24ac0c0",
        "outputId": "5d3991d9-ecfd-4c7d-c89c-78e677dab84f"
      },
      "outputs": [
        {
          "data": {
            "text/plain": [
              "0.5496626653939688"
            ]
          },
          "execution_count": 307,
          "metadata": {},
          "output_type": "execute_result"
        }
      ],
      "source": [
        "r2_score(y_test, gbc_a_volt.predict(X_test_a_volt))"
      ]
    },
    {
      "cell_type": "code",
      "execution_count": null,
      "id": "c8975ae2-905a-4ff3-8228-5a61370e43e7",
      "metadata": {
        "id": "c8975ae2-905a-4ff3-8228-5a61370e43e7",
        "outputId": "72d7214f-3367-4dc4-9c64-f0e7da1db34c"
      },
      "outputs": [
        {
          "data": {
            "text/plain": [
              "1.265807148118703e+17"
            ]
          },
          "execution_count": 308,
          "metadata": {},
          "output_type": "execute_result"
        }
      ],
      "source": [
        "mean_absolute_percentage_error(y_test, gbc_a_volt.predict(X_test_a_volt))"
      ]
    },
    {
      "cell_type": "markdown",
      "id": "a333b35f-f6fe-4a7b-b637-d5d226f5e9c6",
      "metadata": {
        "id": "a333b35f-f6fe-4a7b-b637-d5d226f5e9c6"
      },
      "source": [
        "Модель по данным тока, напряжения и акустике"
      ]
    },
    {
      "cell_type": "code",
      "execution_count": null,
      "id": "8558ef60-09b0-49ba-9438-1629ce4c0b90",
      "metadata": {
        "tags": [],
        "id": "8558ef60-09b0-49ba-9438-1629ce4c0b90",
        "outputId": "65e82320-6d7e-4bda-e3ce-95698961ae81"
      },
      "outputs": [
        {
          "data": {
            "text/plain": [
              "0.6687758790914566"
            ]
          },
          "execution_count": 309,
          "metadata": {},
          "output_type": "execute_result"
        }
      ],
      "source": [
        "r2_score(y_test, gbc_a_volt_acoustic.predict(X_test_a_volt_acoustic))"
      ]
    },
    {
      "cell_type": "code",
      "execution_count": null,
      "id": "d57c73ac-6e14-404e-93cd-1dd8a4cc2c30",
      "metadata": {
        "id": "d57c73ac-6e14-404e-93cd-1dd8a4cc2c30",
        "outputId": "0688b507-c14d-443d-8356-76e9f177306d"
      },
      "outputs": [
        {
          "data": {
            "text/plain": [
              "9.150022899245882e+16"
            ]
          },
          "execution_count": 310,
          "metadata": {},
          "output_type": "execute_result"
        }
      ],
      "source": [
        "mean_absolute_percentage_error(y_test, gbc_a_volt_acoustic.predict(X_test_a_volt_acoustic))"
      ]
    },
    {
      "cell_type": "markdown",
      "id": "71ecb141-328e-483a-9e5b-1929995097df",
      "metadata": {
        "id": "71ecb141-328e-483a-9e5b-1929995097df"
      },
      "source": [
        "Наилучшие результаты показала **модель, построенная на данных по току, напряжению и акустике**, т.к. коэффициент детерминации ($R^2$) (оценка точности для задач регрессии) выше, а абсолютная процентная ошибка (MAPE) ниже"
      ]
    },
    {
      "cell_type": "markdown",
      "id": "5890d7bf-80a5-45b7-81d4-4499223a251a",
      "metadata": {
        "id": "5890d7bf-80a5-45b7-81d4-4499223a251a"
      },
      "source": [
        "### 4.5 Анализ параметров модели"
      ]
    },
    {
      "cell_type": "markdown",
      "id": "e5917e9d-0e48-4afd-a56d-7c18d6c88581",
      "metadata": {
        "id": "e5917e9d-0e48-4afd-a56d-7c18d6c88581"
      },
      "source": [
        "С помощью подбора гиперпараметров и кросс-валидации найдём лучшие параметры для модели"
      ]
    },
    {
      "cell_type": "code",
      "execution_count": null,
      "id": "abe39ee9-ecaf-41ac-b63a-04e61fdc46f8",
      "metadata": {
        "id": "abe39ee9-ecaf-41ac-b63a-04e61fdc46f8"
      },
      "outputs": [],
      "source": [
        "params = {\n",
        "    'learning_rate': np.linspace(0.1, 1, 5),\n",
        "    'n_estimators': [50, 100, 150, 200],\n",
        "    'subsample': np.linspace(0.1, 1, 5),\n",
        "    'min_samples_split': range(2, 5),\n",
        "    'min_samples_leaf': range(1, 4),\n",
        "    'max_depth': range(2, 6),\n",
        "    'random_state': [RANDOM_STATE]\n",
        "}"
      ]
    },
    {
      "cell_type": "code",
      "execution_count": null,
      "id": "1a255e6e-b2b6-4f91-971b-ef7b2cd73985",
      "metadata": {
        "id": "1a255e6e-b2b6-4f91-971b-ef7b2cd73985"
      },
      "outputs": [],
      "source": [
        "gscv = GridSearchCV(GradientBoostingRegressor(), param_grid=params, cv=5, n_jobs=-1, scoring='r2', verbose=1)"
      ]
    },
    {
      "cell_type": "code",
      "execution_count": null,
      "id": "ebaa5639-3f25-416a-b2a0-1e0c78210178",
      "metadata": {
        "id": "ebaa5639-3f25-416a-b2a0-1e0c78210178",
        "outputId": "307f8af8-fdc2-4447-8b32-bcbd8c2ccc7e"
      },
      "outputs": [
        {
          "name": "stdout",
          "output_type": "stream",
          "text": [
            "Fitting 5 folds for each of 3600 candidates, totalling 18000 fits\n",
            "CPU times: total: 23.2 s\n",
            "Wall time: 3min 24s\n"
          ]
        },
        {
          "data": {
            "text/html": [
              "<style>#sk-container-id-11 {color: black;background-color: white;}#sk-container-id-11 pre{padding: 0;}#sk-container-id-11 div.sk-toggleable {background-color: white;}#sk-container-id-11 label.sk-toggleable__label {cursor: pointer;display: block;width: 100%;margin-bottom: 0;padding: 0.3em;box-sizing: border-box;text-align: center;}#sk-container-id-11 label.sk-toggleable__label-arrow:before {content: \"▸\";float: left;margin-right: 0.25em;color: #696969;}#sk-container-id-11 label.sk-toggleable__label-arrow:hover:before {color: black;}#sk-container-id-11 div.sk-estimator:hover label.sk-toggleable__label-arrow:before {color: black;}#sk-container-id-11 div.sk-toggleable__content {max-height: 0;max-width: 0;overflow: hidden;text-align: left;background-color: #f0f8ff;}#sk-container-id-11 div.sk-toggleable__content pre {margin: 0.2em;color: black;border-radius: 0.25em;background-color: #f0f8ff;}#sk-container-id-11 input.sk-toggleable__control:checked~div.sk-toggleable__content {max-height: 200px;max-width: 100%;overflow: auto;}#sk-container-id-11 input.sk-toggleable__control:checked~label.sk-toggleable__label-arrow:before {content: \"▾\";}#sk-container-id-11 div.sk-estimator input.sk-toggleable__control:checked~label.sk-toggleable__label {background-color: #d4ebff;}#sk-container-id-11 div.sk-label input.sk-toggleable__control:checked~label.sk-toggleable__label {background-color: #d4ebff;}#sk-container-id-11 input.sk-hidden--visually {border: 0;clip: rect(1px 1px 1px 1px);clip: rect(1px, 1px, 1px, 1px);height: 1px;margin: -1px;overflow: hidden;padding: 0;position: absolute;width: 1px;}#sk-container-id-11 div.sk-estimator {font-family: monospace;background-color: #f0f8ff;border: 1px dotted black;border-radius: 0.25em;box-sizing: border-box;margin-bottom: 0.5em;}#sk-container-id-11 div.sk-estimator:hover {background-color: #d4ebff;}#sk-container-id-11 div.sk-parallel-item::after {content: \"\";width: 100%;border-bottom: 1px solid gray;flex-grow: 1;}#sk-container-id-11 div.sk-label:hover label.sk-toggleable__label {background-color: #d4ebff;}#sk-container-id-11 div.sk-serial::before {content: \"\";position: absolute;border-left: 1px solid gray;box-sizing: border-box;top: 0;bottom: 0;left: 50%;z-index: 0;}#sk-container-id-11 div.sk-serial {display: flex;flex-direction: column;align-items: center;background-color: white;padding-right: 0.2em;padding-left: 0.2em;position: relative;}#sk-container-id-11 div.sk-item {position: relative;z-index: 1;}#sk-container-id-11 div.sk-parallel {display: flex;align-items: stretch;justify-content: center;background-color: white;position: relative;}#sk-container-id-11 div.sk-item::before, #sk-container-id-11 div.sk-parallel-item::before {content: \"\";position: absolute;border-left: 1px solid gray;box-sizing: border-box;top: 0;bottom: 0;left: 50%;z-index: -1;}#sk-container-id-11 div.sk-parallel-item {display: flex;flex-direction: column;z-index: 1;position: relative;background-color: white;}#sk-container-id-11 div.sk-parallel-item:first-child::after {align-self: flex-end;width: 50%;}#sk-container-id-11 div.sk-parallel-item:last-child::after {align-self: flex-start;width: 50%;}#sk-container-id-11 div.sk-parallel-item:only-child::after {width: 0;}#sk-container-id-11 div.sk-dashed-wrapped {border: 1px dashed gray;margin: 0 0.4em 0.5em 0.4em;box-sizing: border-box;padding-bottom: 0.4em;background-color: white;}#sk-container-id-11 div.sk-label label {font-family: monospace;font-weight: bold;display: inline-block;line-height: 1.2em;}#sk-container-id-11 div.sk-label-container {text-align: center;}#sk-container-id-11 div.sk-container {/* jupyter's `normalize.less` sets `[hidden] { display: none; }` but bootstrap.min.css set `[hidden] { display: none !important; }` so we also need the `!important` here to be able to override the default hidden behavior on the sphinx rendered scikit-learn.org. See: https://github.com/scikit-learn/scikit-learn/issues/21755 */display: inline-block !important;position: relative;}#sk-container-id-11 div.sk-text-repr-fallback {display: none;}</style><div id=\"sk-container-id-11\" class=\"sk-top-container\"><div class=\"sk-text-repr-fallback\"><pre>GridSearchCV(cv=5, estimator=GradientBoostingRegressor(), n_jobs=-1,\n",
              "             param_grid={&#x27;learning_rate&#x27;: array([0.1  , 0.325, 0.55 , 0.775, 1.   ]),\n",
              "                         &#x27;max_depth&#x27;: range(2, 6),\n",
              "                         &#x27;min_samples_leaf&#x27;: range(1, 4),\n",
              "                         &#x27;min_samples_split&#x27;: range(2, 5),\n",
              "                         &#x27;n_estimators&#x27;: [50, 100, 150, 200],\n",
              "                         &#x27;random_state&#x27;: [666],\n",
              "                         &#x27;subsample&#x27;: array([0.1  , 0.325, 0.55 , 0.775, 1.   ])},\n",
              "             scoring=&#x27;r2&#x27;, verbose=1)</pre><b>In a Jupyter environment, please rerun this cell to show the HTML representation or trust the notebook. <br />On GitHub, the HTML representation is unable to render, please try loading this page with nbviewer.org.</b></div><div class=\"sk-container\" hidden><div class=\"sk-item sk-dashed-wrapped\"><div class=\"sk-label-container\"><div class=\"sk-label sk-toggleable\"><input class=\"sk-toggleable__control sk-hidden--visually\" id=\"sk-estimator-id-19\" type=\"checkbox\" ><label for=\"sk-estimator-id-19\" class=\"sk-toggleable__label sk-toggleable__label-arrow\">GridSearchCV</label><div class=\"sk-toggleable__content\"><pre>GridSearchCV(cv=5, estimator=GradientBoostingRegressor(), n_jobs=-1,\n",
              "             param_grid={&#x27;learning_rate&#x27;: array([0.1  , 0.325, 0.55 , 0.775, 1.   ]),\n",
              "                         &#x27;max_depth&#x27;: range(2, 6),\n",
              "                         &#x27;min_samples_leaf&#x27;: range(1, 4),\n",
              "                         &#x27;min_samples_split&#x27;: range(2, 5),\n",
              "                         &#x27;n_estimators&#x27;: [50, 100, 150, 200],\n",
              "                         &#x27;random_state&#x27;: [666],\n",
              "                         &#x27;subsample&#x27;: array([0.1  , 0.325, 0.55 , 0.775, 1.   ])},\n",
              "             scoring=&#x27;r2&#x27;, verbose=1)</pre></div></div></div><div class=\"sk-parallel\"><div class=\"sk-parallel-item\"><div class=\"sk-item\"><div class=\"sk-label-container\"><div class=\"sk-label sk-toggleable\"><input class=\"sk-toggleable__control sk-hidden--visually\" id=\"sk-estimator-id-20\" type=\"checkbox\" ><label for=\"sk-estimator-id-20\" class=\"sk-toggleable__label sk-toggleable__label-arrow\">estimator: GradientBoostingRegressor</label><div class=\"sk-toggleable__content\"><pre>GradientBoostingRegressor()</pre></div></div></div><div class=\"sk-serial\"><div class=\"sk-item\"><div class=\"sk-estimator sk-toggleable\"><input class=\"sk-toggleable__control sk-hidden--visually\" id=\"sk-estimator-id-21\" type=\"checkbox\" ><label for=\"sk-estimator-id-21\" class=\"sk-toggleable__label sk-toggleable__label-arrow\">GradientBoostingRegressor</label><div class=\"sk-toggleable__content\"><pre>GradientBoostingRegressor()</pre></div></div></div></div></div></div></div></div></div></div>"
            ],
            "text/plain": [
              "GridSearchCV(cv=5, estimator=GradientBoostingRegressor(), n_jobs=-1,\n",
              "             param_grid={'learning_rate': array([0.1  , 0.325, 0.55 , 0.775, 1.   ]),\n",
              "                         'max_depth': range(2, 6),\n",
              "                         'min_samples_leaf': range(1, 4),\n",
              "                         'min_samples_split': range(2, 5),\n",
              "                         'n_estimators': [50, 100, 150, 200],\n",
              "                         'random_state': [666],\n",
              "                         'subsample': array([0.1  , 0.325, 0.55 , 0.775, 1.   ])},\n",
              "             scoring='r2', verbose=1)"
            ]
          },
          "execution_count": 313,
          "metadata": {},
          "output_type": "execute_result"
        }
      ],
      "source": [
        "%%time\n",
        "gscv.fit(X_train_a_volt_acoustic, y_train)"
      ]
    },
    {
      "cell_type": "markdown",
      "id": "52a5e7cf-73da-42c5-82dc-967e8a0f24ae",
      "metadata": {
        "id": "52a5e7cf-73da-42c5-82dc-967e8a0f24ae"
      },
      "source": [
        "Наилучшие параметры для модели:"
      ]
    },
    {
      "cell_type": "code",
      "execution_count": null,
      "id": "f6756c55-1032-4414-bbb3-a7fee0895888",
      "metadata": {
        "id": "f6756c55-1032-4414-bbb3-a7fee0895888",
        "outputId": "0db48151-2365-402b-fae7-416a9f623714"
      },
      "outputs": [
        {
          "data": {
            "text/plain": [
              "{'learning_rate': 0.1,\n",
              " 'max_depth': 3,\n",
              " 'min_samples_leaf': 2,\n",
              " 'min_samples_split': 2,\n",
              " 'n_estimators': 100,\n",
              " 'random_state': 666,\n",
              " 'subsample': 1.0}"
            ]
          },
          "execution_count": 314,
          "metadata": {},
          "output_type": "execute_result"
        }
      ],
      "source": [
        "best_params = gscv.best_params_\n",
        "best_params"
      ]
    },
    {
      "cell_type": "markdown",
      "id": "2e28e31a-732d-4cb8-83f2-e162e47dcb53",
      "metadata": {
        "id": "2e28e31a-732d-4cb8-83f2-e162e47dcb53"
      },
      "source": [
        "### 4.6 Обучение и тестирование выбранной модели"
      ]
    },
    {
      "cell_type": "code",
      "execution_count": null,
      "id": "f788e41c-8672-4363-a344-f0f237120322",
      "metadata": {
        "id": "f788e41c-8672-4363-a344-f0f237120322"
      },
      "outputs": [],
      "source": [
        "best_model = GradientBoostingRegressor(**best_params)"
      ]
    },
    {
      "cell_type": "markdown",
      "id": "b27841ed-6883-40b0-ac78-c46a8303248e",
      "metadata": {
        "id": "b27841ed-6883-40b0-ac78-c46a8303248e"
      },
      "source": [
        "Обучаем на выборке train + test"
      ]
    },
    {
      "cell_type": "code",
      "execution_count": null,
      "id": "d4ca0d9a-e298-4bba-b33b-83ddeddd74ca",
      "metadata": {
        "id": "d4ca0d9a-e298-4bba-b33b-83ddeddd74ca"
      },
      "outputs": [],
      "source": [
        "X_train_test = exp_df[['w', 'a', 'volt']].loc[free_indices]\n",
        "y_train_test = exp_df.loc[free_indices]['watt_s']"
      ]
    },
    {
      "cell_type": "code",
      "execution_count": null,
      "id": "cfe96dc9-fa91-41df-872e-71343604c003",
      "metadata": {
        "id": "cfe96dc9-fa91-41df-872e-71343604c003",
        "outputId": "3d9ee172-4b73-48d0-f62f-13cbf718c68f"
      },
      "outputs": [
        {
          "name": "stdout",
          "output_type": "stream",
          "text": [
            "CPU times: total: 125 ms\n",
            "Wall time: 136 ms\n"
          ]
        },
        {
          "data": {
            "text/html": [
              "<style>#sk-container-id-12 {color: black;background-color: white;}#sk-container-id-12 pre{padding: 0;}#sk-container-id-12 div.sk-toggleable {background-color: white;}#sk-container-id-12 label.sk-toggleable__label {cursor: pointer;display: block;width: 100%;margin-bottom: 0;padding: 0.3em;box-sizing: border-box;text-align: center;}#sk-container-id-12 label.sk-toggleable__label-arrow:before {content: \"▸\";float: left;margin-right: 0.25em;color: #696969;}#sk-container-id-12 label.sk-toggleable__label-arrow:hover:before {color: black;}#sk-container-id-12 div.sk-estimator:hover label.sk-toggleable__label-arrow:before {color: black;}#sk-container-id-12 div.sk-toggleable__content {max-height: 0;max-width: 0;overflow: hidden;text-align: left;background-color: #f0f8ff;}#sk-container-id-12 div.sk-toggleable__content pre {margin: 0.2em;color: black;border-radius: 0.25em;background-color: #f0f8ff;}#sk-container-id-12 input.sk-toggleable__control:checked~div.sk-toggleable__content {max-height: 200px;max-width: 100%;overflow: auto;}#sk-container-id-12 input.sk-toggleable__control:checked~label.sk-toggleable__label-arrow:before {content: \"▾\";}#sk-container-id-12 div.sk-estimator input.sk-toggleable__control:checked~label.sk-toggleable__label {background-color: #d4ebff;}#sk-container-id-12 div.sk-label input.sk-toggleable__control:checked~label.sk-toggleable__label {background-color: #d4ebff;}#sk-container-id-12 input.sk-hidden--visually {border: 0;clip: rect(1px 1px 1px 1px);clip: rect(1px, 1px, 1px, 1px);height: 1px;margin: -1px;overflow: hidden;padding: 0;position: absolute;width: 1px;}#sk-container-id-12 div.sk-estimator {font-family: monospace;background-color: #f0f8ff;border: 1px dotted black;border-radius: 0.25em;box-sizing: border-box;margin-bottom: 0.5em;}#sk-container-id-12 div.sk-estimator:hover {background-color: #d4ebff;}#sk-container-id-12 div.sk-parallel-item::after {content: \"\";width: 100%;border-bottom: 1px solid gray;flex-grow: 1;}#sk-container-id-12 div.sk-label:hover label.sk-toggleable__label {background-color: #d4ebff;}#sk-container-id-12 div.sk-serial::before {content: \"\";position: absolute;border-left: 1px solid gray;box-sizing: border-box;top: 0;bottom: 0;left: 50%;z-index: 0;}#sk-container-id-12 div.sk-serial {display: flex;flex-direction: column;align-items: center;background-color: white;padding-right: 0.2em;padding-left: 0.2em;position: relative;}#sk-container-id-12 div.sk-item {position: relative;z-index: 1;}#sk-container-id-12 div.sk-parallel {display: flex;align-items: stretch;justify-content: center;background-color: white;position: relative;}#sk-container-id-12 div.sk-item::before, #sk-container-id-12 div.sk-parallel-item::before {content: \"\";position: absolute;border-left: 1px solid gray;box-sizing: border-box;top: 0;bottom: 0;left: 50%;z-index: -1;}#sk-container-id-12 div.sk-parallel-item {display: flex;flex-direction: column;z-index: 1;position: relative;background-color: white;}#sk-container-id-12 div.sk-parallel-item:first-child::after {align-self: flex-end;width: 50%;}#sk-container-id-12 div.sk-parallel-item:last-child::after {align-self: flex-start;width: 50%;}#sk-container-id-12 div.sk-parallel-item:only-child::after {width: 0;}#sk-container-id-12 div.sk-dashed-wrapped {border: 1px dashed gray;margin: 0 0.4em 0.5em 0.4em;box-sizing: border-box;padding-bottom: 0.4em;background-color: white;}#sk-container-id-12 div.sk-label label {font-family: monospace;font-weight: bold;display: inline-block;line-height: 1.2em;}#sk-container-id-12 div.sk-label-container {text-align: center;}#sk-container-id-12 div.sk-container {/* jupyter's `normalize.less` sets `[hidden] { display: none; }` but bootstrap.min.css set `[hidden] { display: none !important; }` so we also need the `!important` here to be able to override the default hidden behavior on the sphinx rendered scikit-learn.org. See: https://github.com/scikit-learn/scikit-learn/issues/21755 */display: inline-block !important;position: relative;}#sk-container-id-12 div.sk-text-repr-fallback {display: none;}</style><div id=\"sk-container-id-12\" class=\"sk-top-container\"><div class=\"sk-text-repr-fallback\"><pre>GradientBoostingRegressor(min_samples_leaf=2, random_state=666)</pre><b>In a Jupyter environment, please rerun this cell to show the HTML representation or trust the notebook. <br />On GitHub, the HTML representation is unable to render, please try loading this page with nbviewer.org.</b></div><div class=\"sk-container\" hidden><div class=\"sk-item\"><div class=\"sk-estimator sk-toggleable\"><input class=\"sk-toggleable__control sk-hidden--visually\" id=\"sk-estimator-id-22\" type=\"checkbox\" checked><label for=\"sk-estimator-id-22\" class=\"sk-toggleable__label sk-toggleable__label-arrow\">GradientBoostingRegressor</label><div class=\"sk-toggleable__content\"><pre>GradientBoostingRegressor(min_samples_leaf=2, random_state=666)</pre></div></div></div></div></div>"
            ],
            "text/plain": [
              "GradientBoostingRegressor(min_samples_leaf=2, random_state=666)"
            ]
          },
          "execution_count": 317,
          "metadata": {},
          "output_type": "execute_result"
        }
      ],
      "source": [
        "%%time\n",
        "best_model.fit(X_train_test, y_train_test)"
      ]
    },
    {
      "cell_type": "markdown",
      "id": "5666dca3-4624-4a59-a28c-b89537a3e5a3",
      "metadata": {
        "id": "5666dca3-4624-4a59-a28c-b89537a3e5a3"
      },
      "source": [
        "Тестировать будем на валидационной выборке"
      ]
    },
    {
      "cell_type": "code",
      "execution_count": null,
      "id": "5336b328-a19b-413e-90dd-45ecc4afa9a2",
      "metadata": {
        "tags": [],
        "id": "5336b328-a19b-413e-90dd-45ecc4afa9a2",
        "outputId": "3b47821c-d442-4ec8-9fe8-178a8b281b87"
      },
      "outputs": [
        {
          "data": {
            "text/plain": [
              "0.7077113747535904"
            ]
          },
          "execution_count": 318,
          "metadata": {},
          "output_type": "execute_result"
        }
      ],
      "source": [
        "r2_score(y_valid, best_model.predict(X_valid_a_volt_acoustic))"
      ]
    },
    {
      "cell_type": "code",
      "execution_count": null,
      "id": "12d0ef52-529e-47d5-a648-fa417469f88d",
      "metadata": {
        "id": "12d0ef52-529e-47d5-a648-fa417469f88d",
        "outputId": "93e1d0da-d67c-4d49-92ea-0c3080fedc2a"
      },
      "outputs": [
        {
          "data": {
            "text/plain": [
              "4.0075803923898374e+17"
            ]
          },
          "execution_count": 319,
          "metadata": {},
          "output_type": "execute_result"
        }
      ],
      "source": [
        "mean_absolute_percentage_error(y_valid, best_model.predict(X_valid_a_volt_acoustic))"
      ]
    },
    {
      "cell_type": "markdown",
      "id": "a0fb486a-ec16-4662-9c72-688f24b7c4f3",
      "metadata": {
        "id": "a0fb486a-ec16-4662-9c72-688f24b7c4f3"
      },
      "source": [
        "Построим кривую обучения"
      ]
    },
    {
      "cell_type": "code",
      "execution_count": null,
      "id": "530f882b-f5bc-424a-8c45-621dc21ff76b",
      "metadata": {
        "id": "530f882b-f5bc-424a-8c45-621dc21ff76b"
      },
      "outputs": [],
      "source": [
        "from sklearn.model_selection import learning_curve"
      ]
    },
    {
      "cell_type": "code",
      "execution_count": null,
      "id": "99dc77ce-598c-453f-a91e-90327c5144b8",
      "metadata": {
        "id": "99dc77ce-598c-453f-a91e-90327c5144b8"
      },
      "outputs": [],
      "source": [
        "train_sizes_abs, train_scores, test_scores = learning_curve(\n",
        "    best_model,\n",
        "    exp_df[['w', 'a', 'volt']], \n",
        "    exp_df['watt_s'], \n",
        "    random_state=RANDOM_STATE, \n",
        "    n_jobs=-1, \n",
        "    cv=5, \n",
        "    scoring='r2'\n",
        ")"
      ]
    },
    {
      "cell_type": "code",
      "execution_count": null,
      "id": "e2e9d842-e65b-4501-b19d-3d913a8594ff",
      "metadata": {
        "id": "e2e9d842-e65b-4501-b19d-3d913a8594ff",
        "outputId": "986ff237-1859-410b-f435-71c11a190c06"
      },
      "outputs": [
        {
          "data": {
            "image/png": "[encoded data removed]",
            "text/plain": [
              "<Figure size 864x432 with 1 Axes>"
            ]
          },
          "metadata": {
            "needs_background": "light"
          },
          "output_type": "display_data"
        }
      ],
      "source": [
        "plt.figure(figsize=(12,6))\n",
        "plt.plot(np.mean(train_scores, axis=1))\n",
        "plt.plot(np.mean(test_scores, axis=1))\n",
        "plt.fill_between(np.linspace(0, 4, 5), np.min(train_scores, axis=1), np.max(train_scores, axis=1), alpha=0.2)\n",
        "plt.fill_between(np.linspace(0, 4, 5), np.min(test_scores, axis=1), np.max(test_scores, axis=1), alpha=0.2);"
      ]
    },
    {
      "cell_type": "markdown",
      "id": "20f44611-a011-4082-b053-300b2c443166",
      "metadata": {
        "id": "20f44611-a011-4082-b053-300b2c443166"
      },
      "source": [
        "На этом графике мы видим, что модель недообучена. Хорошей тактикой было бы добавление новых данных, но таковых не предоставлено."
      ]
    },
    {
      "cell_type": "markdown",
      "id": "2d3e8bba-b511-4083-8c11-84e6117f682d",
      "metadata": {
        "id": "2d3e8bba-b511-4083-8c11-84e6117f682d"
      },
      "source": [
        "### 4.7 Сохранение лучшей модели"
      ]
    },
    {
      "cell_type": "code",
      "execution_count": null,
      "id": "ad1e5632-0b57-4f79-aedf-691cfc017647",
      "metadata": {
        "id": "ad1e5632-0b57-4f79-aedf-691cfc017647",
        "outputId": "bb8abc75-3c8e-4797-940b-eaf8de1cdff3"
      },
      "outputs": [
        {
          "name": "stdout",
          "output_type": "stream",
          "text": [
            "CPU times: total: 0 ns\n",
            "Wall time: 2.99 ms\n"
          ]
        }
      ],
      "source": [
        "%%time\n",
        "try:\n",
        "    with open('model_for_watt_s.data', 'wb') as f:\n",
        "        pkl.dump(best_model, f)\n",
        "except Exception as e:\n",
        "    print(e)"
      ]
    },
    {
      "cell_type": "markdown",
      "id": "fe722e38-b3d7-4c0a-b1d5-41fc28ed73bb",
      "metadata": {
        "id": "fe722e38-b3d7-4c0a-b1d5-41fc28ed73bb"
      },
      "source": [
        "## 5 Итоги"
      ]
    },
    {
      "cell_type": "markdown",
      "id": "c8b4612c-2e2e-429f-9bb5-dd136b45c4dd",
      "metadata": {
        "id": "c8b4612c-2e2e-429f-9bb5-dd136b45c4dd"
      },
      "source": [
        "В ходе проделанной работы было разработано 9 моделей регрессии для прогнозирования с некоторой вероятностью температуры, момента времени отключения установки, количества энергии, которое тратится на нагревание теплоносителя на основе данных по данным тока, напряжения и акустике. 3 модели были отобраны по лучшим метрикам, подобраны наилучшие гиперпараметры для них, после чего 3 модели были обучены с отобранными гиперпараметрами. Проведено тестирование новых моделей, после чего они сохранены.\n",
        "\n",
        "Все 3 модели, судя по всему, недообучены, поэтому либо нужно добавлять больше данных, либо пытаться создать модель на всех имеющихся признаках (а не только 3)."
      ]
    },
    {
      "cell_type": "code",
      "execution_count": null,
      "id": "e9b8cd71-f2e8-47af-8d5d-c3b25fe11b85",
      "metadata": {
        "id": "e9b8cd71-f2e8-47af-8d5d-c3b25fe11b85"
      },
      "outputs": [],
      "source": []
    }
  ],
  "metadata": {
    "kernelspec": {
      "display_name": "Python 3 (ipykernel)",
      "language": "python",
      "name": "python3"
    },
    "language_info": {
      "codemirror_mode": {
        "name": "ipython",
        "version": 3
      },
      "file_extension": ".py",
      "mimetype": "text/x-python",
      "name": "python",
      "nbconvert_exporter": "python",
      "pygments_lexer": "ipython3",
      "version": "3.8.8"
    },
    "colab": {
      "provenance": []
    }
  },
  "nbformat": 4,
  "nbformat_minor": 5
}